{
 "cells": [
  {
   "cell_type": "markdown",
   "id": "b4f590fd",
   "metadata": {},
   "source": [
    "# Explore Weather Trends\n",
    "This a project geared towards analysing local and global temperature data."
   ]
  },
  {
   "cell_type": "markdown",
   "id": "aa69b78a",
   "metadata": {},
   "source": [
    "## Extracting data with SQL\n",
    "\n",
    "### Looking at the dataset to understand what it contains\n",
    "\n",
    "The database contains 3 tables, **city_list**, **city_data** and **global_data**. \n",
    "* global_data: Contains the average temperature for each year. Has **2 columns**; **year** and **avg_temp** with about **266 rows**. This data is ordered by **year**.\n",
    "\n",
    "* city_list: List each city in the database along with their country. Has **2 columns**; **city** and **country** and has **342 cities** in the table.\n",
    "   \n",
    "* city_data: List the average temperature of each city in the database from **1743** to **2013**. Has 4 columns; **year**, **city**, **country** and **avg_temp** and about **70792 records**. This data is ordered by **year**.\n",
    "   \n",
    "       \n",
    "* Query: Figuring out hotest cities in the year 2013\n",
    "    \n",
    "        SELECT *, RANK() OVER (PARTITION BY year ORDER BY avg_temp DESC) temp_rank\n",
    "        FROM city_data\n",
    "        WHERE year = 2013\n",
    "        LIMIT 5;\n",
    "            \n",
    "    * Result: The cities Khartoum (Sudan), Niamey (Niger), Maiduguri (Nigeria) and Ouagadougou (Burkina Faso) has been consistent on the top 5 over the last 5 years.\n",
    "| year    | city                | country       | avg_temp       | temp_rank     |\n",
    "|---------|---------------------|---------------|----------------|---------------|\n",
    "| 2013    | Khartoum            | Sudan         | 30.65          | 1             |\n",
    "| 2013    | Niamey              | Niger         | 30.42          | 2             |\n",
    "| 2013    | Maiduguri           | Nigeria       | 29.71          | 3             |\n",
    "| 2013    | Ouagadougou         | Burkina Faso  | 29.41          | 4             |\n",
    "| 2013    | Bangkok             | Thailand      | 28.98          | 5             |\n",
    "\n",
    "\n",
    "* Query: Exporting global temperature from database. *(266 result)*\n",
    "    \n",
    "        SELECT *\n",
    "        FROM global_data;\n",
    " \n",
    "* Query: Finding closest big city to where I live from the city_list table. (I live in Osun state, Nigeria, so I would looking to find Ibadan or Lagos)\n",
    "    \n",
    "        SELECT *\n",
    "        FROM city_list\n",
    "        WHERE country = 'Nigeria';\n",
    "        \n",
    "    * Result: There are 7 Nigerain cities in the database; Abuja, Ibadan, Kaduna, Kano, Lagos, Maiduguri and Port Harcourt. Of the 7, Ibadan is close to Osun state where I live so going with that.\n",
    "    \n",
    "    \n",
    "* Query: Exporting Ibadan, Nigeria, temperatue from the database. *(158 results)*. The city of ibadan seem to have some missing data from **1863 to 1872**\n",
    "\n",
    "        SELECT year, avg_temp\n",
    "        FROM city_data\n",
    "        WHERE country = 'Nigeria' AND city = 'Ibadan';\n",
    "\n",
    "    "
   ]
  },
  {
   "cell_type": "markdown",
   "id": "2b05ba52",
   "metadata": {},
   "source": []
  }
 ],
 "metadata": {
  "kernelspec": {
   "display_name": "Python 3",
   "language": "python",
   "name": "python3"
  },
  "language_info": {
   "codemirror_mode": {
    "name": "ipython",
    "version": 3
   },
   "file_extension": ".py",
   "mimetype": "text/x-python",
   "name": "python",
   "nbconvert_exporter": "python",
   "pygments_lexer": "ipython3",
   "version": "3.8.10"
  }
 },
 "nbformat": 4,
 "nbformat_minor": 5
}
