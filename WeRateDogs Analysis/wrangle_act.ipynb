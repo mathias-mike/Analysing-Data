{
 "cells": [
  {
   "cell_type": "markdown",
   "metadata": {
    "extensions": {
     "jupyter_dashboards": {
      "version": 1,
      "views": {
       "grid_default": {
        "col": 0,
        "height": 4,
        "hidden": false,
        "row": 0,
        "width": 4
       },
       "report_default": {
        "hidden": false
       }
      }
     }
    }
   },
   "source": [
    "# Project: Wrangling and Analyze Data"
   ]
  },
  {
   "cell_type": "code",
   "execution_count": 1,
   "metadata": {},
   "outputs": [],
   "source": [
    "import numpy as np\n",
    "import pandas as pd\n",
    "import matplotlib.pyplot as plt\n",
    "import seaborn as sns\n",
    "import requests\n",
    "import io\n",
    "import tweepy\n",
    "import json\n",
    "from timeit import default_timer as timer\n",
    "import re\n",
    "import datetime\n",
    "\n",
    "%matplotlib inline"
   ]
  },
  {
   "cell_type": "markdown",
   "metadata": {},
   "source": [
    "## Data Gathering\n",
    "\n",
    "### Read the downloaded `twitter_archive_enhanced.csv` file from disk."
   ]
  },
  {
   "cell_type": "code",
   "execution_count": 2,
   "metadata": {
    "extensions": {
     "jupyter_dashboards": {
      "version": 1,
      "views": {
       "grid_default": {
        "hidden": true
       },
       "report_default": {
        "hidden": true
       }
      }
     }
    }
   },
   "outputs": [
    {
     "data": {
      "text/html": [
       "<div>\n",
       "<style scoped>\n",
       "    .dataframe tbody tr th:only-of-type {\n",
       "        vertical-align: middle;\n",
       "    }\n",
       "\n",
       "    .dataframe tbody tr th {\n",
       "        vertical-align: top;\n",
       "    }\n",
       "\n",
       "    .dataframe thead th {\n",
       "        text-align: right;\n",
       "    }\n",
       "</style>\n",
       "<table border=\"1\" class=\"dataframe\">\n",
       "  <thead>\n",
       "    <tr style=\"text-align: right;\">\n",
       "      <th></th>\n",
       "      <th>tweet_id</th>\n",
       "      <th>in_reply_to_status_id</th>\n",
       "      <th>in_reply_to_user_id</th>\n",
       "      <th>timestamp</th>\n",
       "      <th>source</th>\n",
       "      <th>text</th>\n",
       "      <th>retweeted_status_id</th>\n",
       "      <th>retweeted_status_user_id</th>\n",
       "      <th>retweeted_status_timestamp</th>\n",
       "      <th>expanded_urls</th>\n",
       "      <th>rating_numerator</th>\n",
       "      <th>rating_denominator</th>\n",
       "      <th>name</th>\n",
       "      <th>doggo</th>\n",
       "      <th>floofer</th>\n",
       "      <th>pupper</th>\n",
       "      <th>puppo</th>\n",
       "    </tr>\n",
       "  </thead>\n",
       "  <tbody>\n",
       "    <tr>\n",
       "      <th>0</th>\n",
       "      <td>892420643555336193</td>\n",
       "      <td>NaN</td>\n",
       "      <td>NaN</td>\n",
       "      <td>2017-08-01 16:23:56 +0000</td>\n",
       "      <td>&lt;a href=\"http://twitter.com/download/iphone\" r...</td>\n",
       "      <td>This is Phineas. He's a mystical boy. Only eve...</td>\n",
       "      <td>NaN</td>\n",
       "      <td>NaN</td>\n",
       "      <td>NaN</td>\n",
       "      <td>https://twitter.com/dog_rates/status/892420643...</td>\n",
       "      <td>13</td>\n",
       "      <td>10</td>\n",
       "      <td>Phineas</td>\n",
       "      <td>None</td>\n",
       "      <td>None</td>\n",
       "      <td>None</td>\n",
       "      <td>None</td>\n",
       "    </tr>\n",
       "    <tr>\n",
       "      <th>1</th>\n",
       "      <td>892177421306343426</td>\n",
       "      <td>NaN</td>\n",
       "      <td>NaN</td>\n",
       "      <td>2017-08-01 00:17:27 +0000</td>\n",
       "      <td>&lt;a href=\"http://twitter.com/download/iphone\" r...</td>\n",
       "      <td>This is Tilly. She's just checking pup on you....</td>\n",
       "      <td>NaN</td>\n",
       "      <td>NaN</td>\n",
       "      <td>NaN</td>\n",
       "      <td>https://twitter.com/dog_rates/status/892177421...</td>\n",
       "      <td>13</td>\n",
       "      <td>10</td>\n",
       "      <td>Tilly</td>\n",
       "      <td>None</td>\n",
       "      <td>None</td>\n",
       "      <td>None</td>\n",
       "      <td>None</td>\n",
       "    </tr>\n",
       "  </tbody>\n",
       "</table>\n",
       "</div>"
      ],
      "text/plain": [
       "             tweet_id  in_reply_to_status_id  in_reply_to_user_id  \\\n",
       "0  892420643555336193                    NaN                  NaN   \n",
       "1  892177421306343426                    NaN                  NaN   \n",
       "\n",
       "                   timestamp  \\\n",
       "0  2017-08-01 16:23:56 +0000   \n",
       "1  2017-08-01 00:17:27 +0000   \n",
       "\n",
       "                                              source  \\\n",
       "0  <a href=\"http://twitter.com/download/iphone\" r...   \n",
       "1  <a href=\"http://twitter.com/download/iphone\" r...   \n",
       "\n",
       "                                                text  retweeted_status_id  \\\n",
       "0  This is Phineas. He's a mystical boy. Only eve...                  NaN   \n",
       "1  This is Tilly. She's just checking pup on you....                  NaN   \n",
       "\n",
       "   retweeted_status_user_id retweeted_status_timestamp  \\\n",
       "0                       NaN                        NaN   \n",
       "1                       NaN                        NaN   \n",
       "\n",
       "                                       expanded_urls  rating_numerator  \\\n",
       "0  https://twitter.com/dog_rates/status/892420643...                13   \n",
       "1  https://twitter.com/dog_rates/status/892177421...                13   \n",
       "\n",
       "   rating_denominator     name doggo floofer pupper puppo  \n",
       "0                  10  Phineas  None    None   None  None  \n",
       "1                  10    Tilly  None    None   None  None  "
      ]
     },
     "execution_count": 2,
     "metadata": {},
     "output_type": "execute_result"
    }
   ],
   "source": [
    "df_archive = pd.read_csv('twitter_archive_enhanced.csv')\n",
    "df_archive.head(2)"
   ]
  },
  {
   "cell_type": "markdown",
   "metadata": {},
   "source": [
    "### Download `image_predications.tsv` from udacity server"
   ]
  },
  {
   "cell_type": "code",
   "execution_count": 3,
   "metadata": {},
   "outputs": [
    {
     "data": {
      "text/plain": [
       "200"
      ]
     },
     "execution_count": 3,
     "metadata": {},
     "output_type": "execute_result"
    }
   ],
   "source": [
    "# Using the request library to download 'image_predications.tsv' file online.\n",
    "image_prediction_url = 'https://d17h27t6h515a5.cloudfront.net/topher/2017/August/599fd2ad_image-predictions/image-predictions.tsv'\n",
    "response = requests.get(image_prediction_url)\n",
    "response.status_code"
   ]
  },
  {
   "cell_type": "code",
   "execution_count": 4,
   "metadata": {},
   "outputs": [
    {
     "data": {
      "text/html": [
       "<div>\n",
       "<style scoped>\n",
       "    .dataframe tbody tr th:only-of-type {\n",
       "        vertical-align: middle;\n",
       "    }\n",
       "\n",
       "    .dataframe tbody tr th {\n",
       "        vertical-align: top;\n",
       "    }\n",
       "\n",
       "    .dataframe thead th {\n",
       "        text-align: right;\n",
       "    }\n",
       "</style>\n",
       "<table border=\"1\" class=\"dataframe\">\n",
       "  <thead>\n",
       "    <tr style=\"text-align: right;\">\n",
       "      <th></th>\n",
       "      <th>tweet_id</th>\n",
       "      <th>jpg_url</th>\n",
       "      <th>img_num</th>\n",
       "      <th>p1</th>\n",
       "      <th>p1_conf</th>\n",
       "      <th>p1_dog</th>\n",
       "      <th>p2</th>\n",
       "      <th>p2_conf</th>\n",
       "      <th>p2_dog</th>\n",
       "      <th>p3</th>\n",
       "      <th>p3_conf</th>\n",
       "      <th>p3_dog</th>\n",
       "    </tr>\n",
       "  </thead>\n",
       "  <tbody>\n",
       "    <tr>\n",
       "      <th>0</th>\n",
       "      <td>666020888022790149</td>\n",
       "      <td>https://pbs.twimg.com/media/CT4udn0WwAA0aMy.jpg</td>\n",
       "      <td>1</td>\n",
       "      <td>Welsh_springer_spaniel</td>\n",
       "      <td>0.465074</td>\n",
       "      <td>True</td>\n",
       "      <td>collie</td>\n",
       "      <td>0.156665</td>\n",
       "      <td>True</td>\n",
       "      <td>Shetland_sheepdog</td>\n",
       "      <td>0.061428</td>\n",
       "      <td>True</td>\n",
       "    </tr>\n",
       "    <tr>\n",
       "      <th>1</th>\n",
       "      <td>666029285002620928</td>\n",
       "      <td>https://pbs.twimg.com/media/CT42GRgUYAA5iDo.jpg</td>\n",
       "      <td>1</td>\n",
       "      <td>redbone</td>\n",
       "      <td>0.506826</td>\n",
       "      <td>True</td>\n",
       "      <td>miniature_pinscher</td>\n",
       "      <td>0.074192</td>\n",
       "      <td>True</td>\n",
       "      <td>Rhodesian_ridgeback</td>\n",
       "      <td>0.072010</td>\n",
       "      <td>True</td>\n",
       "    </tr>\n",
       "  </tbody>\n",
       "</table>\n",
       "</div>"
      ],
      "text/plain": [
       "             tweet_id                                          jpg_url  \\\n",
       "0  666020888022790149  https://pbs.twimg.com/media/CT4udn0WwAA0aMy.jpg   \n",
       "1  666029285002620928  https://pbs.twimg.com/media/CT42GRgUYAA5iDo.jpg   \n",
       "\n",
       "   img_num                      p1   p1_conf  p1_dog                  p2  \\\n",
       "0        1  Welsh_springer_spaniel  0.465074    True              collie   \n",
       "1        1                 redbone  0.506826    True  miniature_pinscher   \n",
       "\n",
       "    p2_conf  p2_dog                   p3   p3_conf  p3_dog  \n",
       "0  0.156665    True    Shetland_sheepdog  0.061428    True  \n",
       "1  0.074192    True  Rhodesian_ridgeback  0.072010    True  "
      ]
     },
     "execution_count": 4,
     "metadata": {},
     "output_type": "execute_result"
    }
   ],
   "source": [
    "# Get text in file using response.text\n",
    "response_text = response.text\n",
    "\n",
    "# Read text data into pandas DataFrame\n",
    "df_ipred = pd.read_csv(io.StringIO(response_text), sep='\\t') # df_ipred -> dataframe_imageprediction\n",
    "df_ipred.head(2)"
   ]
  },
  {
   "cell_type": "code",
   "execution_count": 5,
   "metadata": {},
   "outputs": [
    {
     "name": "stdout",
     "output_type": "stream",
     "text": [
      "tweet_id\tjpg_url\timg_num\tp1\tp1_conf\tp1_dog\tp2\tp2_conf\tp2_dog\tp3\tp3_conf\tp3_dog\n",
      "\n"
     ]
    }
   ],
   "source": [
    "# Save text file locally to 'image_predictions.tsv'\n",
    "with open('image_predictions.tsv', 'w') as f:\n",
    "    f.write(response_text)\n",
    "    \n",
    "# Making sure file is saved\n",
    "with open('image_predictions.tsv') as f:\n",
    "    print(f.readline())"
   ]
  },
  {
   "cell_type": "markdown",
   "metadata": {},
   "source": [
    "### Using `tweepy` library to query additional data via Twitter API and save json to `tweet_json.txt`"
   ]
  },
  {
   "cell_type": "code",
   "execution_count": 6,
   "metadata": {},
   "outputs": [],
   "source": [
    "# # Authenticating tweepy api with consumer and access keys and secrets gotten from my twitter developer dashboard.\n",
    "# # Not keys and secrets not included here for security reasons.\n",
    "\n",
    "# consumer_key = 'HIDDEN'\n",
    "# consumer_secret = 'HIDDEN'\n",
    "# access_token = 'HIDDEN'\n",
    "# access_secret = 'HIDDEN'\n",
    "\n",
    "# auth = tweepy.OAuthHandler(consumer_key, consumer_secret)\n",
    "# auth.set_access_token(access_token, access_secret)\n",
    "\n",
    "# api = tweepy.API(auth, wait_on_rate_limit=True)"
   ]
  },
  {
   "cell_type": "code",
   "execution_count": 7,
   "metadata": {
    "scrolled": true
   },
   "outputs": [],
   "source": [
    "# # Downloading and saving each tweet_json in a 'tweet_json.txt' file\n",
    "# #\n",
    "# # NOTE: authenticated 'api' object has been created initially\n",
    "\n",
    "# errors = [] # A list that holds all encountered errors\n",
    "\n",
    "# timer_start = timer()\n",
    "# with open('tweet_json.txt', 'w') as f:\n",
    "#     # Looping through the tweet_ids in the df_archive dataframe and download tweet_json\n",
    "#     for index, tweet_id in enumerate(df_archive.tweet_id):\n",
    "#         try:\n",
    "#             # api.get_status(_id) returns a 'tweepy.models.Status' that I can access using the dot('.') operator\n",
    "#             # while adding a '._json' returns just the json part as a python dictionary\n",
    "#             tweet_json = api.get_status(tweet_id)._json\n",
    "\n",
    "#         except Exception as e:\n",
    "#             # Append error\n",
    "#             errors.append('{}: {}, tweeet_id: {}'.format(type(e).__name__, e.args, tweet_id))\n",
    "\n",
    "#         else:\n",
    "#             # Writing data to file\n",
    "#             json.dump(tweet_json, f)\n",
    "#             f.write('\\n')\n",
    "\n",
    "#         finally:\n",
    "#             print('index: {}, tweet_id: {}'.format(index, tweet_id))\n",
    "\n",
    "# timer_end = timer()\n",
    "# print(timer_end - timer_start)"
   ]
  },
  {
   "cell_type": "code",
   "execution_count": 8,
   "metadata": {
    "scrolled": true
   },
   "outputs": [],
   "source": [
    "# errors"
   ]
  },
  {
   "cell_type": "code",
   "execution_count": 9,
   "metadata": {},
   "outputs": [
    {
     "data": {
      "text/html": [
       "<div>\n",
       "<style scoped>\n",
       "    .dataframe tbody tr th:only-of-type {\n",
       "        vertical-align: middle;\n",
       "    }\n",
       "\n",
       "    .dataframe tbody tr th {\n",
       "        vertical-align: top;\n",
       "    }\n",
       "\n",
       "    .dataframe thead th {\n",
       "        text-align: right;\n",
       "    }\n",
       "</style>\n",
       "<table border=\"1\" class=\"dataframe\">\n",
       "  <thead>\n",
       "    <tr style=\"text-align: right;\">\n",
       "      <th></th>\n",
       "      <th>tweet_id</th>\n",
       "      <th>retweet_count</th>\n",
       "      <th>favorite_count</th>\n",
       "    </tr>\n",
       "  </thead>\n",
       "  <tbody>\n",
       "    <tr>\n",
       "      <th>0</th>\n",
       "      <td>892420643555336193</td>\n",
       "      <td>7167</td>\n",
       "      <td>34466</td>\n",
       "    </tr>\n",
       "    <tr>\n",
       "      <th>1</th>\n",
       "      <td>892177421306343426</td>\n",
       "      <td>5387</td>\n",
       "      <td>29874</td>\n",
       "    </tr>\n",
       "  </tbody>\n",
       "</table>\n",
       "</div>"
      ],
      "text/plain": [
       "             tweet_id  retweet_count  favorite_count\n",
       "0  892420643555336193           7167           34466\n",
       "1  892177421306343426           5387           29874"
      ]
     },
     "execution_count": 9,
     "metadata": {},
     "output_type": "execute_result"
    }
   ],
   "source": [
    "# Reading the 'tweet_json.txt' file into df_rt_fav\n",
    "df_rt_fav = pd.DataFrame(columns=['tweet_id', 'retweet_count', 'favorite_count'])\n",
    "\n",
    "with open('tweet_json.txt', 'r') as f:\n",
    "    for line in f:\n",
    "        data = json.loads(line)\n",
    "        tweet_json = {}\n",
    "        tweet_json['tweet_id'] = data['id']\n",
    "        tweet_json['retweet_count'] = data['retweet_count']\n",
    "        tweet_json['favorite_count'] = data['favorite_count']\n",
    "        \n",
    "        df_rt_fav = df_rt_fav.append(tweet_json, ignore_index=True)\n",
    "\n",
    "df_rt_fav = df_rt_fav.astype(np.int64)\n",
    "df_rt_fav.head(2)"
   ]
  },
  {
   "cell_type": "markdown",
   "metadata": {
    "extensions": {
     "jupyter_dashboards": {
      "version": 1,
      "views": {
       "grid_default": {
        "col": 4,
        "height": 4,
        "hidden": false,
        "row": 28,
        "width": 4
       },
       "report_default": {
        "hidden": false
       }
      }
     }
    }
   },
   "source": [
    "## Assessing Data\n",
    "### `df_archive` accessing"
   ]
  },
  {
   "cell_type": "code",
   "execution_count": 10,
   "metadata": {
    "scrolled": true
   },
   "outputs": [
    {
     "name": "stdout",
     "output_type": "stream",
     "text": [
      "<class 'pandas.core.frame.DataFrame'>\n",
      "RangeIndex: 2356 entries, 0 to 2355\n",
      "Data columns (total 17 columns):\n",
      " #   Column                      Non-Null Count  Dtype  \n",
      "---  ------                      --------------  -----  \n",
      " 0   tweet_id                    2356 non-null   int64  \n",
      " 1   in_reply_to_status_id       78 non-null     float64\n",
      " 2   in_reply_to_user_id         78 non-null     float64\n",
      " 3   timestamp                   2356 non-null   object \n",
      " 4   source                      2356 non-null   object \n",
      " 5   text                        2356 non-null   object \n",
      " 6   retweeted_status_id         181 non-null    float64\n",
      " 7   retweeted_status_user_id    181 non-null    float64\n",
      " 8   retweeted_status_timestamp  181 non-null    object \n",
      " 9   expanded_urls               2297 non-null   object \n",
      " 10  rating_numerator            2356 non-null   int64  \n",
      " 11  rating_denominator          2356 non-null   int64  \n",
      " 12  name                        2356 non-null   object \n",
      " 13  doggo                       2356 non-null   object \n",
      " 14  floofer                     2356 non-null   object \n",
      " 15  pupper                      2356 non-null   object \n",
      " 16  puppo                       2356 non-null   object \n",
      "dtypes: float64(4), int64(3), object(10)\n",
      "memory usage: 313.0+ KB\n"
     ]
    }
   ],
   "source": [
    "# I have exported the `twitter_archive_enhanced.csv` to google sheet for better visualization\n",
    "#\n",
    "# Now trying to get more about the datatypes for each columns \n",
    "df_archive.info()"
   ]
  },
  {
   "cell_type": "code",
   "execution_count": 11,
   "metadata": {},
   "outputs": [
    {
     "data": {
      "text/html": [
       "<div>\n",
       "<style scoped>\n",
       "    .dataframe tbody tr th:only-of-type {\n",
       "        vertical-align: middle;\n",
       "    }\n",
       "\n",
       "    .dataframe tbody tr th {\n",
       "        vertical-align: top;\n",
       "    }\n",
       "\n",
       "    .dataframe thead th {\n",
       "        text-align: right;\n",
       "    }\n",
       "</style>\n",
       "<table border=\"1\" class=\"dataframe\">\n",
       "  <thead>\n",
       "    <tr style=\"text-align: right;\">\n",
       "      <th></th>\n",
       "      <th>tweet_id</th>\n",
       "      <th>in_reply_to_status_id</th>\n",
       "      <th>in_reply_to_user_id</th>\n",
       "      <th>retweeted_status_id</th>\n",
       "      <th>retweeted_status_user_id</th>\n",
       "      <th>rating_numerator</th>\n",
       "      <th>rating_denominator</th>\n",
       "    </tr>\n",
       "  </thead>\n",
       "  <tbody>\n",
       "    <tr>\n",
       "      <th>count</th>\n",
       "      <td>2.356000e+03</td>\n",
       "      <td>7.800000e+01</td>\n",
       "      <td>7.800000e+01</td>\n",
       "      <td>1.810000e+02</td>\n",
       "      <td>1.810000e+02</td>\n",
       "      <td>2356.000000</td>\n",
       "      <td>2356.000000</td>\n",
       "    </tr>\n",
       "    <tr>\n",
       "      <th>mean</th>\n",
       "      <td>7.427716e+17</td>\n",
       "      <td>7.455079e+17</td>\n",
       "      <td>2.014171e+16</td>\n",
       "      <td>7.720400e+17</td>\n",
       "      <td>1.241698e+16</td>\n",
       "      <td>13.126486</td>\n",
       "      <td>10.455433</td>\n",
       "    </tr>\n",
       "    <tr>\n",
       "      <th>std</th>\n",
       "      <td>6.856705e+16</td>\n",
       "      <td>7.582492e+16</td>\n",
       "      <td>1.252797e+17</td>\n",
       "      <td>6.236928e+16</td>\n",
       "      <td>9.599254e+16</td>\n",
       "      <td>45.876648</td>\n",
       "      <td>6.745237</td>\n",
       "    </tr>\n",
       "    <tr>\n",
       "      <th>min</th>\n",
       "      <td>6.660209e+17</td>\n",
       "      <td>6.658147e+17</td>\n",
       "      <td>1.185634e+07</td>\n",
       "      <td>6.661041e+17</td>\n",
       "      <td>7.832140e+05</td>\n",
       "      <td>0.000000</td>\n",
       "      <td>0.000000</td>\n",
       "    </tr>\n",
       "    <tr>\n",
       "      <th>25%</th>\n",
       "      <td>6.783989e+17</td>\n",
       "      <td>6.757419e+17</td>\n",
       "      <td>3.086374e+08</td>\n",
       "      <td>7.186315e+17</td>\n",
       "      <td>4.196984e+09</td>\n",
       "      <td>10.000000</td>\n",
       "      <td>10.000000</td>\n",
       "    </tr>\n",
       "    <tr>\n",
       "      <th>50%</th>\n",
       "      <td>7.196279e+17</td>\n",
       "      <td>7.038708e+17</td>\n",
       "      <td>4.196984e+09</td>\n",
       "      <td>7.804657e+17</td>\n",
       "      <td>4.196984e+09</td>\n",
       "      <td>11.000000</td>\n",
       "      <td>10.000000</td>\n",
       "    </tr>\n",
       "    <tr>\n",
       "      <th>75%</th>\n",
       "      <td>7.993373e+17</td>\n",
       "      <td>8.257804e+17</td>\n",
       "      <td>4.196984e+09</td>\n",
       "      <td>8.203146e+17</td>\n",
       "      <td>4.196984e+09</td>\n",
       "      <td>12.000000</td>\n",
       "      <td>10.000000</td>\n",
       "    </tr>\n",
       "    <tr>\n",
       "      <th>max</th>\n",
       "      <td>8.924206e+17</td>\n",
       "      <td>8.862664e+17</td>\n",
       "      <td>8.405479e+17</td>\n",
       "      <td>8.874740e+17</td>\n",
       "      <td>7.874618e+17</td>\n",
       "      <td>1776.000000</td>\n",
       "      <td>170.000000</td>\n",
       "    </tr>\n",
       "  </tbody>\n",
       "</table>\n",
       "</div>"
      ],
      "text/plain": [
       "           tweet_id  in_reply_to_status_id  in_reply_to_user_id  \\\n",
       "count  2.356000e+03           7.800000e+01         7.800000e+01   \n",
       "mean   7.427716e+17           7.455079e+17         2.014171e+16   \n",
       "std    6.856705e+16           7.582492e+16         1.252797e+17   \n",
       "min    6.660209e+17           6.658147e+17         1.185634e+07   \n",
       "25%    6.783989e+17           6.757419e+17         3.086374e+08   \n",
       "50%    7.196279e+17           7.038708e+17         4.196984e+09   \n",
       "75%    7.993373e+17           8.257804e+17         4.196984e+09   \n",
       "max    8.924206e+17           8.862664e+17         8.405479e+17   \n",
       "\n",
       "       retweeted_status_id  retweeted_status_user_id  rating_numerator  \\\n",
       "count         1.810000e+02              1.810000e+02       2356.000000   \n",
       "mean          7.720400e+17              1.241698e+16         13.126486   \n",
       "std           6.236928e+16              9.599254e+16         45.876648   \n",
       "min           6.661041e+17              7.832140e+05          0.000000   \n",
       "25%           7.186315e+17              4.196984e+09         10.000000   \n",
       "50%           7.804657e+17              4.196984e+09         11.000000   \n",
       "75%           8.203146e+17              4.196984e+09         12.000000   \n",
       "max           8.874740e+17              7.874618e+17       1776.000000   \n",
       "\n",
       "       rating_denominator  \n",
       "count         2356.000000  \n",
       "mean            10.455433  \n",
       "std              6.745237  \n",
       "min              0.000000  \n",
       "25%             10.000000  \n",
       "50%             10.000000  \n",
       "75%             10.000000  \n",
       "max            170.000000  "
      ]
     },
     "execution_count": 11,
     "metadata": {},
     "output_type": "execute_result"
    }
   ],
   "source": [
    "df_archive.describe()"
   ]
  },
  {
   "cell_type": "code",
   "execution_count": 12,
   "metadata": {},
   "outputs": [],
   "source": [
    "# I can see a couple of really high numerators and denominators, let's query this and export to google sheets for a better \n",
    "# visuals of this columns.\n",
    "df_archive.query('rating_denominator > 10 or rating_numerator > 20').to_csv('data_issues.csv')"
   ]
  },
  {
   "cell_type": "code",
   "execution_count": 13,
   "metadata": {},
   "outputs": [
    {
     "data": {
      "text/plain": [
       "False    2356\n",
       "Name: tweet_id, dtype: int64"
      ]
     },
     "execution_count": 13,
     "metadata": {},
     "output_type": "execute_result"
    }
   ],
   "source": [
    "# Looking for duplicate tweets\n",
    "df_archive.tweet_id.duplicated().value_counts()"
   ]
  },
  {
   "cell_type": "code",
   "execution_count": 14,
   "metadata": {},
   "outputs": [
    {
     "data": {
      "text/plain": [
       "<a href=\"http://twitter.com/download/iphone\" rel=\"nofollow\">Twitter for iPhone</a>     2221\n",
       "<a href=\"http://vine.co\" rel=\"nofollow\">Vine - Make a Scene</a>                          91\n",
       "<a href=\"http://twitter.com\" rel=\"nofollow\">Twitter Web Client</a>                       33\n",
       "<a href=\"https://about.twitter.com/products/tweetdeck\" rel=\"nofollow\">TweetDeck</a>      11\n",
       "Name: source, dtype: int64"
      ]
     },
     "execution_count": 14,
     "metadata": {},
     "output_type": "execute_result"
    }
   ],
   "source": [
    "# View values in `source` column\n",
    "df_archive.source.value_counts()"
   ]
  },
  {
   "cell_type": "code",
   "execution_count": 15,
   "metadata": {
    "scrolled": true
   },
   "outputs": [
    {
     "data": {
      "text/plain": [
       "a               55\n",
       "actually         2\n",
       "all              1\n",
       "an               7\n",
       "by               1\n",
       "getting          2\n",
       "his              1\n",
       "incredibly       1\n",
       "infuriating      1\n",
       "just             4\n",
       "life             1\n",
       "light            1\n",
       "mad              2\n",
       "my               1\n",
       "not              2\n",
       "officially       1\n",
       "old              1\n",
       "one              4\n",
       "quite            4\n",
       "space            1\n",
       "such             1\n",
       "the              8\n",
       "this             1\n",
       "unacceptable     1\n",
       "very             5\n",
       "Name: name, dtype: int64"
      ]
     },
     "execution_count": 15,
     "metadata": {},
     "output_type": "execute_result"
    }
   ],
   "source": [
    "# Seems some lower case names are not real names\n",
    "\n",
    "# find_lower = lambda x: re.search('^[a-z]', x)[0] if re.search('^[a-z]', x) else np.nan\n",
    "# df_archive[~df_archive['name'].apply(find_lower).isnull()]['name'].value_counts().sort_index()\n",
    "\n",
    "# Better\n",
    "df_archive[df_archive['name'].str.contains('^[a-z]', regex=True)]['name'].value_counts().sort_index()"
   ]
  },
  {
   "cell_type": "code",
   "execution_count": 16,
   "metadata": {
    "scrolled": false
   },
   "outputs": [
    {
     "data": {
      "text/html": [
       "<div>\n",
       "<style scoped>\n",
       "    .dataframe tbody tr th:only-of-type {\n",
       "        vertical-align: middle;\n",
       "    }\n",
       "\n",
       "    .dataframe tbody tr th {\n",
       "        vertical-align: top;\n",
       "    }\n",
       "\n",
       "    .dataframe thead th {\n",
       "        text-align: right;\n",
       "    }\n",
       "</style>\n",
       "<table border=\"1\" class=\"dataframe\">\n",
       "  <thead>\n",
       "    <tr style=\"text-align: right;\">\n",
       "      <th></th>\n",
       "      <th>doggo</th>\n",
       "      <th>floofer</th>\n",
       "      <th>pupper</th>\n",
       "      <th>puppo</th>\n",
       "      <th>count</th>\n",
       "    </tr>\n",
       "  </thead>\n",
       "  <tbody>\n",
       "    <tr>\n",
       "      <th>0</th>\n",
       "      <td>None</td>\n",
       "      <td>None</td>\n",
       "      <td>None</td>\n",
       "      <td>None</td>\n",
       "      <td>1976</td>\n",
       "    </tr>\n",
       "    <tr>\n",
       "      <th>1</th>\n",
       "      <td>None</td>\n",
       "      <td>None</td>\n",
       "      <td>None</td>\n",
       "      <td>puppo</td>\n",
       "      <td>29</td>\n",
       "    </tr>\n",
       "    <tr>\n",
       "      <th>2</th>\n",
       "      <td>None</td>\n",
       "      <td>None</td>\n",
       "      <td>pupper</td>\n",
       "      <td>None</td>\n",
       "      <td>245</td>\n",
       "    </tr>\n",
       "    <tr>\n",
       "      <th>3</th>\n",
       "      <td>None</td>\n",
       "      <td>floofer</td>\n",
       "      <td>None</td>\n",
       "      <td>None</td>\n",
       "      <td>9</td>\n",
       "    </tr>\n",
       "    <tr>\n",
       "      <th>4</th>\n",
       "      <td>doggo</td>\n",
       "      <td>None</td>\n",
       "      <td>None</td>\n",
       "      <td>None</td>\n",
       "      <td>83</td>\n",
       "    </tr>\n",
       "    <tr>\n",
       "      <th>5</th>\n",
       "      <td>doggo</td>\n",
       "      <td>None</td>\n",
       "      <td>None</td>\n",
       "      <td>puppo</td>\n",
       "      <td>1</td>\n",
       "    </tr>\n",
       "    <tr>\n",
       "      <th>6</th>\n",
       "      <td>doggo</td>\n",
       "      <td>None</td>\n",
       "      <td>pupper</td>\n",
       "      <td>None</td>\n",
       "      <td>12</td>\n",
       "    </tr>\n",
       "    <tr>\n",
       "      <th>7</th>\n",
       "      <td>doggo</td>\n",
       "      <td>floofer</td>\n",
       "      <td>None</td>\n",
       "      <td>None</td>\n",
       "      <td>1</td>\n",
       "    </tr>\n",
       "  </tbody>\n",
       "</table>\n",
       "</div>"
      ],
      "text/plain": [
       "   doggo  floofer  pupper  puppo  count\n",
       "0   None     None    None   None   1976\n",
       "1   None     None    None  puppo     29\n",
       "2   None     None  pupper   None    245\n",
       "3   None  floofer    None   None      9\n",
       "4  doggo     None    None   None     83\n",
       "5  doggo     None    None  puppo      1\n",
       "6  doggo     None  pupper   None     12\n",
       "7  doggo  floofer    None   None      1"
      ]
     },
     "execution_count": 16,
     "metadata": {},
     "output_type": "execute_result"
    }
   ],
   "source": [
    "# Accessing dog stage columns\n",
    "stage_list = ['doggo', 'floofer', 'pupper', 'puppo']\n",
    "df_archive.groupby(stage_list).size().reset_index(level=stage_list, name='count')"
   ]
  },
  {
   "cell_type": "markdown",
   "metadata": {},
   "source": [
    "### `df_ipred` accessing"
   ]
  },
  {
   "cell_type": "code",
   "execution_count": 17,
   "metadata": {
    "scrolled": false
   },
   "outputs": [
    {
     "data": {
      "text/html": [
       "<div>\n",
       "<style scoped>\n",
       "    .dataframe tbody tr th:only-of-type {\n",
       "        vertical-align: middle;\n",
       "    }\n",
       "\n",
       "    .dataframe tbody tr th {\n",
       "        vertical-align: top;\n",
       "    }\n",
       "\n",
       "    .dataframe thead th {\n",
       "        text-align: right;\n",
       "    }\n",
       "</style>\n",
       "<table border=\"1\" class=\"dataframe\">\n",
       "  <thead>\n",
       "    <tr style=\"text-align: right;\">\n",
       "      <th></th>\n",
       "      <th>tweet_id</th>\n",
       "      <th>jpg_url</th>\n",
       "      <th>img_num</th>\n",
       "      <th>p1</th>\n",
       "      <th>p1_conf</th>\n",
       "      <th>p1_dog</th>\n",
       "      <th>p2</th>\n",
       "      <th>p2_conf</th>\n",
       "      <th>p2_dog</th>\n",
       "      <th>p3</th>\n",
       "      <th>p3_conf</th>\n",
       "      <th>p3_dog</th>\n",
       "    </tr>\n",
       "  </thead>\n",
       "  <tbody>\n",
       "    <tr>\n",
       "      <th>1016</th>\n",
       "      <td>709901256215666688</td>\n",
       "      <td>https://pbs.twimg.com/media/CdoTbL_XIAAitq2.jpg</td>\n",
       "      <td>2</td>\n",
       "      <td>bib</td>\n",
       "      <td>0.998814</td>\n",
       "      <td>False</td>\n",
       "      <td>handkerchief</td>\n",
       "      <td>0.000512</td>\n",
       "      <td>False</td>\n",
       "      <td>umbrella</td>\n",
       "      <td>0.000224</td>\n",
       "      <td>False</td>\n",
       "    </tr>\n",
       "    <tr>\n",
       "      <th>83</th>\n",
       "      <td>667495797102141441</td>\n",
       "      <td>https://pbs.twimg.com/media/CUNr4-7UwAAg2lq.jpg</td>\n",
       "      <td>1</td>\n",
       "      <td>Chihuahua</td>\n",
       "      <td>0.143957</td>\n",
       "      <td>True</td>\n",
       "      <td>Christmas_stocking</td>\n",
       "      <td>0.118651</td>\n",
       "      <td>False</td>\n",
       "      <td>ski_mask</td>\n",
       "      <td>0.092482</td>\n",
       "      <td>False</td>\n",
       "    </tr>\n",
       "    <tr>\n",
       "      <th>849</th>\n",
       "      <td>695629776980148225</td>\n",
       "      <td>https://pbs.twimg.com/media/Cadfl6zWcAEZqIW.jpg</td>\n",
       "      <td>1</td>\n",
       "      <td>Old_English_sheepdog</td>\n",
       "      <td>0.693857</td>\n",
       "      <td>True</td>\n",
       "      <td>otterhound</td>\n",
       "      <td>0.232117</td>\n",
       "      <td>True</td>\n",
       "      <td>West_Highland_white_terrier</td>\n",
       "      <td>0.012867</td>\n",
       "      <td>True</td>\n",
       "    </tr>\n",
       "    <tr>\n",
       "      <th>559</th>\n",
       "      <td>677700003327029250</td>\n",
       "      <td>https://pbs.twimg.com/media/CWesj06W4AAIKl8.jpg</td>\n",
       "      <td>1</td>\n",
       "      <td>Siberian_husky</td>\n",
       "      <td>0.120849</td>\n",
       "      <td>True</td>\n",
       "      <td>junco</td>\n",
       "      <td>0.079206</td>\n",
       "      <td>False</td>\n",
       "      <td>malamute</td>\n",
       "      <td>0.063088</td>\n",
       "      <td>True</td>\n",
       "    </tr>\n",
       "    <tr>\n",
       "      <th>1289</th>\n",
       "      <td>751251247299190784</td>\n",
       "      <td>https://pbs.twimg.com/ext_tw_video_thumb/75125...</td>\n",
       "      <td>1</td>\n",
       "      <td>Walker_hound</td>\n",
       "      <td>0.178852</td>\n",
       "      <td>True</td>\n",
       "      <td>German_short-haired_pointer</td>\n",
       "      <td>0.115752</td>\n",
       "      <td>True</td>\n",
       "      <td>English_foxhound</td>\n",
       "      <td>0.113796</td>\n",
       "      <td>True</td>\n",
       "    </tr>\n",
       "    <tr>\n",
       "      <th>1366</th>\n",
       "      <td>761672994376806400</td>\n",
       "      <td>https://pbs.twimg.com/ext_tw_video_thumb/76167...</td>\n",
       "      <td>1</td>\n",
       "      <td>gondola</td>\n",
       "      <td>0.318851</td>\n",
       "      <td>False</td>\n",
       "      <td>sea_lion</td>\n",
       "      <td>0.306525</td>\n",
       "      <td>False</td>\n",
       "      <td>pool_table</td>\n",
       "      <td>0.111565</td>\n",
       "      <td>False</td>\n",
       "    </tr>\n",
       "    <tr>\n",
       "      <th>1480</th>\n",
       "      <td>780858289093574656</td>\n",
       "      <td>https://pbs.twimg.com/media/CtYqeNHWgAATqYZ.jpg</td>\n",
       "      <td>1</td>\n",
       "      <td>Chesapeake_Bay_retriever</td>\n",
       "      <td>0.488555</td>\n",
       "      <td>True</td>\n",
       "      <td>Sussex_spaniel</td>\n",
       "      <td>0.271655</td>\n",
       "      <td>True</td>\n",
       "      <td>kelpie</td>\n",
       "      <td>0.106913</td>\n",
       "      <td>True</td>\n",
       "    </tr>\n",
       "    <tr>\n",
       "      <th>831</th>\n",
       "      <td>693642232151285760</td>\n",
       "      <td>https://pbs.twimg.com/media/CaBP7i9W0AAJrIs.jpg</td>\n",
       "      <td>1</td>\n",
       "      <td>Scottish_deerhound</td>\n",
       "      <td>0.111893</td>\n",
       "      <td>True</td>\n",
       "      <td>bluetick</td>\n",
       "      <td>0.074302</td>\n",
       "      <td>True</td>\n",
       "      <td>German_short-haired_pointer</td>\n",
       "      <td>0.067000</td>\n",
       "      <td>True</td>\n",
       "    </tr>\n",
       "    <tr>\n",
       "      <th>807</th>\n",
       "      <td>692017291282812928</td>\n",
       "      <td>https://pbs.twimg.com/media/CZqKDZTVIAEvtbc.jpg</td>\n",
       "      <td>1</td>\n",
       "      <td>Tibetan_terrier</td>\n",
       "      <td>0.247565</td>\n",
       "      <td>True</td>\n",
       "      <td>cocker_spaniel</td>\n",
       "      <td>0.121377</td>\n",
       "      <td>True</td>\n",
       "      <td>bow_tie</td>\n",
       "      <td>0.099363</td>\n",
       "      <td>False</td>\n",
       "    </tr>\n",
       "    <tr>\n",
       "      <th>1562</th>\n",
       "      <td>793500921481273345</td>\n",
       "      <td>https://pbs.twimg.com/media/CwMU34YWIAAz1nU.jpg</td>\n",
       "      <td>2</td>\n",
       "      <td>golden_retriever</td>\n",
       "      <td>0.326122</td>\n",
       "      <td>True</td>\n",
       "      <td>Labrador_retriever</td>\n",
       "      <td>0.219904</td>\n",
       "      <td>True</td>\n",
       "      <td>Chesapeake_Bay_retriever</td>\n",
       "      <td>0.163366</td>\n",
       "      <td>True</td>\n",
       "    </tr>\n",
       "  </tbody>\n",
       "</table>\n",
       "</div>"
      ],
      "text/plain": [
       "                tweet_id                                            jpg_url  \\\n",
       "1016  709901256215666688    https://pbs.twimg.com/media/CdoTbL_XIAAitq2.jpg   \n",
       "83    667495797102141441    https://pbs.twimg.com/media/CUNr4-7UwAAg2lq.jpg   \n",
       "849   695629776980148225    https://pbs.twimg.com/media/Cadfl6zWcAEZqIW.jpg   \n",
       "559   677700003327029250    https://pbs.twimg.com/media/CWesj06W4AAIKl8.jpg   \n",
       "1289  751251247299190784  https://pbs.twimg.com/ext_tw_video_thumb/75125...   \n",
       "1366  761672994376806400  https://pbs.twimg.com/ext_tw_video_thumb/76167...   \n",
       "1480  780858289093574656    https://pbs.twimg.com/media/CtYqeNHWgAATqYZ.jpg   \n",
       "831   693642232151285760    https://pbs.twimg.com/media/CaBP7i9W0AAJrIs.jpg   \n",
       "807   692017291282812928    https://pbs.twimg.com/media/CZqKDZTVIAEvtbc.jpg   \n",
       "1562  793500921481273345    https://pbs.twimg.com/media/CwMU34YWIAAz1nU.jpg   \n",
       "\n",
       "      img_num                        p1   p1_conf  p1_dog  \\\n",
       "1016        2                       bib  0.998814   False   \n",
       "83          1                 Chihuahua  0.143957    True   \n",
       "849         1      Old_English_sheepdog  0.693857    True   \n",
       "559         1            Siberian_husky  0.120849    True   \n",
       "1289        1              Walker_hound  0.178852    True   \n",
       "1366        1                   gondola  0.318851   False   \n",
       "1480        1  Chesapeake_Bay_retriever  0.488555    True   \n",
       "831         1        Scottish_deerhound  0.111893    True   \n",
       "807         1           Tibetan_terrier  0.247565    True   \n",
       "1562        2          golden_retriever  0.326122    True   \n",
       "\n",
       "                               p2   p2_conf  p2_dog  \\\n",
       "1016                 handkerchief  0.000512   False   \n",
       "83             Christmas_stocking  0.118651   False   \n",
       "849                    otterhound  0.232117    True   \n",
       "559                         junco  0.079206   False   \n",
       "1289  German_short-haired_pointer  0.115752    True   \n",
       "1366                     sea_lion  0.306525   False   \n",
       "1480               Sussex_spaniel  0.271655    True   \n",
       "831                      bluetick  0.074302    True   \n",
       "807                cocker_spaniel  0.121377    True   \n",
       "1562           Labrador_retriever  0.219904    True   \n",
       "\n",
       "                               p3   p3_conf  p3_dog  \n",
       "1016                     umbrella  0.000224   False  \n",
       "83                       ski_mask  0.092482   False  \n",
       "849   West_Highland_white_terrier  0.012867    True  \n",
       "559                      malamute  0.063088    True  \n",
       "1289             English_foxhound  0.113796    True  \n",
       "1366                   pool_table  0.111565   False  \n",
       "1480                       kelpie  0.106913    True  \n",
       "831   German_short-haired_pointer  0.067000    True  \n",
       "807                       bow_tie  0.099363   False  \n",
       "1562     Chesapeake_Bay_retriever  0.163366    True  "
      ]
     },
     "execution_count": 17,
     "metadata": {},
     "output_type": "execute_result"
    }
   ],
   "source": [
    "# Visualing a sample of df_ipred DataFrame\n",
    "df_ipred.sample(10)"
   ]
  },
  {
   "cell_type": "code",
   "execution_count": 18,
   "metadata": {
    "scrolled": false
   },
   "outputs": [
    {
     "name": "stdout",
     "output_type": "stream",
     "text": [
      "<class 'pandas.core.frame.DataFrame'>\n",
      "RangeIndex: 2075 entries, 0 to 2074\n",
      "Data columns (total 12 columns):\n",
      " #   Column    Non-Null Count  Dtype  \n",
      "---  ------    --------------  -----  \n",
      " 0   tweet_id  2075 non-null   int64  \n",
      " 1   jpg_url   2075 non-null   object \n",
      " 2   img_num   2075 non-null   int64  \n",
      " 3   p1        2075 non-null   object \n",
      " 4   p1_conf   2075 non-null   float64\n",
      " 5   p1_dog    2075 non-null   bool   \n",
      " 6   p2        2075 non-null   object \n",
      " 7   p2_conf   2075 non-null   float64\n",
      " 8   p2_dog    2075 non-null   bool   \n",
      " 9   p3        2075 non-null   object \n",
      " 10  p3_conf   2075 non-null   float64\n",
      " 11  p3_dog    2075 non-null   bool   \n",
      "dtypes: bool(3), float64(3), int64(2), object(4)\n",
      "memory usage: 152.1+ KB\n"
     ]
    }
   ],
   "source": [
    "df_ipred.info()"
   ]
  },
  {
   "cell_type": "code",
   "execution_count": 19,
   "metadata": {
    "scrolled": true
   },
   "outputs": [
    {
     "data": {
      "text/html": [
       "<div>\n",
       "<style scoped>\n",
       "    .dataframe tbody tr th:only-of-type {\n",
       "        vertical-align: middle;\n",
       "    }\n",
       "\n",
       "    .dataframe tbody tr th {\n",
       "        vertical-align: top;\n",
       "    }\n",
       "\n",
       "    .dataframe thead th {\n",
       "        text-align: right;\n",
       "    }\n",
       "</style>\n",
       "<table border=\"1\" class=\"dataframe\">\n",
       "  <thead>\n",
       "    <tr style=\"text-align: right;\">\n",
       "      <th></th>\n",
       "      <th>tweet_id</th>\n",
       "      <th>img_num</th>\n",
       "      <th>p1_conf</th>\n",
       "      <th>p2_conf</th>\n",
       "      <th>p3_conf</th>\n",
       "    </tr>\n",
       "  </thead>\n",
       "  <tbody>\n",
       "    <tr>\n",
       "      <th>count</th>\n",
       "      <td>2.075000e+03</td>\n",
       "      <td>2075.000000</td>\n",
       "      <td>2075.000000</td>\n",
       "      <td>2.075000e+03</td>\n",
       "      <td>2.075000e+03</td>\n",
       "    </tr>\n",
       "    <tr>\n",
       "      <th>mean</th>\n",
       "      <td>7.384514e+17</td>\n",
       "      <td>1.203855</td>\n",
       "      <td>0.594548</td>\n",
       "      <td>1.345886e-01</td>\n",
       "      <td>6.032417e-02</td>\n",
       "    </tr>\n",
       "    <tr>\n",
       "      <th>std</th>\n",
       "      <td>6.785203e+16</td>\n",
       "      <td>0.561875</td>\n",
       "      <td>0.271174</td>\n",
       "      <td>1.006657e-01</td>\n",
       "      <td>5.090593e-02</td>\n",
       "    </tr>\n",
       "    <tr>\n",
       "      <th>min</th>\n",
       "      <td>6.660209e+17</td>\n",
       "      <td>1.000000</td>\n",
       "      <td>0.044333</td>\n",
       "      <td>1.011300e-08</td>\n",
       "      <td>1.740170e-10</td>\n",
       "    </tr>\n",
       "    <tr>\n",
       "      <th>25%</th>\n",
       "      <td>6.764835e+17</td>\n",
       "      <td>1.000000</td>\n",
       "      <td>0.364412</td>\n",
       "      <td>5.388625e-02</td>\n",
       "      <td>1.622240e-02</td>\n",
       "    </tr>\n",
       "    <tr>\n",
       "      <th>50%</th>\n",
       "      <td>7.119988e+17</td>\n",
       "      <td>1.000000</td>\n",
       "      <td>0.588230</td>\n",
       "      <td>1.181810e-01</td>\n",
       "      <td>4.944380e-02</td>\n",
       "    </tr>\n",
       "    <tr>\n",
       "      <th>75%</th>\n",
       "      <td>7.932034e+17</td>\n",
       "      <td>1.000000</td>\n",
       "      <td>0.843855</td>\n",
       "      <td>1.955655e-01</td>\n",
       "      <td>9.180755e-02</td>\n",
       "    </tr>\n",
       "    <tr>\n",
       "      <th>max</th>\n",
       "      <td>8.924206e+17</td>\n",
       "      <td>4.000000</td>\n",
       "      <td>1.000000</td>\n",
       "      <td>4.880140e-01</td>\n",
       "      <td>2.734190e-01</td>\n",
       "    </tr>\n",
       "  </tbody>\n",
       "</table>\n",
       "</div>"
      ],
      "text/plain": [
       "           tweet_id      img_num      p1_conf       p2_conf       p3_conf\n",
       "count  2.075000e+03  2075.000000  2075.000000  2.075000e+03  2.075000e+03\n",
       "mean   7.384514e+17     1.203855     0.594548  1.345886e-01  6.032417e-02\n",
       "std    6.785203e+16     0.561875     0.271174  1.006657e-01  5.090593e-02\n",
       "min    6.660209e+17     1.000000     0.044333  1.011300e-08  1.740170e-10\n",
       "25%    6.764835e+17     1.000000     0.364412  5.388625e-02  1.622240e-02\n",
       "50%    7.119988e+17     1.000000     0.588230  1.181810e-01  4.944380e-02\n",
       "75%    7.932034e+17     1.000000     0.843855  1.955655e-01  9.180755e-02\n",
       "max    8.924206e+17     4.000000     1.000000  4.880140e-01  2.734190e-01"
      ]
     },
     "execution_count": 19,
     "metadata": {},
     "output_type": "execute_result"
    }
   ],
   "source": [
    "df_ipred.describe()"
   ]
  },
  {
   "cell_type": "code",
   "execution_count": 20,
   "metadata": {},
   "outputs": [
    {
     "data": {
      "text/plain": [
       "False    2075\n",
       "Name: tweet_id, dtype: int64"
      ]
     },
     "execution_count": 20,
     "metadata": {},
     "output_type": "execute_result"
    }
   ],
   "source": [
    "# Looking for duplicate tweets\n",
    "df_ipred.tweet_id.duplicated().value_counts()"
   ]
  },
  {
   "cell_type": "markdown",
   "metadata": {},
   "source": [
    "### `df_rt_fav` accessing"
   ]
  },
  {
   "cell_type": "code",
   "execution_count": 21,
   "metadata": {
    "scrolled": true
   },
   "outputs": [
    {
     "data": {
      "text/html": [
       "<div>\n",
       "<style scoped>\n",
       "    .dataframe tbody tr th:only-of-type {\n",
       "        vertical-align: middle;\n",
       "    }\n",
       "\n",
       "    .dataframe tbody tr th {\n",
       "        vertical-align: top;\n",
       "    }\n",
       "\n",
       "    .dataframe thead th {\n",
       "        text-align: right;\n",
       "    }\n",
       "</style>\n",
       "<table border=\"1\" class=\"dataframe\">\n",
       "  <thead>\n",
       "    <tr style=\"text-align: right;\">\n",
       "      <th></th>\n",
       "      <th>tweet_id</th>\n",
       "      <th>retweet_count</th>\n",
       "      <th>favorite_count</th>\n",
       "    </tr>\n",
       "  </thead>\n",
       "  <tbody>\n",
       "    <tr>\n",
       "      <th>2281</th>\n",
       "      <td>666786068205871104</td>\n",
       "      <td>423</td>\n",
       "      <td>672</td>\n",
       "    </tr>\n",
       "    <tr>\n",
       "      <th>1930</th>\n",
       "      <td>673576835670777856</td>\n",
       "      <td>503</td>\n",
       "      <td>1262</td>\n",
       "    </tr>\n",
       "    <tr>\n",
       "      <th>1933</th>\n",
       "      <td>673355879178194945</td>\n",
       "      <td>510</td>\n",
       "      <td>1374</td>\n",
       "    </tr>\n",
       "    <tr>\n",
       "      <th>1230</th>\n",
       "      <td>710283270106132480</td>\n",
       "      <td>491</td>\n",
       "      <td>2046</td>\n",
       "    </tr>\n",
       "    <tr>\n",
       "      <th>1522</th>\n",
       "      <td>689154315265683456</td>\n",
       "      <td>923</td>\n",
       "      <td>2922</td>\n",
       "    </tr>\n",
       "    <tr>\n",
       "      <th>2147</th>\n",
       "      <td>669203728096960512</td>\n",
       "      <td>417</td>\n",
       "      <td>914</td>\n",
       "    </tr>\n",
       "    <tr>\n",
       "      <th>396</th>\n",
       "      <td>822872901745569793</td>\n",
       "      <td>40913</td>\n",
       "      <td>126557</td>\n",
       "    </tr>\n",
       "    <tr>\n",
       "      <th>469</th>\n",
       "      <td>814530161257443328</td>\n",
       "      <td>1770</td>\n",
       "      <td>8352</td>\n",
       "    </tr>\n",
       "    <tr>\n",
       "      <th>688</th>\n",
       "      <td>785515384317313025</td>\n",
       "      <td>1199</td>\n",
       "      <td>5930</td>\n",
       "    </tr>\n",
       "    <tr>\n",
       "      <th>1059</th>\n",
       "      <td>738156290900254721</td>\n",
       "      <td>594</td>\n",
       "      <td>2344</td>\n",
       "    </tr>\n",
       "  </tbody>\n",
       "</table>\n",
       "</div>"
      ],
      "text/plain": [
       "                tweet_id  retweet_count  favorite_count\n",
       "2281  666786068205871104            423             672\n",
       "1930  673576835670777856            503            1262\n",
       "1933  673355879178194945            510            1374\n",
       "1230  710283270106132480            491            2046\n",
       "1522  689154315265683456            923            2922\n",
       "2147  669203728096960512            417             914\n",
       "396   822872901745569793          40913          126557\n",
       "469   814530161257443328           1770            8352\n",
       "688   785515384317313025           1199            5930\n",
       "1059  738156290900254721            594            2344"
      ]
     },
     "execution_count": 21,
     "metadata": {},
     "output_type": "execute_result"
    }
   ],
   "source": [
    "# Visualizing 10 sample from df_rt_fav DataFrame\n",
    "df_rt_fav.sample(10)"
   ]
  },
  {
   "cell_type": "code",
   "execution_count": 22,
   "metadata": {},
   "outputs": [
    {
     "name": "stdout",
     "output_type": "stream",
     "text": [
      "<class 'pandas.core.frame.DataFrame'>\n",
      "RangeIndex: 2327 entries, 0 to 2326\n",
      "Data columns (total 3 columns):\n",
      " #   Column          Non-Null Count  Dtype\n",
      "---  ------          --------------  -----\n",
      " 0   tweet_id        2327 non-null   int64\n",
      " 1   retweet_count   2327 non-null   int64\n",
      " 2   favorite_count  2327 non-null   int64\n",
      "dtypes: int64(3)\n",
      "memory usage: 54.7 KB\n"
     ]
    }
   ],
   "source": [
    "df_rt_fav.info()"
   ]
  },
  {
   "cell_type": "code",
   "execution_count": 23,
   "metadata": {},
   "outputs": [
    {
     "data": {
      "text/html": [
       "<div>\n",
       "<style scoped>\n",
       "    .dataframe tbody tr th:only-of-type {\n",
       "        vertical-align: middle;\n",
       "    }\n",
       "\n",
       "    .dataframe tbody tr th {\n",
       "        vertical-align: top;\n",
       "    }\n",
       "\n",
       "    .dataframe thead th {\n",
       "        text-align: right;\n",
       "    }\n",
       "</style>\n",
       "<table border=\"1\" class=\"dataframe\">\n",
       "  <thead>\n",
       "    <tr style=\"text-align: right;\">\n",
       "      <th></th>\n",
       "      <th>tweet_id</th>\n",
       "      <th>retweet_count</th>\n",
       "      <th>favorite_count</th>\n",
       "    </tr>\n",
       "  </thead>\n",
       "  <tbody>\n",
       "    <tr>\n",
       "      <th>count</th>\n",
       "      <td>2.327000e+03</td>\n",
       "      <td>2327.000000</td>\n",
       "      <td>2327.000000</td>\n",
       "    </tr>\n",
       "    <tr>\n",
       "      <th>mean</th>\n",
       "      <td>7.418335e+17</td>\n",
       "      <td>2529.240653</td>\n",
       "      <td>7196.353674</td>\n",
       "    </tr>\n",
       "    <tr>\n",
       "      <th>std</th>\n",
       "      <td>6.824532e+16</td>\n",
       "      <td>4281.352850</td>\n",
       "      <td>11176.171705</td>\n",
       "    </tr>\n",
       "    <tr>\n",
       "      <th>min</th>\n",
       "      <td>6.660209e+17</td>\n",
       "      <td>1.000000</td>\n",
       "      <td>0.000000</td>\n",
       "    </tr>\n",
       "    <tr>\n",
       "      <th>25%</th>\n",
       "      <td>6.781394e+17</td>\n",
       "      <td>511.500000</td>\n",
       "      <td>1250.000000</td>\n",
       "    </tr>\n",
       "    <tr>\n",
       "      <th>50%</th>\n",
       "      <td>7.178418e+17</td>\n",
       "      <td>1178.000000</td>\n",
       "      <td>3114.000000</td>\n",
       "    </tr>\n",
       "    <tr>\n",
       "      <th>75%</th>\n",
       "      <td>7.986692e+17</td>\n",
       "      <td>2925.500000</td>\n",
       "      <td>8780.500000</td>\n",
       "    </tr>\n",
       "    <tr>\n",
       "      <th>max</th>\n",
       "      <td>8.924206e+17</td>\n",
       "      <td>72461.000000</td>\n",
       "      <td>147735.000000</td>\n",
       "    </tr>\n",
       "  </tbody>\n",
       "</table>\n",
       "</div>"
      ],
      "text/plain": [
       "           tweet_id  retweet_count  favorite_count\n",
       "count  2.327000e+03    2327.000000     2327.000000\n",
       "mean   7.418335e+17    2529.240653     7196.353674\n",
       "std    6.824532e+16    4281.352850    11176.171705\n",
       "min    6.660209e+17       1.000000        0.000000\n",
       "25%    6.781394e+17     511.500000     1250.000000\n",
       "50%    7.178418e+17    1178.000000     3114.000000\n",
       "75%    7.986692e+17    2925.500000     8780.500000\n",
       "max    8.924206e+17   72461.000000   147735.000000"
      ]
     },
     "execution_count": 23,
     "metadata": {},
     "output_type": "execute_result"
    }
   ],
   "source": [
    "df_rt_fav.describe()"
   ]
  },
  {
   "cell_type": "code",
   "execution_count": 24,
   "metadata": {},
   "outputs": [
    {
     "name": "stdout",
     "output_type": "stream",
     "text": [
      "<class 'pandas.core.frame.DataFrame'>\n",
      "RangeIndex: 2075 entries, 0 to 2074\n",
      "Data columns (total 12 columns):\n",
      " #   Column    Non-Null Count  Dtype  \n",
      "---  ------    --------------  -----  \n",
      " 0   tweet_id  2075 non-null   int64  \n",
      " 1   jpg_url   2075 non-null   object \n",
      " 2   img_num   2075 non-null   int64  \n",
      " 3   p1        2075 non-null   object \n",
      " 4   p1_conf   2075 non-null   float64\n",
      " 5   p1_dog    2075 non-null   bool   \n",
      " 6   p2        2075 non-null   object \n",
      " 7   p2_conf   2075 non-null   float64\n",
      " 8   p2_dog    2075 non-null   bool   \n",
      " 9   p3        2075 non-null   object \n",
      " 10  p3_conf   2075 non-null   float64\n",
      " 11  p3_dog    2075 non-null   bool   \n",
      "dtypes: bool(3), float64(3), int64(2), object(4)\n",
      "memory usage: 152.1+ KB\n"
     ]
    }
   ],
   "source": [
    "df_ipred.info()"
   ]
  },
  {
   "cell_type": "markdown",
   "metadata": {},
   "source": [
    "### Quality issues\n",
    "#### `df_archive`\n",
    "1. Missing values (`in_reply_to_status_id`, `in_reply_to_user_id`, `retweeted_status_id`, `retweeted_status_user_id`, `retweeted_status_timestamp`, `expanded_urls`).\n",
    "\n",
    "2. Multiple values in `expanded_url`.\n",
    "\n",
    "3. HTML tags in `source`\n",
    "\n",
    "4. Erroneous datatypes (`tweet_id`, `timestamp`, `source`)\n",
    "\n",
    "5. Incorrect rates (e.g, 75/10 instead of 9.75/10...)\n",
    "\n",
    "6. Incorrect dog names (`a`, `such`, `quite` `None`...)\n",
    "\n",
    "7. `None` in columns `name`, `doggo`, `floofer`, `pupper` and `puppo`.\n",
    "\n",
    "#### `df_rt_fav`\n",
    "8. Erroneous datatypes (`tweet_id`)\n",
    "\n",
    "#### `df_ipred`\n",
    "9. Erroneous datatypes (`tweet_id`)\n",
    "\n",
    "10. Non descriptive column names (`p1, p1_conf, p1_dog, p2, p2_conf, p2_dog, p3, p3_conf, p3_dog`)"
   ]
  },
  {
   "cell_type": "markdown",
   "metadata": {
    "extensions": {
     "jupyter_dashboards": {
      "version": 1,
      "views": {
       "grid_default": {
        "col": 0,
        "height": 7,
        "hidden": false,
        "row": 40,
        "width": 12
       },
       "report_default": {
        "hidden": false
       }
      }
     }
    }
   },
   "source": [
    "### Tidiness issues\n",
    "1. `doggo`, `floofer`, `pupper` and `puppo` should be under one variable name `dog_stage`.\n",
    "\n",
    "2. Merge `df_rt_fav` with `df_archive`.\n",
    "\n",
    "3. Same variables split to different columns `(p1, p2, p3), (p1_conf, p2_conf, p3_conf), (p1_dog, p2_dog, p3_dog)`."
   ]
  },
  {
   "cell_type": "markdown",
   "metadata": {
    "extensions": {
     "jupyter_dashboards": {
      "version": 1,
      "views": {
       "grid_default": {
        "col": 4,
        "height": 4,
        "hidden": false,
        "row": 32,
        "width": 4
       },
       "report_default": {
        "hidden": false
       }
      }
     }
    }
   },
   "source": [
    "## Cleaning Data\n",
    "In this section, clean **all** of the issues you documented while assessing. \n",
    "\n",
    "**Note:** Make a copy of the original data before cleaning. Cleaning includes merging individual pieces of data according to the rules of [tidy data](https://cran.r-project.org/web/packages/tidyr/vignettes/tidy-data.html). The result should be a high-quality and tidy master pandas DataFrame (or DataFrames, if appropriate)."
   ]
  },
  {
   "cell_type": "code",
   "execution_count": 25,
   "metadata": {},
   "outputs": [],
   "source": [
    "# Making copies of original dataframes\n",
    "df_archive_copy = df_archive.copy()\n",
    "df_ipred_copy = df_ipred.copy()\n",
    "df_rt_fav_copy = df_rt_fav.copy()"
   ]
  },
  {
   "cell_type": "markdown",
   "metadata": {},
   "source": [
    "### Issue #1 (Quality):\n",
    "#### Define: Missing values in `df_archive`\n",
    "> Tweets with `in_reply_to_status_id` and `retweeted_status_id` are retweets and not original tweets so we can use this column to drop rows that are retweets since we are only interested in original tweets.\n",
    ">\n",
    "> Afterwards we can drop the columns `in_reply_to_status_id`, `in_reply_to_user_id`, `retweeted_status_id`, `retweeted_status_user_id` and `retweeted_status_timestamp` since thay are all linked to retweets.\n",
    ">\n",
    "> And then we can drop rows with missing `expanded_urls` since these tweets have no image in them."
   ]
  },
  {
   "cell_type": "markdown",
   "metadata": {},
   "source": [
    "#### Code"
   ]
  },
  {
   "cell_type": "code",
   "execution_count": 26,
   "metadata": {},
   "outputs": [],
   "source": [
    "# Since NaN is not equal to NaN, query for rows where in_reply_to_status_id == in_reply_to_status_id will omit the nan values\n",
    "#\n",
    "# This applies to retweeted_status_id\n",
    "index_to_drop = df_archive_copy.query('in_reply_to_status_id == in_reply_to_status_id or retweeted_status_id == retweeted_status_id').index\n",
    "df_archive_copy.drop(index=index_to_drop, inplace=True)"
   ]
  },
  {
   "cell_type": "code",
   "execution_count": 27,
   "metadata": {},
   "outputs": [],
   "source": [
    "# Awesome! Retweets have been dropped\n",
    "#\n",
    "# Now drop `in_reply_to_status_id`, `in_reply_to_user_id`, `retweeted_status_id`, `retweeted_status_user_id`\n",
    "# and `retweeted_status_timestamp` columns since they are linked to retweets\n",
    "\n",
    "columns_to_drop = ['in_reply_to_status_id', 'in_reply_to_user_id', 'retweeted_status_id', 'retweeted_status_user_id', 'retweeted_status_timestamp']\n",
    "df_archive_copy.drop(columns=columns_to_drop, inplace=True)"
   ]
  },
  {
   "cell_type": "code",
   "execution_count": 28,
   "metadata": {},
   "outputs": [],
   "source": [
    "# Get row index to drop (Same concept applies since Nan is not equal to Nan)\n",
    "index_to_drop = df_archive_copy.query('expanded_urls != expanded_urls').index\n",
    "df_archive_copy.drop(index=index_to_drop, inplace=True)"
   ]
  },
  {
   "cell_type": "markdown",
   "metadata": {},
   "source": [
    "#### Test"
   ]
  },
  {
   "cell_type": "code",
   "execution_count": 29,
   "metadata": {
    "scrolled": true
   },
   "outputs": [
    {
     "name": "stdout",
     "output_type": "stream",
     "text": [
      "<class 'pandas.core.frame.DataFrame'>\n",
      "Int64Index: 2094 entries, 0 to 2355\n",
      "Data columns (total 12 columns):\n",
      " #   Column              Non-Null Count  Dtype \n",
      "---  ------              --------------  ----- \n",
      " 0   tweet_id            2094 non-null   int64 \n",
      " 1   timestamp           2094 non-null   object\n",
      " 2   source              2094 non-null   object\n",
      " 3   text                2094 non-null   object\n",
      " 4   expanded_urls       2094 non-null   object\n",
      " 5   rating_numerator    2094 non-null   int64 \n",
      " 6   rating_denominator  2094 non-null   int64 \n",
      " 7   name                2094 non-null   object\n",
      " 8   doggo               2094 non-null   object\n",
      " 9   floofer             2094 non-null   object\n",
      " 10  pupper              2094 non-null   object\n",
      " 11  puppo               2094 non-null   object\n",
      "dtypes: int64(3), object(9)\n",
      "memory usage: 212.7+ KB\n"
     ]
    }
   ],
   "source": [
    "df_archive_copy.info()"
   ]
  },
  {
   "cell_type": "markdown",
   "metadata": {},
   "source": [
    "### Issue #2 (Quality):\n",
    "#### Define: Multiple values in `expanded_url`.\n",
    "> It turns out the urls seperated by commas are the same for most of the rows and for those that are not the same, the 2nd url is usually that for the tweet. So for rows with just 1 url, keep that, and for those with multiple url, pick the 2nd url."
   ]
  },
  {
   "cell_type": "markdown",
   "metadata": {},
   "source": [
    "#### Code"
   ]
  },
  {
   "cell_type": "code",
   "execution_count": 30,
   "metadata": {},
   "outputs": [],
   "source": [
    "# Lambda function to select url\n",
    "select_url = lambda expanded_url: expanded_url.split(',')[0] if len(expanded_url.split(',')) == 1 else expanded_url.split(',')[1]"
   ]
  },
  {
   "cell_type": "code",
   "execution_count": 31,
   "metadata": {},
   "outputs": [],
   "source": [
    "# Select url\n",
    "df_archive_copy.expanded_urls = df_archive_copy.expanded_urls.apply(select_url)"
   ]
  },
  {
   "cell_type": "markdown",
   "metadata": {},
   "source": [
    "#### Test"
   ]
  },
  {
   "cell_type": "code",
   "execution_count": 32,
   "metadata": {
    "scrolled": true
   },
   "outputs": [],
   "source": [
    "for expanded_url in df_archive_copy.expanded_urls.sample(100):\n",
    "    if len(expanded_url.split(',')) > 1:\n",
    "        print('Test Failed!!!')\n",
    "        break"
   ]
  },
  {
   "cell_type": "markdown",
   "metadata": {},
   "source": [
    "### Issue #3 (Quality):\n",
    "#### Define: HTML tags in `source`\n",
    "> Extract main text from source"
   ]
  },
  {
   "cell_type": "markdown",
   "metadata": {},
   "source": [
    "#### Code"
   ]
  },
  {
   "cell_type": "code",
   "execution_count": 33,
   "metadata": {},
   "outputs": [],
   "source": [
    "# Extracting main string from source\n",
    "\n",
    "\"\"\"\n",
    "ext_function: Extracts string from source.\n",
    "\n",
    "Keyword arguments:\n",
    "source_str -- The source sting from df_archive\n",
    "\"\"\"\n",
    "ext_function = lambda source_str: source_str[source_str.index('>') + 1:source_str.index('</')]\n",
    "\n",
    "# Apply ext_function to df_archive.source\n",
    "df_archive_copy.source = df_archive_copy.source.apply(ext_function)"
   ]
  },
  {
   "cell_type": "markdown",
   "metadata": {},
   "source": [
    "#### Test"
   ]
  },
  {
   "cell_type": "code",
   "execution_count": 34,
   "metadata": {
    "scrolled": true
   },
   "outputs": [
    {
     "data": {
      "text/plain": [
       "Twitter for iPhone     1962\n",
       "Vine - Make a Scene      91\n",
       "Twitter Web Client       30\n",
       "TweetDeck                11\n",
       "Name: source, dtype: int64"
      ]
     },
     "execution_count": 34,
     "metadata": {},
     "output_type": "execute_result"
    }
   ],
   "source": [
    "df_archive_copy.source.value_counts()"
   ]
  },
  {
   "cell_type": "markdown",
   "metadata": {},
   "source": [
    "### Issue #4 (Quality):\n",
    "#### Define: Erroneous datatypes (`tweet_id`, `timestamp`, `source`)\n",
    "> Use `pandas.Series.astype()` function to change `tweet_id` and `source` to `string` and `category` respectively.\n",
    ">\n",
    "> Use `pandas.to_datetime()` function to change the `timestamp` dtype from string to `datetime`."
   ]
  },
  {
   "cell_type": "markdown",
   "metadata": {},
   "source": [
    "#### Code"
   ]
  },
  {
   "cell_type": "code",
   "execution_count": 35,
   "metadata": {},
   "outputs": [],
   "source": [
    "# Converting tweet_id to string\n",
    "df_archive_copy.tweet_id = df_archive_copy.tweet_id.astype(str)\n",
    "\n",
    "# Converting source to category\n",
    "df_archive_copy.source = df_archive_copy.source.astype('category')\n",
    "\n",
    "# Converting timestamp to datetime\n",
    "df_archive_copy.timestamp = pd.to_datetime(df_archive_copy.timestamp)"
   ]
  },
  {
   "cell_type": "markdown",
   "metadata": {},
   "source": [
    "#### Test"
   ]
  },
  {
   "cell_type": "code",
   "execution_count": 36,
   "metadata": {
    "scrolled": true
   },
   "outputs": [
    {
     "name": "stdout",
     "output_type": "stream",
     "text": [
      "<class 'pandas.core.frame.DataFrame'>\n",
      "Int64Index: 2094 entries, 0 to 2355\n",
      "Data columns (total 12 columns):\n",
      " #   Column              Non-Null Count  Dtype              \n",
      "---  ------              --------------  -----              \n",
      " 0   tweet_id            2094 non-null   object             \n",
      " 1   timestamp           2094 non-null   datetime64[ns, UTC]\n",
      " 2   source              2094 non-null   category           \n",
      " 3   text                2094 non-null   object             \n",
      " 4   expanded_urls       2094 non-null   object             \n",
      " 5   rating_numerator    2094 non-null   int64              \n",
      " 6   rating_denominator  2094 non-null   int64              \n",
      " 7   name                2094 non-null   object             \n",
      " 8   doggo               2094 non-null   object             \n",
      " 9   floofer             2094 non-null   object             \n",
      " 10  pupper              2094 non-null   object             \n",
      " 11  puppo               2094 non-null   object             \n",
      "dtypes: category(1), datetime64[ns, UTC](1), int64(2), object(8)\n",
      "memory usage: 198.6+ KB\n"
     ]
    }
   ],
   "source": [
    "df_archive_copy.info()"
   ]
  },
  {
   "cell_type": "markdown",
   "metadata": {},
   "source": [
    "### Issue #5 (Quality):\n",
    "#### Define: Incorrect rates"
   ]
  },
  {
   "cell_type": "code",
   "execution_count": 37,
   "metadata": {
    "scrolled": true
   },
   "outputs": [
    {
     "data": {
      "text/plain": [
       "16"
      ]
     },
     "execution_count": 37,
     "metadata": {},
     "output_type": "execute_result"
    }
   ],
   "source": [
    "# Tweet ids for tweets with incorrect rating\n",
    "tweet_id_incorrect_ratings = ['835246439529840640',\n",
    " '832088576586297345',\n",
    " '810984652412424192',\n",
    " '832215909146226688',\n",
    " '786709082849828864',\n",
    " '778027034220126208',\n",
    " '680494726643068929',\n",
    " '775096608509886464',\n",
    " '740373189193256964',\n",
    " '775096608509886464',\n",
    " '775096608509886464',\n",
    " '740373189193256964',\n",
    " '722974582966214656',\n",
    " '716439118184652801',\n",
    " '682962037429899265',\n",
    " '666287406224695296']\n",
    "len(tweet_id_incorrect_ratings)"
   ]
  },
  {
   "cell_type": "code",
   "execution_count": 38,
   "metadata": {},
   "outputs": [
    {
     "data": {
      "text/plain": [
       "(9, 12)"
      ]
     },
     "execution_count": 38,
     "metadata": {},
     "output_type": "execute_result"
    }
   ],
   "source": [
    "df_archive_copy.query('tweet_id in @tweet_id_incorrect_ratings').shape"
   ]
  },
  {
   "cell_type": "markdown",
   "metadata": {},
   "source": [
    "> Turns out a couple of the incorrect rating values have been cleaned by dropping retweets. Here we will clean the remaining `8` incorrect rating.\n",
    ">\n",
    "> tweet_id `810984652412424192` has no rating. `24/7` is not a rate so we drop that row.\n",
    ">\n",
    "> tweet_ids `[786709082849828864, 778027034220126208, 680494726643068929]` has fractional numerators not integer, we change `rating_numerator` to float dtype and then extract and save the fraction.\n",
    ">\n",
    "> The second divisions in the text of the tweets with tweet_ids `[740373189193256964, 722974582966214656, 716439118184652801, 682962037429899265]` should serve as the rating.\n",
    ">\n",
    "> Scale `rating_denominator` above 10 to 10."
   ]
  },
  {
   "cell_type": "markdown",
   "metadata": {},
   "source": [
    "#### Code"
   ]
  },
  {
   "cell_type": "code",
   "execution_count": 39,
   "metadata": {},
   "outputs": [],
   "source": [
    "# Drop row with tweet_id 810984652412424192\n",
    "index_to_drop = df_archive_copy.query('tweet_id == \"810984652412424192\"').index\n",
    "df_archive_copy.drop(index=index_to_drop, inplace=True)"
   ]
  },
  {
   "cell_type": "code",
   "execution_count": 40,
   "metadata": {},
   "outputs": [],
   "source": [
    "# Change rating_numerator to float dtype \n",
    "df_archive_copy.rating_numerator = df_archive_copy.rating_numerator.astype('float64')\n",
    "\n",
    "# tweet_ids with fractional rating numerators\n",
    "frac_tweet_ids = [\"786709082849828864\", \"778027034220126208\", \"680494726643068929\"]\n",
    "# tweets with fractional rating numerators\n",
    "frac_tweets = df_archive_copy.query('tweet_id in @frac_tweet_ids').text\n",
    "\n",
    "for index, text in frac_tweets.items():\n",
    "    rate = re.search('\\d+(.?\\d+)?/\\d+', text)[0]\n",
    "    rating_num = rate.split('/')[0]\n",
    "    rating_denom = rate.split('/')[1]\n",
    "    \n",
    "    df_archive_copy.loc[index, 'rating_numerator'] = float(rating_num)\n",
    "    df_archive_copy.loc[index, 'rating_denominator'] = int(rating_denom)"
   ]
  },
  {
   "cell_type": "code",
   "execution_count": 41,
   "metadata": {},
   "outputs": [],
   "source": [
    "# tweet_ids with second divisions as the rating\n",
    "tweet_ids_2_div = [\"740373189193256964\", \"722974582966214656\", \"716439118184652801\", \"682962037429899265\", \"666287406224695296\"]\n",
    "# tweets with second divisions as rating\n",
    "tweets_2_div = df_archive_copy.query('tweet_id in @tweet_ids_2_div').text\n",
    "\n",
    "for index, text in tweets_2_div.items():\n",
    "    rate = re.findall('\\d+/\\d+', text)\n",
    "    rating_num = rate[1].split('/')[0]\n",
    "    rating_denom = rate[1].split('/')[1]\n",
    "    \n",
    "    df_archive_copy.loc[index, 'rating_numerator'] = float(rating_num)\n",
    "    df_archive_copy.loc[index, 'rating_denominator'] = int(rating_denom)"
   ]
  },
  {
   "cell_type": "code",
   "execution_count": 42,
   "metadata": {},
   "outputs": [],
   "source": [
    "# Scale rating denominator above 10 to 10\n",
    "indexes_toscale = df_archive_copy.query('rating_denominator != 10').index\n",
    "for index in indexes_toscale:\n",
    "    # Get the factor to scale down with\n",
    "    scale_down_factor = df_archive_copy.loc[index]['rating_denominator']/10\n",
    "    \n",
    "    # Scale both rating_numerator and rating_denominator by scale_down_factor\n",
    "    df_archive_copy.loc[index, 'rating_numerator'] = df_archive_copy.loc[index, 'rating_numerator']/scale_down_factor\n",
    "    df_archive_copy.loc[index, 'rating_denominator'] = df_archive_copy.loc[index, 'rating_denominator']/scale_down_factor"
   ]
  },
  {
   "cell_type": "markdown",
   "metadata": {},
   "source": [
    "#### Test"
   ]
  },
  {
   "cell_type": "code",
   "execution_count": 43,
   "metadata": {
    "scrolled": true
   },
   "outputs": [
    {
     "data": {
      "text/plain": [
       "(0, 12)"
      ]
     },
     "execution_count": 43,
     "metadata": {},
     "output_type": "execute_result"
    }
   ],
   "source": [
    "df_archive_copy.query('rating_denominator != 10').shape"
   ]
  },
  {
   "cell_type": "code",
   "execution_count": 44,
   "metadata": {
    "scrolled": true
   },
   "outputs": [
    {
     "data": {
      "text/html": [
       "<div>\n",
       "<style scoped>\n",
       "    .dataframe tbody tr th:only-of-type {\n",
       "        vertical-align: middle;\n",
       "    }\n",
       "\n",
       "    .dataframe tbody tr th {\n",
       "        vertical-align: top;\n",
       "    }\n",
       "\n",
       "    .dataframe thead th {\n",
       "        text-align: right;\n",
       "    }\n",
       "</style>\n",
       "<table border=\"1\" class=\"dataframe\">\n",
       "  <thead>\n",
       "    <tr style=\"text-align: right;\">\n",
       "      <th></th>\n",
       "      <th>tweet_id</th>\n",
       "      <th>timestamp</th>\n",
       "      <th>source</th>\n",
       "      <th>text</th>\n",
       "      <th>expanded_urls</th>\n",
       "      <th>rating_numerator</th>\n",
       "      <th>rating_denominator</th>\n",
       "      <th>name</th>\n",
       "      <th>doggo</th>\n",
       "      <th>floofer</th>\n",
       "      <th>pupper</th>\n",
       "      <th>puppo</th>\n",
       "    </tr>\n",
       "  </thead>\n",
       "  <tbody>\n",
       "    <tr>\n",
       "      <th>695</th>\n",
       "      <td>786709082849828864</td>\n",
       "      <td>2016-10-13 23:23:56+00:00</td>\n",
       "      <td>Twitter for iPhone</td>\n",
       "      <td>This is Logan, the Chow who lived. He solemnly...</td>\n",
       "      <td>https://twitter.com/dog_rates/status/786709082...</td>\n",
       "      <td>9.75</td>\n",
       "      <td>10</td>\n",
       "      <td>Logan</td>\n",
       "      <td>None</td>\n",
       "      <td>None</td>\n",
       "      <td>None</td>\n",
       "      <td>None</td>\n",
       "    </tr>\n",
       "    <tr>\n",
       "      <th>763</th>\n",
       "      <td>778027034220126208</td>\n",
       "      <td>2016-09-20 00:24:34+00:00</td>\n",
       "      <td>Twitter for iPhone</td>\n",
       "      <td>This is Sophie. She's a Jubilant Bush Pupper. ...</td>\n",
       "      <td>https://twitter.com/dog_rates/status/778027034...</td>\n",
       "      <td>11.27</td>\n",
       "      <td>10</td>\n",
       "      <td>Sophie</td>\n",
       "      <td>None</td>\n",
       "      <td>None</td>\n",
       "      <td>pupper</td>\n",
       "      <td>None</td>\n",
       "    </tr>\n",
       "    <tr>\n",
       "      <th>1068</th>\n",
       "      <td>740373189193256964</td>\n",
       "      <td>2016-06-08 02:41:38+00:00</td>\n",
       "      <td>Twitter for iPhone</td>\n",
       "      <td>After so many requests, this is Bretagne. She ...</td>\n",
       "      <td>https://twitter.com/dog_rates/status/740373189...</td>\n",
       "      <td>14.00</td>\n",
       "      <td>10</td>\n",
       "      <td>None</td>\n",
       "      <td>None</td>\n",
       "      <td>None</td>\n",
       "      <td>None</td>\n",
       "      <td>None</td>\n",
       "    </tr>\n",
       "    <tr>\n",
       "      <th>1165</th>\n",
       "      <td>722974582966214656</td>\n",
       "      <td>2016-04-21 02:25:47+00:00</td>\n",
       "      <td>Twitter for iPhone</td>\n",
       "      <td>Happy 4/20 from the squad! 13/10 for all https...</td>\n",
       "      <td>https://twitter.com/dog_rates/status/722974582...</td>\n",
       "      <td>13.00</td>\n",
       "      <td>10</td>\n",
       "      <td>None</td>\n",
       "      <td>None</td>\n",
       "      <td>None</td>\n",
       "      <td>None</td>\n",
       "      <td>None</td>\n",
       "    </tr>\n",
       "    <tr>\n",
       "      <th>1202</th>\n",
       "      <td>716439118184652801</td>\n",
       "      <td>2016-04-03 01:36:11+00:00</td>\n",
       "      <td>Twitter for iPhone</td>\n",
       "      <td>This is Bluebert. He just saw that both #Final...</td>\n",
       "      <td>https://twitter.com/dog_rates/status/716439118...</td>\n",
       "      <td>11.00</td>\n",
       "      <td>10</td>\n",
       "      <td>Bluebert</td>\n",
       "      <td>None</td>\n",
       "      <td>None</td>\n",
       "      <td>None</td>\n",
       "      <td>None</td>\n",
       "    </tr>\n",
       "    <tr>\n",
       "      <th>1662</th>\n",
       "      <td>682962037429899265</td>\n",
       "      <td>2016-01-01 16:30:13+00:00</td>\n",
       "      <td>Twitter for iPhone</td>\n",
       "      <td>This is Darrel. He just robbed a 7/11 and is i...</td>\n",
       "      <td>https://twitter.com/dog_rates/status/682962037...</td>\n",
       "      <td>10.00</td>\n",
       "      <td>10</td>\n",
       "      <td>Darrel</td>\n",
       "      <td>None</td>\n",
       "      <td>None</td>\n",
       "      <td>None</td>\n",
       "      <td>None</td>\n",
       "    </tr>\n",
       "    <tr>\n",
       "      <th>1712</th>\n",
       "      <td>680494726643068929</td>\n",
       "      <td>2015-12-25 21:06:00+00:00</td>\n",
       "      <td>Twitter for iPhone</td>\n",
       "      <td>Here we have uncovered an entire battalion of ...</td>\n",
       "      <td>https://twitter.com/dog_rates/status/680494726...</td>\n",
       "      <td>11.26</td>\n",
       "      <td>10</td>\n",
       "      <td>None</td>\n",
       "      <td>None</td>\n",
       "      <td>None</td>\n",
       "      <td>None</td>\n",
       "      <td>None</td>\n",
       "    </tr>\n",
       "    <tr>\n",
       "      <th>2335</th>\n",
       "      <td>666287406224695296</td>\n",
       "      <td>2015-11-16 16:11:11+00:00</td>\n",
       "      <td>Twitter for iPhone</td>\n",
       "      <td>This is an Albanian 3 1/2 legged  Episcopalian...</td>\n",
       "      <td>https://twitter.com/dog_rates/status/666287406...</td>\n",
       "      <td>9.00</td>\n",
       "      <td>10</td>\n",
       "      <td>an</td>\n",
       "      <td>None</td>\n",
       "      <td>None</td>\n",
       "      <td>None</td>\n",
       "      <td>None</td>\n",
       "    </tr>\n",
       "  </tbody>\n",
       "</table>\n",
       "</div>"
      ],
      "text/plain": [
       "                tweet_id                 timestamp              source  \\\n",
       "695   786709082849828864 2016-10-13 23:23:56+00:00  Twitter for iPhone   \n",
       "763   778027034220126208 2016-09-20 00:24:34+00:00  Twitter for iPhone   \n",
       "1068  740373189193256964 2016-06-08 02:41:38+00:00  Twitter for iPhone   \n",
       "1165  722974582966214656 2016-04-21 02:25:47+00:00  Twitter for iPhone   \n",
       "1202  716439118184652801 2016-04-03 01:36:11+00:00  Twitter for iPhone   \n",
       "1662  682962037429899265 2016-01-01 16:30:13+00:00  Twitter for iPhone   \n",
       "1712  680494726643068929 2015-12-25 21:06:00+00:00  Twitter for iPhone   \n",
       "2335  666287406224695296 2015-11-16 16:11:11+00:00  Twitter for iPhone   \n",
       "\n",
       "                                                   text  \\\n",
       "695   This is Logan, the Chow who lived. He solemnly...   \n",
       "763   This is Sophie. She's a Jubilant Bush Pupper. ...   \n",
       "1068  After so many requests, this is Bretagne. She ...   \n",
       "1165  Happy 4/20 from the squad! 13/10 for all https...   \n",
       "1202  This is Bluebert. He just saw that both #Final...   \n",
       "1662  This is Darrel. He just robbed a 7/11 and is i...   \n",
       "1712  Here we have uncovered an entire battalion of ...   \n",
       "2335  This is an Albanian 3 1/2 legged  Episcopalian...   \n",
       "\n",
       "                                          expanded_urls  rating_numerator  \\\n",
       "695   https://twitter.com/dog_rates/status/786709082...              9.75   \n",
       "763   https://twitter.com/dog_rates/status/778027034...             11.27   \n",
       "1068  https://twitter.com/dog_rates/status/740373189...             14.00   \n",
       "1165  https://twitter.com/dog_rates/status/722974582...             13.00   \n",
       "1202  https://twitter.com/dog_rates/status/716439118...             11.00   \n",
       "1662  https://twitter.com/dog_rates/status/682962037...             10.00   \n",
       "1712  https://twitter.com/dog_rates/status/680494726...             11.26   \n",
       "2335  https://twitter.com/dog_rates/status/666287406...              9.00   \n",
       "\n",
       "      rating_denominator      name doggo floofer  pupper puppo  \n",
       "695                   10     Logan  None    None    None  None  \n",
       "763                   10    Sophie  None    None  pupper  None  \n",
       "1068                  10      None  None    None    None  None  \n",
       "1165                  10      None  None    None    None  None  \n",
       "1202                  10  Bluebert  None    None    None  None  \n",
       "1662                  10    Darrel  None    None    None  None  \n",
       "1712                  10      None  None    None    None  None  \n",
       "2335                  10        an  None    None    None  None  "
      ]
     },
     "execution_count": 44,
     "metadata": {},
     "output_type": "execute_result"
    }
   ],
   "source": [
    "df_archive_copy.query('tweet_id in @tweet_id_incorrect_ratings')"
   ]
  },
  {
   "cell_type": "markdown",
   "metadata": {},
   "source": [
    "### Issue #6 (Quality):\n",
    "#### Define: Incorrect dog names, `a`, `such`, `quite` `None`...\n",
    "> Seems all names with lower_case are incorrect.\n",
    ">\n",
    "> Create a function that extracts name from `text` column and apply that function to the `text` column asssigning the returned value to `name` for rows with names in lowercase.\n",
    ">\n",
    "> Replace `None`s in `name` to `Nan`."
   ]
  },
  {
   "cell_type": "markdown",
   "metadata": {},
   "source": [
    "#### Code"
   ]
  },
  {
   "cell_type": "code",
   "execution_count": 45,
   "metadata": {},
   "outputs": [],
   "source": [
    "\"\"\" There 3 case when name is present in text\n",
    "\n",
    "    Case 1: The word \"named\" is present in text\n",
    "    Case 2: The phrase \"name is\" is present in text\n",
    "    Case 3: \"is Name\" (For this case, Name begins with an uppercase)\n",
    "\"\"\"\n",
    "def extract_name(text):\n",
    "    # Case 1 when the word \"named\" is present in text\n",
    "    text_splited = text.split('named ')\n",
    "    \n",
    "    # Case 2 when the phrase \"name is\" is present in text\n",
    "    if len(text_splited) == 1: text_splited = text.split('name is ')\n",
    "        \n",
    "    # Case 3 when \"is Name\" is present in text.\n",
    "    if len(text_splited) == 1: text_splited = text.split('is ')\n",
    "    \n",
    "    # Clean name with just single word\n",
    "    name = text_splited[1].split()[0].strip('.') if len(text_splited) > 1 and len(text_splited[1].split()) > 0 else '' \n",
    "        \n",
    "    # Make sure word returned is a name by checking if it starts with uppercase, else it not a name hence return Nan\n",
    "    return name if len(name) > 0 and name[0].isupper() else np.nan"
   ]
  },
  {
   "cell_type": "code",
   "execution_count": 46,
   "metadata": {},
   "outputs": [],
   "source": [
    "# Get the index of the rows with names in small letters\n",
    "indexes_toclean = df_archive_copy[df_archive_copy['name'].str.contains('^[a-z]', regex=True)].index\n",
    "\n",
    "# Extract name from text for case when name exist else set name to Nan.\n",
    "df_archive_copy.loc[indexes_toclean, 'name'] = df_archive_copy.loc[indexes_toclean, 'text'].apply(extract_name)"
   ]
  },
  {
   "cell_type": "code",
   "execution_count": 47,
   "metadata": {},
   "outputs": [],
   "source": [
    "# Now replace None with Nan\n",
    "df_archive_copy['name'].replace('None', np.nan, inplace=True)"
   ]
  },
  {
   "cell_type": "markdown",
   "metadata": {},
   "source": [
    "#### Test"
   ]
  },
  {
   "cell_type": "code",
   "execution_count": 48,
   "metadata": {
    "scrolled": true
   },
   "outputs": [
    {
     "data": {
      "text/plain": [
       "947        NaN\n",
       "482        NaN\n",
       "2012    Ridley\n",
       "1236      Kane\n",
       "1172    Ralphé\n",
       "1095       NaN\n",
       "1268     Cecil\n",
       "1771     Rosie\n",
       "2159     Keith\n",
       "1343       NaN\n",
       "Name: name, dtype: object"
      ]
     },
     "execution_count": 48,
     "metadata": {},
     "output_type": "execute_result"
    }
   ],
   "source": [
    "df_archive_copy['name'].sample(10)"
   ]
  },
  {
   "cell_type": "markdown",
   "metadata": {},
   "source": [
    "### Issue #8 & 9 (Quality):\n",
    "#### Define: Erroneous datatypes (`tweet_id`) in `df_ipred` and `df_rt_fav`\n",
    "> Use `pandas.Series.astype()` function to change `tweet_id` to string for both dataframes."
   ]
  },
  {
   "cell_type": "markdown",
   "metadata": {},
   "source": [
    "#### Code"
   ]
  },
  {
   "cell_type": "code",
   "execution_count": 49,
   "metadata": {},
   "outputs": [],
   "source": [
    "# For df_ipred\n",
    "df_ipred_copy.tweet_id = df_ipred_copy.tweet_id.astype(str)\n",
    "\n",
    "# For df_fav_rt\n",
    "df_rt_fav_copy.tweet_id = df_rt_fav_copy.tweet_id.astype(str)"
   ]
  },
  {
   "cell_type": "markdown",
   "metadata": {},
   "source": [
    "#### Test"
   ]
  },
  {
   "cell_type": "code",
   "execution_count": 50,
   "metadata": {
    "scrolled": false
   },
   "outputs": [
    {
     "name": "stdout",
     "output_type": "stream",
     "text": [
      "df_ipred: dtype = object\n",
      "df_rt_fav: dtype = object\n"
     ]
    }
   ],
   "source": [
    "print(\"df_ipred: dtype = {}\\ndf_rt_fav: dtype = {}\".format(df_ipred_copy.tweet_id.dtype, df_rt_fav_copy.tweet_id.dtype))"
   ]
  },
  {
   "cell_type": "markdown",
   "metadata": {},
   "source": [
    ">\n",
    ">\n",
    "> **Quality issues `7` and `10` will be resolved while solving tidyness issues `1` and `3` respectively**\n",
    ">\n",
    ">"
   ]
  },
  {
   "cell_type": "markdown",
   "metadata": {},
   "source": [
    "### Issue #1 (Tidy):\n",
    "#### Define: `doggo`, `floofer`, `pupper` and `puppo` should be under one variable name `dog_stage` in `df_archive`\n",
    "> Replace `None` and `Nan` with `''` in `doggo`, `floofer`, `pupper` and `puppo`.\n",
    ">\n",
    "> Create column `dog_stage` set it's values to `doggo + floofer + pupper + puppo`. It turns out `doggo` is the only stage that appears together with other stages. For those cases, use `, ` to seperate the stages.\n",
    ">\n",
    "> Drop `doggo`, `floofer`, `pupper` and `puppo` from dataframe.\n",
    ">\n",
    "> Replace `''` with `Nan` **(Fixes quality issue #8 as well)**"
   ]
  },
  {
   "cell_type": "code",
   "execution_count": 51,
   "metadata": {},
   "outputs": [
    {
     "data": {
      "text/html": [
       "<div>\n",
       "<style scoped>\n",
       "    .dataframe tbody tr th:only-of-type {\n",
       "        vertical-align: middle;\n",
       "    }\n",
       "\n",
       "    .dataframe tbody tr th {\n",
       "        vertical-align: top;\n",
       "    }\n",
       "\n",
       "    .dataframe thead th {\n",
       "        text-align: right;\n",
       "    }\n",
       "</style>\n",
       "<table border=\"1\" class=\"dataframe\">\n",
       "  <thead>\n",
       "    <tr style=\"text-align: right;\">\n",
       "      <th></th>\n",
       "      <th>doggo</th>\n",
       "      <th>floofer</th>\n",
       "      <th>pupper</th>\n",
       "      <th>puppo</th>\n",
       "      <th>count</th>\n",
       "    </tr>\n",
       "  </thead>\n",
       "  <tbody>\n",
       "    <tr>\n",
       "      <th>0</th>\n",
       "      <td>None</td>\n",
       "      <td>None</td>\n",
       "      <td>None</td>\n",
       "      <td>None</td>\n",
       "      <td>1758</td>\n",
       "    </tr>\n",
       "    <tr>\n",
       "      <th>1</th>\n",
       "      <td>None</td>\n",
       "      <td>None</td>\n",
       "      <td>None</td>\n",
       "      <td>puppo</td>\n",
       "      <td>23</td>\n",
       "    </tr>\n",
       "    <tr>\n",
       "      <th>2</th>\n",
       "      <td>None</td>\n",
       "      <td>None</td>\n",
       "      <td>pupper</td>\n",
       "      <td>None</td>\n",
       "      <td>220</td>\n",
       "    </tr>\n",
       "    <tr>\n",
       "      <th>3</th>\n",
       "      <td>None</td>\n",
       "      <td>floofer</td>\n",
       "      <td>None</td>\n",
       "      <td>None</td>\n",
       "      <td>9</td>\n",
       "    </tr>\n",
       "    <tr>\n",
       "      <th>4</th>\n",
       "      <td>doggo</td>\n",
       "      <td>None</td>\n",
       "      <td>None</td>\n",
       "      <td>None</td>\n",
       "      <td>72</td>\n",
       "    </tr>\n",
       "    <tr>\n",
       "      <th>5</th>\n",
       "      <td>doggo</td>\n",
       "      <td>None</td>\n",
       "      <td>None</td>\n",
       "      <td>puppo</td>\n",
       "      <td>1</td>\n",
       "    </tr>\n",
       "    <tr>\n",
       "      <th>6</th>\n",
       "      <td>doggo</td>\n",
       "      <td>None</td>\n",
       "      <td>pupper</td>\n",
       "      <td>None</td>\n",
       "      <td>9</td>\n",
       "    </tr>\n",
       "    <tr>\n",
       "      <th>7</th>\n",
       "      <td>doggo</td>\n",
       "      <td>floofer</td>\n",
       "      <td>None</td>\n",
       "      <td>None</td>\n",
       "      <td>1</td>\n",
       "    </tr>\n",
       "  </tbody>\n",
       "</table>\n",
       "</div>"
      ],
      "text/plain": [
       "   doggo  floofer  pupper  puppo  count\n",
       "0   None     None    None   None   1758\n",
       "1   None     None    None  puppo     23\n",
       "2   None     None  pupper   None    220\n",
       "3   None  floofer    None   None      9\n",
       "4  doggo     None    None   None     72\n",
       "5  doggo     None    None  puppo      1\n",
       "6  doggo     None  pupper   None      9\n",
       "7  doggo  floofer    None   None      1"
      ]
     },
     "execution_count": 51,
     "metadata": {},
     "output_type": "execute_result"
    }
   ],
   "source": [
    "stage_list = ['doggo', 'floofer', 'pupper', 'puppo']\n",
    "df_archive_copy.groupby(stage_list).size().reset_index(level=stage_list, name='count')"
   ]
  },
  {
   "cell_type": "markdown",
   "metadata": {},
   "source": [
    "#### Code"
   ]
  },
  {
   "cell_type": "code",
   "execution_count": 52,
   "metadata": {},
   "outputs": [],
   "source": [
    "# Replace None and Nan with ''\n",
    "for stage in stage_list:\n",
    "    df_archive_copy[stage].replace('None', '', inplace=True)\n",
    "    df_archive_copy[stage].replace(np.nan, '', inplace=True)"
   ]
  },
  {
   "cell_type": "code",
   "execution_count": 53,
   "metadata": {},
   "outputs": [],
   "source": [
    "# Join dog stages to same column `dog_stage\n",
    "df_archive_copy['dog_stage']  = df_archive_copy['doggo'] + df_archive_copy['floofer'] + df_archive_copy['pupper'] + df_archive_copy['puppo']"
   ]
  },
  {
   "cell_type": "code",
   "execution_count": 54,
   "metadata": {},
   "outputs": [],
   "source": [
    "# Seperate multiple dog_stage with `, `\n",
    "df_archive_copy.loc[df_archive_copy['dog_stage'] == 'doggofloofer', 'dog_stage'] = 'doggo, floofer'\n",
    "df_archive_copy.loc[df_archive_copy['dog_stage'] == 'doggopupper', 'dog_stage'] = 'doggo, pupper'\n",
    "df_archive_copy.loc[df_archive_copy['dog_stage'] == 'doggopuppo', 'dog_stage'] = 'doggo, puppo'"
   ]
  },
  {
   "cell_type": "code",
   "execution_count": 55,
   "metadata": {},
   "outputs": [],
   "source": [
    "# Drop dog_stages from df_archive_copy\n",
    "df_archive_copy.drop(columns=stage_list, inplace=True)"
   ]
  },
  {
   "cell_type": "code",
   "execution_count": 56,
   "metadata": {},
   "outputs": [],
   "source": [
    "# Replace '' with Nan\n",
    "df_archive_copy['dog_stage'].replace('', np.nan, inplace=True)"
   ]
  },
  {
   "cell_type": "markdown",
   "metadata": {},
   "source": [
    "#### Test"
   ]
  },
  {
   "cell_type": "code",
   "execution_count": 57,
   "metadata": {
    "scrolled": true
   },
   "outputs": [
    {
     "data": {
      "text/plain": [
       "pupper            220\n",
       "doggo              72\n",
       "puppo              23\n",
       "floofer             9\n",
       "doggo, pupper       9\n",
       "doggo, puppo        1\n",
       "doggo, floofer      1\n",
       "Name: dog_stage, dtype: int64"
      ]
     },
     "execution_count": 57,
     "metadata": {},
     "output_type": "execute_result"
    }
   ],
   "source": [
    "df_archive_copy['dog_stage'].value_counts()"
   ]
  },
  {
   "cell_type": "markdown",
   "metadata": {},
   "source": [
    "### Issue #2 (Tidy):\n",
    "#### Define: Merge `df_rt_fav` with `df_archive`.\n",
    "> Merge `df_rt_fav_copy` to `df_archive_copy` with the `df.merge()` funtion."
   ]
  },
  {
   "cell_type": "markdown",
   "metadata": {},
   "source": [
    "#### Code"
   ]
  },
  {
   "cell_type": "code",
   "execution_count": 58,
   "metadata": {},
   "outputs": [],
   "source": [
    "# Merging df_rt_fav_copy to df_archive_copy\n",
    "df_archive_copy = df_archive_copy.merge(df_rt_fav_copy, left_on='tweet_id', right_on='tweet_id')"
   ]
  },
  {
   "cell_type": "markdown",
   "metadata": {},
   "source": [
    "#### Test"
   ]
  },
  {
   "cell_type": "code",
   "execution_count": 59,
   "metadata": {
    "scrolled": true
   },
   "outputs": [
    {
     "data": {
      "text/html": [
       "<div>\n",
       "<style scoped>\n",
       "    .dataframe tbody tr th:only-of-type {\n",
       "        vertical-align: middle;\n",
       "    }\n",
       "\n",
       "    .dataframe tbody tr th {\n",
       "        vertical-align: top;\n",
       "    }\n",
       "\n",
       "    .dataframe thead th {\n",
       "        text-align: right;\n",
       "    }\n",
       "</style>\n",
       "<table border=\"1\" class=\"dataframe\">\n",
       "  <thead>\n",
       "    <tr style=\"text-align: right;\">\n",
       "      <th></th>\n",
       "      <th>tweet_id</th>\n",
       "      <th>timestamp</th>\n",
       "      <th>source</th>\n",
       "      <th>text</th>\n",
       "      <th>expanded_urls</th>\n",
       "      <th>rating_numerator</th>\n",
       "      <th>rating_denominator</th>\n",
       "      <th>name</th>\n",
       "      <th>dog_stage</th>\n",
       "      <th>retweet_count</th>\n",
       "      <th>favorite_count</th>\n",
       "    </tr>\n",
       "  </thead>\n",
       "  <tbody>\n",
       "    <tr>\n",
       "      <th>0</th>\n",
       "      <td>892420643555336193</td>\n",
       "      <td>2017-08-01 16:23:56+00:00</td>\n",
       "      <td>Twitter for iPhone</td>\n",
       "      <td>This is Phineas. He's a mystical boy. Only eve...</td>\n",
       "      <td>https://twitter.com/dog_rates/status/892420643...</td>\n",
       "      <td>13.0</td>\n",
       "      <td>10</td>\n",
       "      <td>Phineas</td>\n",
       "      <td>NaN</td>\n",
       "      <td>7167</td>\n",
       "      <td>34466</td>\n",
       "    </tr>\n",
       "    <tr>\n",
       "      <th>1</th>\n",
       "      <td>892177421306343426</td>\n",
       "      <td>2017-08-01 00:17:27+00:00</td>\n",
       "      <td>Twitter for iPhone</td>\n",
       "      <td>This is Tilly. She's just checking pup on you....</td>\n",
       "      <td>https://twitter.com/dog_rates/status/892177421...</td>\n",
       "      <td>13.0</td>\n",
       "      <td>10</td>\n",
       "      <td>Tilly</td>\n",
       "      <td>NaN</td>\n",
       "      <td>5387</td>\n",
       "      <td>29874</td>\n",
       "    </tr>\n",
       "    <tr>\n",
       "      <th>2</th>\n",
       "      <td>891815181378084864</td>\n",
       "      <td>2017-07-31 00:18:03+00:00</td>\n",
       "      <td>Twitter for iPhone</td>\n",
       "      <td>This is Archie. He is a rare Norwegian Pouncin...</td>\n",
       "      <td>https://twitter.com/dog_rates/status/891815181...</td>\n",
       "      <td>12.0</td>\n",
       "      <td>10</td>\n",
       "      <td>Archie</td>\n",
       "      <td>NaN</td>\n",
       "      <td>3552</td>\n",
       "      <td>22496</td>\n",
       "    </tr>\n",
       "    <tr>\n",
       "      <th>3</th>\n",
       "      <td>891689557279858688</td>\n",
       "      <td>2017-07-30 15:58:51+00:00</td>\n",
       "      <td>Twitter for iPhone</td>\n",
       "      <td>This is Darla. She commenced a snooze mid meal...</td>\n",
       "      <td>https://twitter.com/dog_rates/status/891689557...</td>\n",
       "      <td>13.0</td>\n",
       "      <td>10</td>\n",
       "      <td>Darla</td>\n",
       "      <td>NaN</td>\n",
       "      <td>7386</td>\n",
       "      <td>37677</td>\n",
       "    </tr>\n",
       "    <tr>\n",
       "      <th>4</th>\n",
       "      <td>891327558926688256</td>\n",
       "      <td>2017-07-29 16:00:24+00:00</td>\n",
       "      <td>Twitter for iPhone</td>\n",
       "      <td>This is Franklin. He would like you to stop ca...</td>\n",
       "      <td>https://twitter.com/dog_rates/status/891327558...</td>\n",
       "      <td>12.0</td>\n",
       "      <td>10</td>\n",
       "      <td>Franklin</td>\n",
       "      <td>NaN</td>\n",
       "      <td>7923</td>\n",
       "      <td>35990</td>\n",
       "    </tr>\n",
       "  </tbody>\n",
       "</table>\n",
       "</div>"
      ],
      "text/plain": [
       "             tweet_id                 timestamp              source  \\\n",
       "0  892420643555336193 2017-08-01 16:23:56+00:00  Twitter for iPhone   \n",
       "1  892177421306343426 2017-08-01 00:17:27+00:00  Twitter for iPhone   \n",
       "2  891815181378084864 2017-07-31 00:18:03+00:00  Twitter for iPhone   \n",
       "3  891689557279858688 2017-07-30 15:58:51+00:00  Twitter for iPhone   \n",
       "4  891327558926688256 2017-07-29 16:00:24+00:00  Twitter for iPhone   \n",
       "\n",
       "                                                text  \\\n",
       "0  This is Phineas. He's a mystical boy. Only eve...   \n",
       "1  This is Tilly. She's just checking pup on you....   \n",
       "2  This is Archie. He is a rare Norwegian Pouncin...   \n",
       "3  This is Darla. She commenced a snooze mid meal...   \n",
       "4  This is Franklin. He would like you to stop ca...   \n",
       "\n",
       "                                       expanded_urls  rating_numerator  \\\n",
       "0  https://twitter.com/dog_rates/status/892420643...              13.0   \n",
       "1  https://twitter.com/dog_rates/status/892177421...              13.0   \n",
       "2  https://twitter.com/dog_rates/status/891815181...              12.0   \n",
       "3  https://twitter.com/dog_rates/status/891689557...              13.0   \n",
       "4  https://twitter.com/dog_rates/status/891327558...              12.0   \n",
       "\n",
       "   rating_denominator      name dog_stage  retweet_count  favorite_count  \n",
       "0                  10   Phineas       NaN           7167           34466  \n",
       "1                  10     Tilly       NaN           5387           29874  \n",
       "2                  10    Archie       NaN           3552           22496  \n",
       "3                  10     Darla       NaN           7386           37677  \n",
       "4                  10  Franklin       NaN           7923           35990  "
      ]
     },
     "execution_count": 59,
     "metadata": {},
     "output_type": "execute_result"
    }
   ],
   "source": [
    "df_archive_copy.head()"
   ]
  },
  {
   "cell_type": "markdown",
   "metadata": {},
   "source": [
    "### Issue #3 (Tidy):\n",
    "#### Define: Same variables split to different columns `(p1, p2, p3), (p1_conf, p2_conf, p3_conf), (p1_dog, p2_dog, p3_dog)`.\n",
    "> Use `pd.melt()` to melt `p1`, `p2` and `p3` into `prediction_no` and `prediction`. Then set prediction_no to 1, 2, and 3 and afterwards drop `p1`, `p2` and `p3` from `df_ipred_copy` and `['jpg_url', 'img_num', 'p1_conf', 'p2_conf', 'p3_conf', 'p1_dog', 'p2_dog', 'p3_dog']` from melted df.\n",
    ">\n",
    "> *Melt* `p1_conf`, `p2_conf` and `p3_conf` into `prediction_no` and `confidence`. Then set prediction_no to 1, 2, and 3 and afterwards drop `p1_conf`, `p2_conf` and `p3_conf` from `df_ipred_copy` and `['jpg_url', 'img_num', 'p1_dog', 'p2_dog', 'p3_dog']` from melted df.\n",
    ">\n",
    "> *Melt* `p1_dog`, `p2_dog` and `p3_dog` into `prediction_no` and `is_dog`. Then set prediction_no to 1, 2, 3 and afterwards drop `p1_dog`, `p2_dog` and `p3_dog` from `df_ipred_copy` and `['jpg_url', 'img_num']` from melted df.\n",
    ">\n",
    "> *Merge* df_prediction, df_confidence and df_is_dog on `tweet_id` and `prediction_no`."
   ]
  },
  {
   "cell_type": "markdown",
   "metadata": {},
   "source": [
    "#### Code"
   ]
  },
  {
   "cell_type": "code",
   "execution_count": 60,
   "metadata": {},
   "outputs": [],
   "source": [
    "# Lambda function to split string by '_' and return str.split()[0].strip('p') as prediction\n",
    "select_prediction = lambda prediction_no: prediction_no.split('_')[0].strip('p')"
   ]
  },
  {
   "cell_type": "markdown",
   "metadata": {},
   "source": [
    "> Melt columns"
   ]
  },
  {
   "cell_type": "code",
   "execution_count": 61,
   "metadata": {},
   "outputs": [],
   "source": [
    "# Melting `p1`, `p2` and `p3` into `prediction_no` and `prediction`\n",
    "pred_id_vars = ['tweet_id', 'jpg_url', 'img_num', 'p1_conf', 'p2_conf', 'p3_conf', 'p1_dog', 'p2_dog', 'p3_dog']\n",
    "df_ipred_copy_pred = pd.melt(df_ipred_copy, id_vars=pred_id_vars, value_vars=['p1', 'p2', 'p3'], var_name='prediction_no', value_name='prediction')\n",
    "\n",
    "# Setting prediction number to 1, 2, and 3\n",
    "df_ipred_copy_pred.prediction_no = df_ipred_copy_pred.prediction_no.apply(select_prediction)\n",
    "\n",
    "# Droping p1, p2, and p3 from df_ipred_copy\n",
    "df_ipred_copy.drop(columns=['p1', 'p2', 'p3'], inplace=True)\n",
    "# Droping ['jpg_url', 'img_num', 'p1_conf', 'p2_conf', 'p3_conf', 'p1_dog', 'p2_dog', 'p3_dog'] from df_ipred_copy_pred\n",
    "df_ipred_copy_pred.drop(columns=['jpg_url', 'img_num', 'p1_conf', 'p2_conf', 'p3_conf', 'p1_dog', 'p2_dog', 'p3_dog'], inplace=True)"
   ]
  },
  {
   "cell_type": "code",
   "execution_count": 62,
   "metadata": {},
   "outputs": [],
   "source": [
    "# Melting 'p1_conf', 'p2_conf' and 'p3_conf' into `prediction_no` and `confidence`\n",
    "conf_id_vars = ['tweet_id', 'jpg_url', 'img_num', 'p1_dog', 'p2_dog', 'p3_dog']\n",
    "df_ipred_copy_conf = pd.melt(df_ipred_copy, id_vars=conf_id_vars, value_vars=['p1_conf', 'p2_conf', 'p3_conf'], var_name='prediction_no', value_name='confidence')\n",
    "\n",
    "# Setting prediction number to 1, 2, and 3\n",
    "df_ipred_copy_conf.prediction_no = df_ipred_copy_conf.prediction_no.apply(select_prediction)\n",
    "\n",
    "# Droping 'p1_conf', 'p2_conf', 'p3_conf' from df_ipred_copy\n",
    "df_ipred_copy.drop(columns=['p1_conf', 'p2_conf', 'p3_conf'], inplace=True)\n",
    "# Droping ['jpg_url', 'img_num', 'p1_dog', 'p2_dog', 'p3_dog'] from df_ipred_copy_conf\n",
    "df_ipred_copy_conf.drop(columns=['jpg_url', 'img_num', 'p1_dog', 'p2_dog', 'p3_dog'], inplace=True)"
   ]
  },
  {
   "cell_type": "code",
   "execution_count": 63,
   "metadata": {},
   "outputs": [],
   "source": [
    "# Melting 'p1_dog', 'p2_dog', 'p3_dog' into `prediction_no` and `is_dog`\n",
    "is_dog_id_vars = ['tweet_id', 'jpg_url', 'img_num']\n",
    "df_ipred_copy_is_dog = pd.melt(df_ipred_copy, id_vars=is_dog_id_vars, value_vars=['p1_dog', 'p2_dog', 'p3_dog'], var_name='prediction_no', value_name='is_dog')\n",
    "\n",
    "# Setting prediction number to 1, 2, and 3\n",
    "df_ipred_copy_is_dog.prediction_no = df_ipred_copy_is_dog.prediction_no.apply(select_prediction)\n",
    "\n",
    "# Droping 'p1_dog', 'p2_dog', 'p3_dog' from df_ipred_copy\n",
    "df_ipred_copy.drop(columns=['p1_dog', 'p2_dog', 'p3_dog'], inplace=True)\n",
    "# Droping ['jpg_url', 'img_num'] from df_ipred_copy_is_dog\n",
    "df_ipred_copy_is_dog.drop(columns=['jpg_url', 'img_num'], inplace=True)"
   ]
  },
  {
   "cell_type": "markdown",
   "metadata": {},
   "source": [
    "> Merge columns"
   ]
  },
  {
   "cell_type": "code",
   "execution_count": 64,
   "metadata": {},
   "outputs": [],
   "source": [
    "# Merging df_ipred_copy_pred to df_ipred_copy\n",
    "df_ipred_copy = df_ipred_copy.merge(df_ipred_copy_pred, left_on='tweet_id', right_on='tweet_id')"
   ]
  },
  {
   "cell_type": "code",
   "execution_count": 65,
   "metadata": {},
   "outputs": [],
   "source": [
    "# Merging df_ipred_copy_conf to df_ipred_copy\n",
    "df_ipred_copy = df_ipred_copy.merge(df_ipred_copy_conf, left_on=['tweet_id', 'prediction_no'], right_on=['tweet_id', 'prediction_no'])\n",
    "\n",
    "# Merging df_ipred_copy_is_dog to df_ipred_copy\n",
    "df_ipred_copy = df_ipred_copy.merge(df_ipred_copy_is_dog, left_on=['tweet_id', 'prediction_no'], right_on=['tweet_id', 'prediction_no'])"
   ]
  },
  {
   "cell_type": "code",
   "execution_count": 66,
   "metadata": {},
   "outputs": [],
   "source": [
    "df_ipred_copy.prediction_no = df_ipred_copy.prediction_no.astype('int64')"
   ]
  },
  {
   "cell_type": "markdown",
   "metadata": {},
   "source": [
    "#### Test"
   ]
  },
  {
   "cell_type": "code",
   "execution_count": 67,
   "metadata": {
    "scrolled": false
   },
   "outputs": [
    {
     "data": {
      "text/html": [
       "<div>\n",
       "<style scoped>\n",
       "    .dataframe tbody tr th:only-of-type {\n",
       "        vertical-align: middle;\n",
       "    }\n",
       "\n",
       "    .dataframe tbody tr th {\n",
       "        vertical-align: top;\n",
       "    }\n",
       "\n",
       "    .dataframe thead th {\n",
       "        text-align: right;\n",
       "    }\n",
       "</style>\n",
       "<table border=\"1\" class=\"dataframe\">\n",
       "  <thead>\n",
       "    <tr style=\"text-align: right;\">\n",
       "      <th></th>\n",
       "      <th>tweet_id</th>\n",
       "      <th>jpg_url</th>\n",
       "      <th>img_num</th>\n",
       "      <th>prediction_no</th>\n",
       "      <th>prediction</th>\n",
       "      <th>confidence</th>\n",
       "      <th>is_dog</th>\n",
       "    </tr>\n",
       "  </thead>\n",
       "  <tbody>\n",
       "    <tr>\n",
       "      <th>0</th>\n",
       "      <td>666020888022790149</td>\n",
       "      <td>https://pbs.twimg.com/media/CT4udn0WwAA0aMy.jpg</td>\n",
       "      <td>1</td>\n",
       "      <td>1</td>\n",
       "      <td>Welsh_springer_spaniel</td>\n",
       "      <td>0.465074</td>\n",
       "      <td>True</td>\n",
       "    </tr>\n",
       "    <tr>\n",
       "      <th>1</th>\n",
       "      <td>666020888022790149</td>\n",
       "      <td>https://pbs.twimg.com/media/CT4udn0WwAA0aMy.jpg</td>\n",
       "      <td>1</td>\n",
       "      <td>2</td>\n",
       "      <td>collie</td>\n",
       "      <td>0.156665</td>\n",
       "      <td>True</td>\n",
       "    </tr>\n",
       "    <tr>\n",
       "      <th>2</th>\n",
       "      <td>666020888022790149</td>\n",
       "      <td>https://pbs.twimg.com/media/CT4udn0WwAA0aMy.jpg</td>\n",
       "      <td>1</td>\n",
       "      <td>3</td>\n",
       "      <td>Shetland_sheepdog</td>\n",
       "      <td>0.061428</td>\n",
       "      <td>True</td>\n",
       "    </tr>\n",
       "    <tr>\n",
       "      <th>3</th>\n",
       "      <td>666029285002620928</td>\n",
       "      <td>https://pbs.twimg.com/media/CT42GRgUYAA5iDo.jpg</td>\n",
       "      <td>1</td>\n",
       "      <td>1</td>\n",
       "      <td>redbone</td>\n",
       "      <td>0.506826</td>\n",
       "      <td>True</td>\n",
       "    </tr>\n",
       "    <tr>\n",
       "      <th>4</th>\n",
       "      <td>666029285002620928</td>\n",
       "      <td>https://pbs.twimg.com/media/CT42GRgUYAA5iDo.jpg</td>\n",
       "      <td>1</td>\n",
       "      <td>2</td>\n",
       "      <td>miniature_pinscher</td>\n",
       "      <td>0.074192</td>\n",
       "      <td>True</td>\n",
       "    </tr>\n",
       "  </tbody>\n",
       "</table>\n",
       "</div>"
      ],
      "text/plain": [
       "             tweet_id                                          jpg_url  \\\n",
       "0  666020888022790149  https://pbs.twimg.com/media/CT4udn0WwAA0aMy.jpg   \n",
       "1  666020888022790149  https://pbs.twimg.com/media/CT4udn0WwAA0aMy.jpg   \n",
       "2  666020888022790149  https://pbs.twimg.com/media/CT4udn0WwAA0aMy.jpg   \n",
       "3  666029285002620928  https://pbs.twimg.com/media/CT42GRgUYAA5iDo.jpg   \n",
       "4  666029285002620928  https://pbs.twimg.com/media/CT42GRgUYAA5iDo.jpg   \n",
       "\n",
       "   img_num  prediction_no              prediction  confidence  is_dog  \n",
       "0        1              1  Welsh_springer_spaniel    0.465074    True  \n",
       "1        1              2                  collie    0.156665    True  \n",
       "2        1              3       Shetland_sheepdog    0.061428    True  \n",
       "3        1              1                 redbone    0.506826    True  \n",
       "4        1              2      miniature_pinscher    0.074192    True  "
      ]
     },
     "execution_count": 67,
     "metadata": {},
     "output_type": "execute_result"
    }
   ],
   "source": [
    "df_ipred_copy.head()"
   ]
  },
  {
   "cell_type": "code",
   "execution_count": 68,
   "metadata": {
    "scrolled": true
   },
   "outputs": [
    {
     "name": "stdout",
     "output_type": "stream",
     "text": [
      "<class 'pandas.core.frame.DataFrame'>\n",
      "Int64Index: 6225 entries, 0 to 6224\n",
      "Data columns (total 7 columns):\n",
      " #   Column         Non-Null Count  Dtype  \n",
      "---  ------         --------------  -----  \n",
      " 0   tweet_id       6225 non-null   object \n",
      " 1   jpg_url        6225 non-null   object \n",
      " 2   img_num        6225 non-null   int64  \n",
      " 3   prediction_no  6225 non-null   int64  \n",
      " 4   prediction     6225 non-null   object \n",
      " 5   confidence     6225 non-null   float64\n",
      " 6   is_dog         6225 non-null   bool   \n",
      "dtypes: bool(1), float64(1), int64(2), object(3)\n",
      "memory usage: 346.5+ KB\n"
     ]
    }
   ],
   "source": [
    "df_ipred_copy.info()"
   ]
  },
  {
   "cell_type": "markdown",
   "metadata": {},
   "source": [
    "## Storing Data\n",
    "Save gathered, assessed, and cleaned master dataset to a CSV file named \"twitter_archive_master.csv\".\n",
    "\n",
    "### Storing to csv"
   ]
  },
  {
   "cell_type": "code",
   "execution_count": 69,
   "metadata": {},
   "outputs": [],
   "source": [
    "# Storing df_archive_copy as twitter_archive_master.csv\n",
    "df_archive_copy.to_csv('twitter_archive_master.csv', index=False)\n",
    "\n",
    "# Storing df_ipred_copy as image_predications_master.csv\n",
    "df_ipred_copy.to_csv('image_predications_master.csv', index=False)"
   ]
  },
  {
   "cell_type": "markdown",
   "metadata": {},
   "source": [
    "### Storing to sql"
   ]
  },
  {
   "cell_type": "code",
   "execution_count": 70,
   "metadata": {},
   "outputs": [],
   "source": [
    "from sqlalchemy import create_engine\n",
    "\n",
    "# Using SQL Alchemy create engine to create sql engine\n",
    "engine = create_engine('sqlite:///weratedog.db')"
   ]
  },
  {
   "cell_type": "code",
   "execution_count": 71,
   "metadata": {},
   "outputs": [],
   "source": [
    "# store df_archive_copy to weratedog.db\n",
    "df_archive_copy.to_sql('twitter_archive_master', engine, index=False)"
   ]
  },
  {
   "cell_type": "code",
   "execution_count": 72,
   "metadata": {},
   "outputs": [],
   "source": [
    "# store df_ipred_copy to weratedog.db\n",
    "df_ipred_copy.to_sql('image_predications_master', engine, index=False)"
   ]
  },
  {
   "cell_type": "markdown",
   "metadata": {},
   "source": [
    "## Analyzing and Visualizing Data\n",
    "In this section, analyze and visualize your wrangled data. You must produce at least **three (3) insights and one (1) visualization.**"
   ]
  },
  {
   "cell_type": "markdown",
   "metadata": {},
   "source": [
    "#### What time of day does @dog_rates post the most?"
   ]
  },
  {
   "cell_type": "code",
   "execution_count": 73,
   "metadata": {
    "scrolled": true
   },
   "outputs": [
    {
     "data": {
      "text/html": [
       "<div>\n",
       "<style scoped>\n",
       "    .dataframe tbody tr th:only-of-type {\n",
       "        vertical-align: middle;\n",
       "    }\n",
       "\n",
       "    .dataframe tbody tr th {\n",
       "        vertical-align: top;\n",
       "    }\n",
       "\n",
       "    .dataframe thead th {\n",
       "        text-align: right;\n",
       "    }\n",
       "</style>\n",
       "<table border=\"1\" class=\"dataframe\">\n",
       "  <thead>\n",
       "    <tr style=\"text-align: right;\">\n",
       "      <th></th>\n",
       "      <th>tweet_id</th>\n",
       "      <th>timestamp</th>\n",
       "      <th>source</th>\n",
       "      <th>text</th>\n",
       "      <th>expanded_urls</th>\n",
       "      <th>rating_numerator</th>\n",
       "      <th>rating_denominator</th>\n",
       "      <th>name</th>\n",
       "      <th>dog_stage</th>\n",
       "      <th>retweet_count</th>\n",
       "      <th>favorite_count</th>\n",
       "      <th>time_category</th>\n",
       "    </tr>\n",
       "  </thead>\n",
       "  <tbody>\n",
       "    <tr>\n",
       "      <th>1819</th>\n",
       "      <td>670807719151067136</td>\n",
       "      <td>2015-11-29 03:33:17+00:00</td>\n",
       "      <td>Twitter for iPhone</td>\n",
       "      <td>Say hello to Andy. He can balance on one foot,...</td>\n",
       "      <td>https://twitter.com/dog_rates/status/670807719...</td>\n",
       "      <td>11.0</td>\n",
       "      <td>10</td>\n",
       "      <td>Andy</td>\n",
       "      <td>NaN</td>\n",
       "      <td>440</td>\n",
       "      <td>1067</td>\n",
       "      <td>early_morning</td>\n",
       "    </tr>\n",
       "    <tr>\n",
       "      <th>1185</th>\n",
       "      <td>698355670425473025</td>\n",
       "      <td>2016-02-13 03:59:01+00:00</td>\n",
       "      <td>Twitter for iPhone</td>\n",
       "      <td>This is Jessiga. She's a Tasmanian McCringlebe...</td>\n",
       "      <td>https://twitter.com/dog_rates/status/698355670...</td>\n",
       "      <td>10.0</td>\n",
       "      <td>10</td>\n",
       "      <td>Jessiga</td>\n",
       "      <td>NaN</td>\n",
       "      <td>413</td>\n",
       "      <td>1742</td>\n",
       "      <td>early_morning</td>\n",
       "    </tr>\n",
       "    <tr>\n",
       "      <th>1626</th>\n",
       "      <td>674805413498527744</td>\n",
       "      <td>2015-12-10 04:18:42+00:00</td>\n",
       "      <td>Twitter for iPhone</td>\n",
       "      <td>When your entire life is crumbling before you ...</td>\n",
       "      <td>https://twitter.com/dog_rates/status/674805413...</td>\n",
       "      <td>10.0</td>\n",
       "      <td>10</td>\n",
       "      <td>NaN</td>\n",
       "      <td>NaN</td>\n",
       "      <td>324</td>\n",
       "      <td>781</td>\n",
       "      <td>early_morning</td>\n",
       "    </tr>\n",
       "    <tr>\n",
       "      <th>444</th>\n",
       "      <td>800388270626521089</td>\n",
       "      <td>2016-11-20 17:20:08+00:00</td>\n",
       "      <td>Twitter for iPhone</td>\n",
       "      <td>This is Doc. He takes time out of every day to...</td>\n",
       "      <td>https://twitter.com/dog_rates/status/800388270...</td>\n",
       "      <td>12.0</td>\n",
       "      <td>10</td>\n",
       "      <td>Doc</td>\n",
       "      <td>floofer</td>\n",
       "      <td>2677</td>\n",
       "      <td>10832</td>\n",
       "      <td>afternoon</td>\n",
       "    </tr>\n",
       "    <tr>\n",
       "      <th>278</th>\n",
       "      <td>829861396166877184</td>\n",
       "      <td>2017-02-10 01:15:49+00:00</td>\n",
       "      <td>Twitter for iPhone</td>\n",
       "      <td>This is Mia. She already knows she's a good do...</td>\n",
       "      <td>https://twitter.com/dog_rates/status/829861396...</td>\n",
       "      <td>12.0</td>\n",
       "      <td>10</td>\n",
       "      <td>Mia</td>\n",
       "      <td>NaN</td>\n",
       "      <td>1830</td>\n",
       "      <td>11769</td>\n",
       "      <td>early_morning</td>\n",
       "    </tr>\n",
       "    <tr>\n",
       "      <th>231</th>\n",
       "      <td>837471256429613056</td>\n",
       "      <td>2017-03-03 01:14:41+00:00</td>\n",
       "      <td>Twitter for iPhone</td>\n",
       "      <td>This is Vincent. He's suave as h*ck. Will be y...</td>\n",
       "      <td>https://twitter.com/dog_rates/status/837471256...</td>\n",
       "      <td>12.0</td>\n",
       "      <td>10</td>\n",
       "      <td>Vincent</td>\n",
       "      <td>NaN</td>\n",
       "      <td>2115</td>\n",
       "      <td>12233</td>\n",
       "      <td>early_morning</td>\n",
       "    </tr>\n",
       "    <tr>\n",
       "      <th>1410</th>\n",
       "      <td>683142553609318400</td>\n",
       "      <td>2016-01-02 04:27:31+00:00</td>\n",
       "      <td>Twitter for iPhone</td>\n",
       "      <td>Meet Brandy. She's a member of the Bloods. Men...</td>\n",
       "      <td>https://twitter.com/dog_rates/status/683142553...</td>\n",
       "      <td>9.0</td>\n",
       "      <td>10</td>\n",
       "      <td>Brandy</td>\n",
       "      <td>pupper</td>\n",
       "      <td>976</td>\n",
       "      <td>2707</td>\n",
       "      <td>early_morning</td>\n",
       "    </tr>\n",
       "    <tr>\n",
       "      <th>1243</th>\n",
       "      <td>693267061318012928</td>\n",
       "      <td>2016-01-30 02:58:42+00:00</td>\n",
       "      <td>Vine - Make a Scene</td>\n",
       "      <td>This is Oscar. He can wave. Friendly af. 12/10...</td>\n",
       "      <td>https://vine.co/v/i5n2irFUYWv</td>\n",
       "      <td>12.0</td>\n",
       "      <td>10</td>\n",
       "      <td>Oscar</td>\n",
       "      <td>NaN</td>\n",
       "      <td>753</td>\n",
       "      <td>2244</td>\n",
       "      <td>early_morning</td>\n",
       "    </tr>\n",
       "    <tr>\n",
       "      <th>1889</th>\n",
       "      <td>669603084620980224</td>\n",
       "      <td>2015-11-25 19:46:30+00:00</td>\n",
       "      <td>Twitter for iPhone</td>\n",
       "      <td>Very human-like. Cute overbite smile *finger t...</td>\n",
       "      <td>https://twitter.com/dog_rates/status/669603084...</td>\n",
       "      <td>10.0</td>\n",
       "      <td>10</td>\n",
       "      <td>NaN</td>\n",
       "      <td>NaN</td>\n",
       "      <td>326</td>\n",
       "      <td>869</td>\n",
       "      <td>night</td>\n",
       "    </tr>\n",
       "    <tr>\n",
       "      <th>254</th>\n",
       "      <td>833722901757046785</td>\n",
       "      <td>2017-02-20 17:00:04+00:00</td>\n",
       "      <td>Twitter for iPhone</td>\n",
       "      <td>This is Bronte. She's fairly h*ckin aerodynami...</td>\n",
       "      <td>https://twitter.com/dog_rates/status/833722901...</td>\n",
       "      <td>13.0</td>\n",
       "      <td>10</td>\n",
       "      <td>Bronte</td>\n",
       "      <td>NaN</td>\n",
       "      <td>3058</td>\n",
       "      <td>20068</td>\n",
       "      <td>afternoon</td>\n",
       "    </tr>\n",
       "  </tbody>\n",
       "</table>\n",
       "</div>"
      ],
      "text/plain": [
       "                tweet_id                 timestamp               source  \\\n",
       "1819  670807719151067136 2015-11-29 03:33:17+00:00   Twitter for iPhone   \n",
       "1185  698355670425473025 2016-02-13 03:59:01+00:00   Twitter for iPhone   \n",
       "1626  674805413498527744 2015-12-10 04:18:42+00:00   Twitter for iPhone   \n",
       "444   800388270626521089 2016-11-20 17:20:08+00:00   Twitter for iPhone   \n",
       "278   829861396166877184 2017-02-10 01:15:49+00:00   Twitter for iPhone   \n",
       "231   837471256429613056 2017-03-03 01:14:41+00:00   Twitter for iPhone   \n",
       "1410  683142553609318400 2016-01-02 04:27:31+00:00   Twitter for iPhone   \n",
       "1243  693267061318012928 2016-01-30 02:58:42+00:00  Vine - Make a Scene   \n",
       "1889  669603084620980224 2015-11-25 19:46:30+00:00   Twitter for iPhone   \n",
       "254   833722901757046785 2017-02-20 17:00:04+00:00   Twitter for iPhone   \n",
       "\n",
       "                                                   text  \\\n",
       "1819  Say hello to Andy. He can balance on one foot,...   \n",
       "1185  This is Jessiga. She's a Tasmanian McCringlebe...   \n",
       "1626  When your entire life is crumbling before you ...   \n",
       "444   This is Doc. He takes time out of every day to...   \n",
       "278   This is Mia. She already knows she's a good do...   \n",
       "231   This is Vincent. He's suave as h*ck. Will be y...   \n",
       "1410  Meet Brandy. She's a member of the Bloods. Men...   \n",
       "1243  This is Oscar. He can wave. Friendly af. 12/10...   \n",
       "1889  Very human-like. Cute overbite smile *finger t...   \n",
       "254   This is Bronte. She's fairly h*ckin aerodynami...   \n",
       "\n",
       "                                          expanded_urls  rating_numerator  \\\n",
       "1819  https://twitter.com/dog_rates/status/670807719...              11.0   \n",
       "1185  https://twitter.com/dog_rates/status/698355670...              10.0   \n",
       "1626  https://twitter.com/dog_rates/status/674805413...              10.0   \n",
       "444   https://twitter.com/dog_rates/status/800388270...              12.0   \n",
       "278   https://twitter.com/dog_rates/status/829861396...              12.0   \n",
       "231   https://twitter.com/dog_rates/status/837471256...              12.0   \n",
       "1410  https://twitter.com/dog_rates/status/683142553...               9.0   \n",
       "1243                      https://vine.co/v/i5n2irFUYWv              12.0   \n",
       "1889  https://twitter.com/dog_rates/status/669603084...              10.0   \n",
       "254   https://twitter.com/dog_rates/status/833722901...              13.0   \n",
       "\n",
       "      rating_denominator     name dog_stage  retweet_count  favorite_count  \\\n",
       "1819                  10     Andy       NaN            440            1067   \n",
       "1185                  10  Jessiga       NaN            413            1742   \n",
       "1626                  10      NaN       NaN            324             781   \n",
       "444                   10      Doc   floofer           2677           10832   \n",
       "278                   10      Mia       NaN           1830           11769   \n",
       "231                   10  Vincent       NaN           2115           12233   \n",
       "1410                  10   Brandy    pupper            976            2707   \n",
       "1243                  10    Oscar       NaN            753            2244   \n",
       "1889                  10      NaN       NaN            326             869   \n",
       "254                   10   Bronte       NaN           3058           20068   \n",
       "\n",
       "      time_category  \n",
       "1819  early_morning  \n",
       "1185  early_morning  \n",
       "1626  early_morning  \n",
       "444       afternoon  \n",
       "278   early_morning  \n",
       "231   early_morning  \n",
       "1410  early_morning  \n",
       "1243  early_morning  \n",
       "1889          night  \n",
       "254       afternoon  "
      ]
     },
     "execution_count": 73,
     "metadata": {},
     "output_type": "execute_result"
    }
   ],
   "source": [
    "# Let's split our time values into 4 categories;\n",
    "# * Early Morning [00:00:00 - 06:00:00)\n",
    "# * Morning [06:00:00 - 12:00:00)\n",
    "# * Afternoon [12:00:00 - 18:00:00)\n",
    "# * Night [18:00:00 - 00:00:00)\n",
    "\n",
    "time_category = {} # Dictionary to hold the time category and it's index in the series\n",
    "\n",
    "for index, time in df_archive_copy.timestamp.dt.time.items():\n",
    "    if time < datetime.time(6, 0, 0):\n",
    "        time_category[index] = 'early_morning'\n",
    "    elif time < datetime.time(12, 0, 0):\n",
    "        time_category[index] = 'morning'\n",
    "    elif time < datetime.time(18, 0, 0):\n",
    "        time_category[index] = 'afternoon'\n",
    "    else:\n",
    "        time_category[index] = 'night'\n",
    "        \n",
    "time_category = pd.Series(time_category)\n",
    "\n",
    "# Create category for time\n",
    "ordered_category = ['early_morning', 'morning', 'afternoon', 'night']\n",
    "ordered_category = pd.api.types.CategoricalDtype(categories=ordered_category, ordered=True)\n",
    "\n",
    "# Set category to time\n",
    "time_category = time_category.astype(ordered_category)\n",
    "\n",
    "# Join our \"time_category\" series to df_archive_copy\n",
    "df_archive_copy['time_category'] = time_category\n",
    "df_archive_copy.sample(10)"
   ]
  },
  {
   "cell_type": "code",
   "execution_count": 74,
   "metadata": {},
   "outputs": [
    {
     "data": {
      "text/plain": [
       "early_morning    1070\n",
       "morning             4\n",
       "afternoon         473\n",
       "night             538\n",
       "Name: time_category, dtype: int64"
      ]
     },
     "execution_count": 74,
     "metadata": {},
     "output_type": "execute_result"
    }
   ],
   "source": [
    "# Getting values counts for each time category\n",
    "data_to_plot = df_archive_copy['time_category'].value_counts().sort_index()\n",
    "data_to_plot"
   ]
  },
  {
   "cell_type": "code",
   "execution_count": 75,
   "metadata": {
    "scrolled": true
   },
   "outputs": [
    {
     "data": {
      "image/png": "[encoded data removed]",
      "text/plain": [
       "<Figure size 432x288 with 1 Axes>"
      ]
     },
     "metadata": {
      "needs_background": "light"
     },
     "output_type": "display_data"
    }
   ],
   "source": [
    "# Plotting\n",
    "plt.bar(data_to_plot.index,  data_to_plot)\n",
    "plt.xlabel('Time of Day');\n",
    "plt.ylabel('Tweet Count');\n",
    "plt.title('Count of Tweets Posted by @dog_rates vs Time of Day');"
   ]
  },
  {
   "cell_type": "markdown",
   "metadata": {},
   "source": [
    "> Seems @dog_rates is a night owl with most of his post at night and in the early hours of the morning. From 6:00 PM to 6:00 AM."
   ]
  },
  {
   "cell_type": "markdown",
   "metadata": {},
   "source": [
    "#### What time of day did @dog_rates have the highest retweet, highest retweets on average, lowest retweet?"
   ]
  },
  {
   "cell_type": "code",
   "execution_count": 76,
   "metadata": {},
   "outputs": [],
   "source": [
    "# Get max retweet counts for each time category\n",
    "retweet_counts_max = df_archive_copy.groupby('time_category').retweet_count.max().values\n",
    "time_category_max = df_archive_copy.groupby('time_category').retweet_count.max().index\n",
    "\n",
    "# Get mean retweet counts for each time category\n",
    "retweet_counts_avg = df_archive_copy.groupby('time_category').retweet_count.mean().values\n",
    "time_category_avg = df_archive_copy.groupby('time_category').retweet_count.mean().index\n",
    "\n",
    "# Get min retweet counts for each time category\n",
    "retweet_counts_min = df_archive_copy.groupby('time_category').retweet_count.min().values\n",
    "time_category_min = df_archive_copy.groupby('time_category').retweet_count.min().index"
   ]
  },
  {
   "cell_type": "code",
   "execution_count": 77,
   "metadata": {
    "scrolled": false
   },
   "outputs": [
    {
     "data": {
      "image/png": "[encoded data removed]",
      "text/plain": [
       "<Figure size 1080x864 with 4 Axes>"
      ]
     },
     "metadata": {
      "needs_background": "light"
     },
     "output_type": "display_data"
    }
   ],
   "source": [
    "# Plotting with plt.subplot\n",
    "fig, axs = plt.subplots(2, 2, figsize=(15, 12))\n",
    "fig.tight_layout(pad=10.0)\n",
    "\n",
    "# Maximum retweet count\n",
    "axs[0][0].bar(time_category_max, retweet_counts_max);\n",
    "axs[0][0].set_title('Maximum Retweet Count of @dog_rates by Time of Day');\n",
    "axs[0][0].set(xlabel='Time of Day', ylabel='Maximum Retweet count');\n",
    "axs[0][0].tick_params(axis='x', rotation=45);\n",
    "\n",
    "# Average retweet count\n",
    "axs[0][1].bar(time_category_avg, retweet_counts_avg);\n",
    "axs[0][1].set_title('Average Retweet Count of @dog_rates by Time of Day');\n",
    "axs[0][1].set(xlabel='Time of Day', ylabel='Average Retweet count');\n",
    "axs[0][1].tick_params(axis='x', rotation=45);\n",
    "\n",
    "# Minimum retweet count\n",
    "axs[1][0].bar(time_category_min, retweet_counts_min);\n",
    "axs[1][0].set_title('Minimum Retweet Count of @dog_rates by Time of Day');\n",
    "axs[1][0].set(xlabel='Time of Day', ylabel='Minimum Retweet count');\n",
    "axs[1][0].tick_params(axis='x', rotation=45);"
   ]
  },
  {
   "cell_type": "markdown",
   "metadata": {},
   "source": [
    "> @dog_rates seems to be getting high retweets around morning, from 6:00 AM to 12:00 PM, but this might be due to the very few tweets he has for this time range, about 4 tweets, and so there is not soo much to get an average on. \n",
    ">\n",
    "> However, on average, he seems to be getting an equal number of retweet for all his tweets independent of the time to day it is."
   ]
  },
  {
   "cell_type": "markdown",
   "metadata": {},
   "source": [
    "#### What year did @dog_rates get his most retweets on average?"
   ]
  },
  {
   "cell_type": "code",
   "execution_count": 78,
   "metadata": {},
   "outputs": [
    {
     "data": {
      "text/plain": [
       "(array([ 912.12143928, 2369.28435115, 4952.33783784]),\n",
       " Int64Index([2015, 2016, 2017], dtype='int64', name='year'))"
      ]
     },
     "execution_count": 78,
     "metadata": {},
     "output_type": "execute_result"
    }
   ],
   "source": [
    "# Add year to DataFrame\n",
    "df_archive_copy['year'] = df_archive_copy.timestamp.dt.year\n",
    "\n",
    "# Get average retweet counts for each year category\n",
    "retweet_counts_year = df_archive_copy.groupby('year').retweet_count.mean().values\n",
    "year_category = df_archive_copy.groupby('year').retweet_count.mean().index\n",
    "\n",
    "retweet_counts_year, year_category"
   ]
  },
  {
   "cell_type": "code",
   "execution_count": 79,
   "metadata": {},
   "outputs": [
    {
     "data": {
      "image/png": "[encoded data removed]",
      "text/plain": [
       "<Figure size 432x288 with 1 Axes>"
      ]
     },
     "metadata": {
      "needs_background": "light"
     },
     "output_type": "display_data"
    }
   ],
   "source": [
    "# Plotting\n",
    "year_label = ['2015', '2016', '2017']\n",
    "\n",
    "plt.bar(year_category, retweet_counts_year);\n",
    "plt.title('Average Retweet Count of @dog_rates by Year');\n",
    "plt.xlabel('Year');\n",
    "plt.xticks(year_category, year_label)\n",
    "plt.ylabel('Average Retweet count');"
   ]
  },
  {
   "cell_type": "markdown",
   "metadata": {},
   "source": [
    "> The average retweet of @dog_rates increases with year which should be expected since his followership increases with time."
   ]
  },
  {
   "cell_type": "markdown",
   "metadata": {},
   "source": [
    "#### What month does @dog_rates get his most retweets on average?"
   ]
  },
  {
   "cell_type": "code",
   "execution_count": 80,
   "metadata": {},
   "outputs": [
    {
     "data": {
      "text/plain": [
       "(array([2404.57142857, 2079.74731183, 2145.7032967 , 2775.06862745,\n",
       "        3826.96078431, 4258.69343066, 3599.91780822, 3040.41935484,\n",
       "        2949.05882353, 3896.70422535,  996.73428571, 1741.1147541 ]),\n",
       " Int64Index([1, 2, 3, 4, 5, 6, 7, 8, 9, 10, 11, 12], dtype='int64', name='month'))"
      ]
     },
     "execution_count": 80,
     "metadata": {},
     "output_type": "execute_result"
    }
   ],
   "source": [
    "# Add month to DataFrame\n",
    "df_archive_copy['month'] = df_archive_copy.timestamp.dt.month\n",
    "\n",
    "month_label = ['Jan', 'Feb', 'Mar', 'Apr', 'May', 'Jun', 'Jul', 'Aug', 'Sep', 'Oct', 'Nov', 'Dec']\n",
    "\n",
    "# Get average retweet counts for each year category\n",
    "retweet_counts_month = df_archive_copy.groupby('month').retweet_count.mean().values\n",
    "month_category = df_archive_copy.groupby('month').retweet_count.mean().index\n",
    "\n",
    "retweet_counts_month, month_category"
   ]
  },
  {
   "cell_type": "code",
   "execution_count": 81,
   "metadata": {
    "scrolled": false
   },
   "outputs": [
    {
     "data": {
      "image/png": "[encoded data removed]",
      "text/plain": [
       "<Figure size 864x432 with 1 Axes>"
      ]
     },
     "metadata": {
      "needs_background": "light"
     },
     "output_type": "display_data"
    }
   ],
   "source": [
    "plt.figure(figsize=(12, 6))\n",
    "plt.bar(month_category, retweet_counts_month);\n",
    "plt.title('Average Retweet Count of @dog_rates by Month');\n",
    "plt.xlabel('Month');\n",
    "plt.xticks(month_category, month_label)\n",
    "plt.ylabel('Average Retweet count');"
   ]
  },
  {
   "cell_type": "markdown",
   "metadata": {},
   "source": [
    "> @dog_rates gets his most retweets in the months of `May`, `June` and `October` and his least in `November`."
   ]
  },
  {
   "cell_type": "markdown",
   "metadata": {},
   "source": [
    "#### What dog stage gets the most `rating` on average from @dog_rates?\n",
    "> We'll perform this analysis for dog_stages with single stage values."
   ]
  },
  {
   "cell_type": "code",
   "execution_count": 82,
   "metadata": {},
   "outputs": [
    {
     "data": {
      "text/plain": [
       "Int64Index([   9,   12,   14,   28,   39,   42,   45,   51,   64,   72,\n",
       "            ...\n",
       "            1717, 1718, 1722, 1728, 1729, 1732, 1739, 1746, 1752, 1754],\n",
       "           dtype='int64', length=323)"
      ]
     },
     "execution_count": 82,
     "metadata": {},
     "output_type": "execute_result"
    }
   ],
   "source": [
    "# Select rows with single 'dog_stage'\n",
    "mask = ~df_archive_copy.query('dog_stage == dog_stage').dog_stage.str.contains(', ')\n",
    "index = mask[mask].index\n",
    "index"
   ]
  },
  {
   "cell_type": "code",
   "execution_count": 83,
   "metadata": {
    "scrolled": true
   },
   "outputs": [
    {
     "data": {
      "text/html": [
       "<div>\n",
       "<style scoped>\n",
       "    .dataframe tbody tr th:only-of-type {\n",
       "        vertical-align: middle;\n",
       "    }\n",
       "\n",
       "    .dataframe tbody tr th {\n",
       "        vertical-align: top;\n",
       "    }\n",
       "\n",
       "    .dataframe thead th {\n",
       "        text-align: right;\n",
       "    }\n",
       "</style>\n",
       "<table border=\"1\" class=\"dataframe\">\n",
       "  <thead>\n",
       "    <tr style=\"text-align: right;\">\n",
       "      <th></th>\n",
       "      <th>tweet_id</th>\n",
       "      <th>timestamp</th>\n",
       "      <th>source</th>\n",
       "      <th>text</th>\n",
       "      <th>expanded_urls</th>\n",
       "      <th>rating_numerator</th>\n",
       "      <th>rating_denominator</th>\n",
       "      <th>name</th>\n",
       "      <th>dog_stage</th>\n",
       "      <th>retweet_count</th>\n",
       "      <th>favorite_count</th>\n",
       "      <th>time_category</th>\n",
       "      <th>year</th>\n",
       "      <th>month</th>\n",
       "    </tr>\n",
       "  </thead>\n",
       "  <tbody>\n",
       "    <tr>\n",
       "      <th>9</th>\n",
       "      <td>890240255349198849</td>\n",
       "      <td>2017-07-26 15:59:51+00:00</td>\n",
       "      <td>Twitter for iPhone</td>\n",
       "      <td>This is Cassie. She is a college pup. Studying...</td>\n",
       "      <td>https://twitter.com/dog_rates/status/890240255...</td>\n",
       "      <td>14.0</td>\n",
       "      <td>10</td>\n",
       "      <td>Cassie</td>\n",
       "      <td>doggo</td>\n",
       "      <td>6222</td>\n",
       "      <td>28519</td>\n",
       "      <td>afternoon</td>\n",
       "      <td>2017</td>\n",
       "      <td>7</td>\n",
       "    </tr>\n",
       "    <tr>\n",
       "      <th>12</th>\n",
       "      <td>889665388333682689</td>\n",
       "      <td>2017-07-25 01:55:32+00:00</td>\n",
       "      <td>Twitter for iPhone</td>\n",
       "      <td>Here's a puppo that seems to be on the fence a...</td>\n",
       "      <td>https://twitter.com/dog_rates/status/889665388...</td>\n",
       "      <td>13.0</td>\n",
       "      <td>10</td>\n",
       "      <td>NaN</td>\n",
       "      <td>puppo</td>\n",
       "      <td>8539</td>\n",
       "      <td>42890</td>\n",
       "      <td>early_morning</td>\n",
       "      <td>2017</td>\n",
       "      <td>7</td>\n",
       "    </tr>\n",
       "    <tr>\n",
       "      <th>14</th>\n",
       "      <td>889531135344209921</td>\n",
       "      <td>2017-07-24 17:02:04+00:00</td>\n",
       "      <td>Twitter for iPhone</td>\n",
       "      <td>This is Stuart. He's sporting his favorite fan...</td>\n",
       "      <td>https://twitter.com/dog_rates/status/889531135...</td>\n",
       "      <td>13.0</td>\n",
       "      <td>10</td>\n",
       "      <td>Stuart</td>\n",
       "      <td>puppo</td>\n",
       "      <td>1919</td>\n",
       "      <td>13589</td>\n",
       "      <td>afternoon</td>\n",
       "      <td>2017</td>\n",
       "      <td>7</td>\n",
       "    </tr>\n",
       "    <tr>\n",
       "      <th>28</th>\n",
       "      <td>886366144734445568</td>\n",
       "      <td>2017-07-15 23:25:31+00:00</td>\n",
       "      <td>Twitter for iPhone</td>\n",
       "      <td>This is Roscoe. Another pupper fallen victim t...</td>\n",
       "      <td>https://twitter.com/dog_rates/status/886366144...</td>\n",
       "      <td>12.0</td>\n",
       "      <td>10</td>\n",
       "      <td>Roscoe</td>\n",
       "      <td>pupper</td>\n",
       "      <td>2692</td>\n",
       "      <td>18902</td>\n",
       "      <td>night</td>\n",
       "      <td>2017</td>\n",
       "      <td>7</td>\n",
       "    </tr>\n",
       "    <tr>\n",
       "      <th>39</th>\n",
       "      <td>884162670584377345</td>\n",
       "      <td>2017-07-09 21:29:42+00:00</td>\n",
       "      <td>Twitter for iPhone</td>\n",
       "      <td>Meet Yogi. He doesn't have any important dog m...</td>\n",
       "      <td>https://twitter.com/dog_rates/status/884162670...</td>\n",
       "      <td>12.0</td>\n",
       "      <td>10</td>\n",
       "      <td>Yogi</td>\n",
       "      <td>doggo</td>\n",
       "      <td>2544</td>\n",
       "      <td>18294</td>\n",
       "      <td>night</td>\n",
       "      <td>2017</td>\n",
       "      <td>7</td>\n",
       "    </tr>\n",
       "  </tbody>\n",
       "</table>\n",
       "</div>"
      ],
      "text/plain": [
       "              tweet_id                 timestamp              source  \\\n",
       "9   890240255349198849 2017-07-26 15:59:51+00:00  Twitter for iPhone   \n",
       "12  889665388333682689 2017-07-25 01:55:32+00:00  Twitter for iPhone   \n",
       "14  889531135344209921 2017-07-24 17:02:04+00:00  Twitter for iPhone   \n",
       "28  886366144734445568 2017-07-15 23:25:31+00:00  Twitter for iPhone   \n",
       "39  884162670584377345 2017-07-09 21:29:42+00:00  Twitter for iPhone   \n",
       "\n",
       "                                                 text  \\\n",
       "9   This is Cassie. She is a college pup. Studying...   \n",
       "12  Here's a puppo that seems to be on the fence a...   \n",
       "14  This is Stuart. He's sporting his favorite fan...   \n",
       "28  This is Roscoe. Another pupper fallen victim t...   \n",
       "39  Meet Yogi. He doesn't have any important dog m...   \n",
       "\n",
       "                                        expanded_urls  rating_numerator  \\\n",
       "9   https://twitter.com/dog_rates/status/890240255...              14.0   \n",
       "12  https://twitter.com/dog_rates/status/889665388...              13.0   \n",
       "14  https://twitter.com/dog_rates/status/889531135...              13.0   \n",
       "28  https://twitter.com/dog_rates/status/886366144...              12.0   \n",
       "39  https://twitter.com/dog_rates/status/884162670...              12.0   \n",
       "\n",
       "    rating_denominator    name dog_stage  retweet_count  favorite_count  \\\n",
       "9                   10  Cassie     doggo           6222           28519   \n",
       "12                  10     NaN     puppo           8539           42890   \n",
       "14                  10  Stuart     puppo           1919           13589   \n",
       "28                  10  Roscoe    pupper           2692           18902   \n",
       "39                  10    Yogi     doggo           2544           18294   \n",
       "\n",
       "    time_category  year  month  \n",
       "9       afternoon  2017      7  \n",
       "12  early_morning  2017      7  \n",
       "14      afternoon  2017      7  \n",
       "28          night  2017      7  \n",
       "39          night  2017      7  "
      ]
     },
     "execution_count": 83,
     "metadata": {},
     "output_type": "execute_result"
    }
   ],
   "source": [
    "# Get dataframe of interest\n",
    "df_interest = df_archive_copy.loc[index]\n",
    "df_interest.head()"
   ]
  },
  {
   "cell_type": "code",
   "execution_count": 84,
   "metadata": {
    "scrolled": true
   },
   "outputs": [
    {
     "data": {
      "image/png": "[encoded data removed]",
      "text/plain": [
       "<Figure size 432x288 with 1 Axes>"
      ]
     },
     "metadata": {
      "needs_background": "light"
     },
     "output_type": "display_data"
    }
   ],
   "source": [
    "# Count dog_stage\n",
    "count_dog_stage = df_interest.dog_stage.value_counts()\n",
    "\n",
    "# Lets visual the representation of each dog_stage in the data\n",
    "plt.bar(count_dog_stage.index, count_dog_stage)\n",
    "plt.xlabel('Dog Stage');\n",
    "plt.ylabel('Count');\n",
    "plt.title('Count of Dog Stage');"
   ]
  },
  {
   "cell_type": "markdown",
   "metadata": {},
   "source": [
    "> `pupper` is more represented in the data than other dog_stages and `floofer` is the least represented."
   ]
  },
  {
   "cell_type": "code",
   "execution_count": 85,
   "metadata": {},
   "outputs": [
    {
     "data": {
      "text/plain": [
       "(Index(['doggo', 'floofer', 'pupper', 'puppo'], dtype='object', name='dog_stage'),\n",
       " array([11.83098592, 11.88888889, 10.73759091, 12.        ]))"
      ]
     },
     "execution_count": 85,
     "metadata": {},
     "output_type": "execute_result"
    }
   ],
   "source": [
    "# Get average rating_numerator for each dog_stage\n",
    "avg_rating = df_interest.groupby('dog_stage').rating_numerator.mean()\n",
    "\n",
    "avg_rating.index, avg_rating.values"
   ]
  },
  {
   "cell_type": "code",
   "execution_count": 86,
   "metadata": {},
   "outputs": [
    {
     "data": {
      "image/png": "[encoded data removed]",
      "text/plain": [
       "<Figure size 432x288 with 1 Axes>"
      ]
     },
     "metadata": {
      "needs_background": "light"
     },
     "output_type": "display_data"
    }
   ],
   "source": [
    "# Select base color palette \n",
    "base_color = sns.color_palette()[0]\n",
    "\n",
    "# Ploting average rating_numerator for each dog stage\n",
    "sns.barplot(x=avg_rating.index, y=avg_rating.values, order=count_dog_stage.index, color=base_color)\n",
    "plt.title('Average Rating for each Dog Stage')\n",
    "plt.xlabel('Dog Stage')\n",
    "plt.ylabel('Average Rating');"
   ]
  },
  {
   "cell_type": "markdown",
   "metadata": {},
   "source": [
    "> Each dog stage, on average, got roughly the same rating from @dog_rates with `pupper` being the most represented in our data."
   ]
  },
  {
   "cell_type": "markdown",
   "metadata": {},
   "source": [
    "### Insights:\n",
    "> 1. Seems @dog_rates is a night owl with most of his post at night and in the early hours of the morning. From **6:00 PM to 6:00 AM**.\n",
    ">\n",
    ">\n",
    "> 2. @dog_rates seems to be getting high retweets around morning, from 6:00 AM to 12:00 PM, but this might be due to the very few tweets he has for this time range, about 4 tweets, and so there is not soo much to get an average on. \n",
    ">\n",
    ">    However, on average, he seems to be getting an equal number of retweet for all his tweets independent of the time to day it is.\n",
    ">\n",
    ">\n",
    "> 3. The average retweet of @dog_rates increases with year which should be expected since his followership increases with time. However, @dog_rates gets his most retweets in the months of `May`, `June` and `October` and his least in `November`.\n",
    ">\n",
    ">\n",
    "> 4. `pupper` is more represented in the data than other dog_stages and `floofer` is the least represented.\n",
    "> \n",
    ">    Each dog stage, on average, got roughly the same rating from @dog_rates with `pupper` having a slightly less rating than others. This might be due to the fact that `pupper` is the most represented in the dataset."
   ]
  }
 ],
 "metadata": {
  "extensions": {
   "jupyter_dashboards": {
    "activeView": "report_default",
    "version": 1,
    "views": {
     "grid_default": {
      "cellMargin": 10,
      "defaultCellHeight": 20,
      "maxColumns": 12,
      "name": "grid",
      "type": "grid"
     },
     "report_default": {
      "name": "report",
      "type": "report"
     }
    }
   }
  },
  "kernelspec": {
   "display_name": "Python 3 (ipykernel)",
   "language": "python",
   "name": "python3"
  },
  "language_info": {
   "codemirror_mode": {
    "name": "ipython",
    "version": 3
   },
   "file_extension": ".py",
   "mimetype": "text/x-python",
   "name": "python",
   "nbconvert_exporter": "python",
   "pygments_lexer": "ipython3",
   "version": "3.9.5"
  }
 },
 "nbformat": 4,
 "nbformat_minor": 2
}
