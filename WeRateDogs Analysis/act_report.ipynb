{
 "cells": [
  {
   "cell_type": "markdown",
   "metadata": {},
   "source": [
    "# Insights from @dog_rates twitter archive\n",
    "> Below are a couple of insight from the twitter page of @dog_rates, an awesome handle that gives dog amazing rates because [They're Good Dogs Brent](https://knowyourmeme.com/memes/theyre-good-dogs-brent)."
   ]
  },
  {
   "cell_type": "markdown",
   "metadata": {},
   "source": [
    "### First Insight\n",
    "#### What time of the day does @dog_rates post the most?\n",
    "> I divided the data timestamp into different time of day range as shown below:\n",
    ">\n",
    ">* **Early Morning** [00:00:00 - 06:00:00)\n",
    ">* **Morning** [06:00:00 - 12:00:00)\n",
    ">* **Afternoon** [12:00:00 - 18:00:00)\n",
    ">* **Night** [18:00:00 - 00:00:00)\n",
    ">\n",
    "> Below is a visual dipicting the counts of tweet of @dog_rates for each time range."
   ]
  },
  {
   "attachments": {},
   "cell_type": "markdown",
   "metadata": {},
   "source": [
    "# Image here"
   ]
  },
  {
   "cell_type": "markdown",
   "metadata": {},
   "source": [
    "> Seems @dog_rates is a night owl with most of his post at night and in the early hours of the morning. From 6:00 PM to 6:00 AM."
   ]
  },
  {
   "cell_type": "markdown",
   "metadata": {},
   "source": [
    "### Second Insight\n",
    "#### What time of day did @dog_rates have the highest retweet, highest retweets on average, lowest retweet?\n",
    "> I ploted the average retweets @dog_rates gets for each time of day he posts below. The time of day is still based on the time range split above."
   ]
  },
  {
   "attachments": {},
   "cell_type": "markdown",
   "metadata": {},
   "source": [
    "# Image here"
   ]
  },
  {
   "cell_type": "markdown",
   "metadata": {},
   "source": [
    "> @dog_rates seems to be getting high retweets around morning, from 6:00 AM to 12:00 PM, but this might be due to the very few tweets he has for this time range, about 4 tweets, and so there is not soo much to get an average on. \n",
    ">\n",
    "> However, on average, he seems to be getting an equal number of retweet for all his tweets independent of the time to day it is."
   ]
  },
  {
   "cell_type": "markdown",
   "metadata": {},
   "source": [
    "### Third Insight\n",
    "#### What year and month does @dog_rates get the most retweet?\n",
    "> Below is a plot of the average retweet count per year and per month."
   ]
  },
  {
   "attachments": {},
   "cell_type": "markdown",
   "metadata": {},
   "source": [
    "# Image here"
   ]
  },
  {
   "cell_type": "markdown",
   "metadata": {},
   "source": [
    "> The average retweet of @dog_rates increases with year which should be expected since his followership increases with time. However, @dog_rates gets his most retweets in the months of `May`, `June` and `October` and his least in `November`."
   ]
  },
  {
   "cell_type": "markdown",
   "metadata": {},
   "source": [
    "### Last Insight\n",
    "#### What dog stage gets the most `rating` on average from @dog_rates?\n",
    "> First I wanted to see the representation of each dog stage in the dataset."
   ]
  },
  {
   "cell_type": "markdown",
   "metadata": {},
   "source": [
    "# Image here"
   ]
  },
  {
   "cell_type": "markdown",
   "metadata": {},
   "source": [
    "> `pupper` is more represented in the data than other dog_stages and `floofer` is the least represented.\n",
    ">\n",
    "> Next we see what the average rating each dog_stage got from @dog_rates."
   ]
  },
  {
   "attachments": {},
   "cell_type": "markdown",
   "metadata": {},
   "source": [
    "# Image here"
   ]
  },
  {
   "cell_type": "markdown",
   "metadata": {},
   "source": [
    "> Each dog stage, on average, got roughly the same rating from @dog_rates with `pupper` having a slightly less rating than others. This might be due to the fact that `pupper` is the most represented in the dataset."
   ]
  }
 ],
 "metadata": {
  "kernelspec": {
   "display_name": "Python 3 (ipykernel)",
   "language": "python",
   "name": "python3"
  },
  "language_info": {
   "codemirror_mode": {
    "name": "ipython",
    "version": 3
   },
   "file_extension": ".py",
   "mimetype": "text/x-python",
   "name": "python",
   "nbconvert_exporter": "python",
   "pygments_lexer": "ipython3",
   "version": "3.9.5"
  }
 },
 "nbformat": 4,
 "nbformat_minor": 2
}
