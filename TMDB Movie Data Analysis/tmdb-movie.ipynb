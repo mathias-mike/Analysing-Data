{
 "cells": [
  {
   "cell_type": "markdown",
   "id": "a7540fdb",
   "metadata": {},
   "source": [
    "# EDA on TMDB Movie Dataset\n",
    "Performing an Exploratory Data Analysis on TMDB movie dataset"
   ]
  },
  {
   "cell_type": "markdown",
   "id": "d26ae453",
   "metadata": {},
   "source": [
    "## Import Libraries"
   ]
  },
  {
   "cell_type": "code",
   "execution_count": 41,
   "id": "3920acfb",
   "metadata": {},
   "outputs": [],
   "source": [
    "import pandas as pd\n",
    "import numpy as np\n",
    "import matplotlib.pyplot as plt\n",
    "import seaborn as sns\n",
    "%matplotlib inline"
   ]
  },
  {
   "cell_type": "markdown",
   "id": "2e47b64e",
   "metadata": {},
   "source": [
    "## Reading Data File\n",
    ">The `tmdb-movies.csv` file contains information of about 10,000 movies collected from The Movie Database (TMDb), including user ratings and .revenue."
   ]
  },
  {
   "cell_type": "code",
   "execution_count": 2,
   "id": "9878b960",
   "metadata": {},
   "outputs": [
    {
     "data": {
      "text/html": [
       "<div>\n",
       "<style scoped>\n",
       "    .dataframe tbody tr th:only-of-type {\n",
       "        vertical-align: middle;\n",
       "    }\n",
       "\n",
       "    .dataframe tbody tr th {\n",
       "        vertical-align: top;\n",
       "    }\n",
       "\n",
       "    .dataframe thead th {\n",
       "        text-align: right;\n",
       "    }\n",
       "</style>\n",
       "<table border=\"1\" class=\"dataframe\">\n",
       "  <thead>\n",
       "    <tr style=\"text-align: right;\">\n",
       "      <th></th>\n",
       "      <th>id</th>\n",
       "      <th>imdb_id</th>\n",
       "      <th>popularity</th>\n",
       "      <th>budget</th>\n",
       "      <th>revenue</th>\n",
       "      <th>original_title</th>\n",
       "      <th>cast</th>\n",
       "      <th>homepage</th>\n",
       "      <th>director</th>\n",
       "      <th>tagline</th>\n",
       "      <th>...</th>\n",
       "      <th>overview</th>\n",
       "      <th>runtime</th>\n",
       "      <th>genres</th>\n",
       "      <th>production_companies</th>\n",
       "      <th>release_date</th>\n",
       "      <th>vote_count</th>\n",
       "      <th>vote_average</th>\n",
       "      <th>release_year</th>\n",
       "      <th>budget_adj</th>\n",
       "      <th>revenue_adj</th>\n",
       "    </tr>\n",
       "  </thead>\n",
       "  <tbody>\n",
       "    <tr>\n",
       "      <th>0</th>\n",
       "      <td>135397</td>\n",
       "      <td>tt0369610</td>\n",
       "      <td>32.985763</td>\n",
       "      <td>150000000</td>\n",
       "      <td>1513528810</td>\n",
       "      <td>Jurassic World</td>\n",
       "      <td>Chris Pratt|Bryce Dallas Howard|Irrfan Khan|Vi...</td>\n",
       "      <td>http://www.jurassicworld.com/</td>\n",
       "      <td>Colin Trevorrow</td>\n",
       "      <td>The park is open.</td>\n",
       "      <td>...</td>\n",
       "      <td>Twenty-two years after the events of Jurassic ...</td>\n",
       "      <td>124</td>\n",
       "      <td>Action|Adventure|Science Fiction|Thriller</td>\n",
       "      <td>Universal Studios|Amblin Entertainment|Legenda...</td>\n",
       "      <td>6/9/15</td>\n",
       "      <td>5562</td>\n",
       "      <td>6.5</td>\n",
       "      <td>2015</td>\n",
       "      <td>1.379999e+08</td>\n",
       "      <td>1.392446e+09</td>\n",
       "    </tr>\n",
       "  </tbody>\n",
       "</table>\n",
       "<p>1 rows × 21 columns</p>\n",
       "</div>"
      ],
      "text/plain": [
       "       id    imdb_id  popularity     budget     revenue  original_title  \\\n",
       "0  135397  tt0369610   32.985763  150000000  1513528810  Jurassic World   \n",
       "\n",
       "                                                cast  \\\n",
       "0  Chris Pratt|Bryce Dallas Howard|Irrfan Khan|Vi...   \n",
       "\n",
       "                        homepage         director            tagline  ...  \\\n",
       "0  http://www.jurassicworld.com/  Colin Trevorrow  The park is open.  ...   \n",
       "\n",
       "                                            overview runtime  \\\n",
       "0  Twenty-two years after the events of Jurassic ...     124   \n",
       "\n",
       "                                      genres  \\\n",
       "0  Action|Adventure|Science Fiction|Thriller   \n",
       "\n",
       "                                production_companies release_date vote_count  \\\n",
       "0  Universal Studios|Amblin Entertainment|Legenda...       6/9/15       5562   \n",
       "\n",
       "   vote_average  release_year    budget_adj   revenue_adj  \n",
       "0           6.5          2015  1.379999e+08  1.392446e+09  \n",
       "\n",
       "[1 rows x 21 columns]"
      ]
     },
     "execution_count": 2,
     "metadata": {},
     "output_type": "execute_result"
    }
   ],
   "source": [
    "df = pd.read_csv('tmdb-movies.csv')\n",
    "df.head(1)"
   ]
  },
  {
   "cell_type": "markdown",
   "id": "5b1c44df",
   "metadata": {},
   "source": [
    "##  Exploring dataset"
   ]
  },
  {
   "cell_type": "code",
   "execution_count": 3,
   "id": "9c05e334",
   "metadata": {},
   "outputs": [
    {
     "data": {
      "text/plain": [
       "(10866, 21)"
      ]
     },
     "execution_count": 3,
     "metadata": {},
     "output_type": "execute_result"
    }
   ],
   "source": [
    "df.shape"
   ]
  },
  {
   "cell_type": "code",
   "execution_count": 5,
   "id": "25e98bac",
   "metadata": {},
   "outputs": [
    {
     "name": "stdout",
     "output_type": "stream",
     "text": [
      "<class 'pandas.core.frame.DataFrame'>\n",
      "RangeIndex: 10866 entries, 0 to 10865\n",
      "Data columns (total 21 columns):\n",
      " #   Column                Non-Null Count  Dtype  \n",
      "---  ------                --------------  -----  \n",
      " 0   id                    10866 non-null  int64  \n",
      " 1   imdb_id               10856 non-null  object \n",
      " 2   popularity            10866 non-null  float64\n",
      " 3   budget                10866 non-null  int64  \n",
      " 4   revenue               10866 non-null  int64  \n",
      " 5   original_title        10866 non-null  object \n",
      " 6   cast                  10790 non-null  object \n",
      " 7   homepage              2936 non-null   object \n",
      " 8   director              10822 non-null  object \n",
      " 9   tagline               8042 non-null   object \n",
      " 10  keywords              9373 non-null   object \n",
      " 11  overview              10862 non-null  object \n",
      " 12  runtime               10866 non-null  int64  \n",
      " 13  genres                10843 non-null  object \n",
      " 14  production_companies  9836 non-null   object \n",
      " 15  release_date          10866 non-null  object \n",
      " 16  vote_count            10866 non-null  int64  \n",
      " 17  vote_average          10866 non-null  float64\n",
      " 18  release_year          10866 non-null  int64  \n",
      " 19  budget_adj            10866 non-null  float64\n",
      " 20  revenue_adj           10866 non-null  float64\n",
      "dtypes: float64(4), int64(6), object(11)\n",
      "memory usage: 1.7+ MB\n"
     ]
    }
   ],
   "source": [
    "df.info()"
   ]
  },
  {
   "cell_type": "markdown",
   "id": "fd5511d5",
   "metadata": {},
   "source": [
    "Dataset has a total of 10866 entries with 21 columns"
   ]
  },
  {
   "cell_type": "code",
   "execution_count": 6,
   "id": "5c2a24e5",
   "metadata": {},
   "outputs": [
    {
     "data": {
      "text/html": [
       "<div>\n",
       "<style scoped>\n",
       "    .dataframe tbody tr th:only-of-type {\n",
       "        vertical-align: middle;\n",
       "    }\n",
       "\n",
       "    .dataframe tbody tr th {\n",
       "        vertical-align: top;\n",
       "    }\n",
       "\n",
       "    .dataframe thead th {\n",
       "        text-align: right;\n",
       "    }\n",
       "</style>\n",
       "<table border=\"1\" class=\"dataframe\">\n",
       "  <thead>\n",
       "    <tr style=\"text-align: right;\">\n",
       "      <th></th>\n",
       "      <th>id</th>\n",
       "      <th>popularity</th>\n",
       "      <th>budget</th>\n",
       "      <th>revenue</th>\n",
       "      <th>runtime</th>\n",
       "      <th>vote_count</th>\n",
       "      <th>vote_average</th>\n",
       "      <th>release_year</th>\n",
       "      <th>budget_adj</th>\n",
       "      <th>revenue_adj</th>\n",
       "    </tr>\n",
       "  </thead>\n",
       "  <tbody>\n",
       "    <tr>\n",
       "      <th>count</th>\n",
       "      <td>10866.000000</td>\n",
       "      <td>10866.000000</td>\n",
       "      <td>1.086600e+04</td>\n",
       "      <td>1.086600e+04</td>\n",
       "      <td>10866.000000</td>\n",
       "      <td>10866.000000</td>\n",
       "      <td>10866.000000</td>\n",
       "      <td>10866.000000</td>\n",
       "      <td>1.086600e+04</td>\n",
       "      <td>1.086600e+04</td>\n",
       "    </tr>\n",
       "    <tr>\n",
       "      <th>mean</th>\n",
       "      <td>66064.177434</td>\n",
       "      <td>0.646441</td>\n",
       "      <td>1.462570e+07</td>\n",
       "      <td>3.982332e+07</td>\n",
       "      <td>102.070863</td>\n",
       "      <td>217.389748</td>\n",
       "      <td>5.974922</td>\n",
       "      <td>2001.322658</td>\n",
       "      <td>1.755104e+07</td>\n",
       "      <td>5.136436e+07</td>\n",
       "    </tr>\n",
       "    <tr>\n",
       "      <th>std</th>\n",
       "      <td>92130.136561</td>\n",
       "      <td>1.000185</td>\n",
       "      <td>3.091321e+07</td>\n",
       "      <td>1.170035e+08</td>\n",
       "      <td>31.381405</td>\n",
       "      <td>575.619058</td>\n",
       "      <td>0.935142</td>\n",
       "      <td>12.812941</td>\n",
       "      <td>3.430616e+07</td>\n",
       "      <td>1.446325e+08</td>\n",
       "    </tr>\n",
       "    <tr>\n",
       "      <th>min</th>\n",
       "      <td>5.000000</td>\n",
       "      <td>0.000065</td>\n",
       "      <td>0.000000e+00</td>\n",
       "      <td>0.000000e+00</td>\n",
       "      <td>0.000000</td>\n",
       "      <td>10.000000</td>\n",
       "      <td>1.500000</td>\n",
       "      <td>1960.000000</td>\n",
       "      <td>0.000000e+00</td>\n",
       "      <td>0.000000e+00</td>\n",
       "    </tr>\n",
       "    <tr>\n",
       "      <th>25%</th>\n",
       "      <td>10596.250000</td>\n",
       "      <td>0.207583</td>\n",
       "      <td>0.000000e+00</td>\n",
       "      <td>0.000000e+00</td>\n",
       "      <td>90.000000</td>\n",
       "      <td>17.000000</td>\n",
       "      <td>5.400000</td>\n",
       "      <td>1995.000000</td>\n",
       "      <td>0.000000e+00</td>\n",
       "      <td>0.000000e+00</td>\n",
       "    </tr>\n",
       "    <tr>\n",
       "      <th>50%</th>\n",
       "      <td>20669.000000</td>\n",
       "      <td>0.383856</td>\n",
       "      <td>0.000000e+00</td>\n",
       "      <td>0.000000e+00</td>\n",
       "      <td>99.000000</td>\n",
       "      <td>38.000000</td>\n",
       "      <td>6.000000</td>\n",
       "      <td>2006.000000</td>\n",
       "      <td>0.000000e+00</td>\n",
       "      <td>0.000000e+00</td>\n",
       "    </tr>\n",
       "    <tr>\n",
       "      <th>75%</th>\n",
       "      <td>75610.000000</td>\n",
       "      <td>0.713817</td>\n",
       "      <td>1.500000e+07</td>\n",
       "      <td>2.400000e+07</td>\n",
       "      <td>111.000000</td>\n",
       "      <td>145.750000</td>\n",
       "      <td>6.600000</td>\n",
       "      <td>2011.000000</td>\n",
       "      <td>2.085325e+07</td>\n",
       "      <td>3.369710e+07</td>\n",
       "    </tr>\n",
       "    <tr>\n",
       "      <th>max</th>\n",
       "      <td>417859.000000</td>\n",
       "      <td>32.985763</td>\n",
       "      <td>4.250000e+08</td>\n",
       "      <td>2.781506e+09</td>\n",
       "      <td>900.000000</td>\n",
       "      <td>9767.000000</td>\n",
       "      <td>9.200000</td>\n",
       "      <td>2015.000000</td>\n",
       "      <td>4.250000e+08</td>\n",
       "      <td>2.827124e+09</td>\n",
       "    </tr>\n",
       "  </tbody>\n",
       "</table>\n",
       "</div>"
      ],
      "text/plain": [
       "                  id    popularity        budget       revenue       runtime  \\\n",
       "count   10866.000000  10866.000000  1.086600e+04  1.086600e+04  10866.000000   \n",
       "mean    66064.177434      0.646441  1.462570e+07  3.982332e+07    102.070863   \n",
       "std     92130.136561      1.000185  3.091321e+07  1.170035e+08     31.381405   \n",
       "min         5.000000      0.000065  0.000000e+00  0.000000e+00      0.000000   \n",
       "25%     10596.250000      0.207583  0.000000e+00  0.000000e+00     90.000000   \n",
       "50%     20669.000000      0.383856  0.000000e+00  0.000000e+00     99.000000   \n",
       "75%     75610.000000      0.713817  1.500000e+07  2.400000e+07    111.000000   \n",
       "max    417859.000000     32.985763  4.250000e+08  2.781506e+09    900.000000   \n",
       "\n",
       "         vote_count  vote_average  release_year    budget_adj   revenue_adj  \n",
       "count  10866.000000  10866.000000  10866.000000  1.086600e+04  1.086600e+04  \n",
       "mean     217.389748      5.974922   2001.322658  1.755104e+07  5.136436e+07  \n",
       "std      575.619058      0.935142     12.812941  3.430616e+07  1.446325e+08  \n",
       "min       10.000000      1.500000   1960.000000  0.000000e+00  0.000000e+00  \n",
       "25%       17.000000      5.400000   1995.000000  0.000000e+00  0.000000e+00  \n",
       "50%       38.000000      6.000000   2006.000000  0.000000e+00  0.000000e+00  \n",
       "75%      145.750000      6.600000   2011.000000  2.085325e+07  3.369710e+07  \n",
       "max     9767.000000      9.200000   2015.000000  4.250000e+08  2.827124e+09  "
      ]
     },
     "execution_count": 6,
     "metadata": {},
     "output_type": "execute_result"
    }
   ],
   "source": [
    "df.describe()"
   ]
  },
  {
   "cell_type": "markdown",
   "id": "6f4607ce",
   "metadata": {},
   "source": [
    ">We can notice a couple of **'0s'** in `budget` and `revenue` columns, which extended to `budget_adj` and `revenue_adj` respectively. It might be that the data collators are unable to get this figures when collating the data. This would affect our analysis on movie success so we might need to take care of this."
   ]
  },
  {
   "cell_type": "markdown",
   "id": "9b9eccc6",
   "metadata": {},
   "source": [
    "### Missing Values"
   ]
  },
  {
   "cell_type": "code",
   "execution_count": 7,
   "id": "bbabff95",
   "metadata": {},
   "outputs": [
    {
     "data": {
      "text/plain": [
       "imdb_id                   10.0\n",
       "cast                      76.0\n",
       "homepage                7930.0\n",
       "director                  44.0\n",
       "tagline                 2824.0\n",
       "keywords                1493.0\n",
       "overview                   4.0\n",
       "genres                    23.0\n",
       "production_companies    1030.0\n",
       "dtype: float64"
      ]
     },
     "execution_count": 7,
     "metadata": {},
     "output_type": "execute_result"
    }
   ],
   "source": [
    "null_vals = df.isnull().sum()\n",
    "null_vals.where(null_vals > 0).dropna()"
   ]
  },
  {
   "cell_type": "markdown",
   "id": "a3a654c1",
   "metadata": {},
   "source": [
    "## Cleaning\n",
    ">I will be performing an EDA on both **movie profit** and **movie votes** in which case I will have 2 datasets. \n",
    ">I am using 2 datasets because I noticed a couple of `0s` in the revenue and budget columns, if not removed, they will affect my analysis."
   ]
  },
  {
   "cell_type": "markdown",
   "id": "4911cf04",
   "metadata": {},
   "source": [
    "### Drop rows with missing `cast`, `director`, `genres` and `production_companies`"
   ]
  },
  {
   "cell_type": "code",
   "execution_count": 8,
   "id": "6690f020",
   "metadata": {},
   "outputs": [
    {
     "data": {
      "text/plain": [
       "(9773, 21)"
      ]
     },
     "execution_count": 8,
     "metadata": {},
     "output_type": "execute_result"
    }
   ],
   "source": [
    "df = df.dropna(subset=['cast', 'director', 'genres', 'production_companies'])\n",
    "df.shape"
   ]
  },
  {
   "cell_type": "markdown",
   "id": "e4ef4e0b",
   "metadata": {},
   "source": [
    "### Obtain movies with financial data\n",
    ">Extracting movies with actual `budget` and `revenue`"
   ]
  },
  {
   "cell_type": "code",
   "execution_count": 9,
   "id": "85ce8334",
   "metadata": {},
   "outputs": [
    {
     "data": {
      "text/plain": [
       "(3777, 21)"
      ]
     },
     "execution_count": 9,
     "metadata": {},
     "output_type": "execute_result"
    }
   ],
   "source": [
    "df = df.query('budget > 100 and revenue > 100').copy()\n",
    "df.shape"
   ]
  },
  {
   "cell_type": "markdown",
   "id": "2212edd8",
   "metadata": {},
   "source": [
    "### Add `profit_adj` base on `revenue_adj - budget_adj`"
   ]
  },
  {
   "cell_type": "code",
   "execution_count": 10,
   "id": "a9af263f",
   "metadata": {},
   "outputs": [
    {
     "data": {
      "text/plain": [
       "(3777, 22)"
      ]
     },
     "execution_count": 10,
     "metadata": {},
     "output_type": "execute_result"
    }
   ],
   "source": [
    "df['profit_adj'] = df['revenue_adj'] - df['budget_adj']\n",
    "df.shape"
   ]
  },
  {
   "cell_type": "markdown",
   "id": "cc97c6cf",
   "metadata": {},
   "source": [
    "### Fixing `release_date`"
   ]
  },
  {
   "cell_type": "code",
   "execution_count": 11,
   "id": "877222f5",
   "metadata": {},
   "outputs": [
    {
     "data": {
      "text/plain": [
       "dtype('<M8[ns]')"
      ]
     },
     "execution_count": 11,
     "metadata": {},
     "output_type": "execute_result"
    }
   ],
   "source": [
    "df['release_date'] = pd.to_datetime(df['release_date'])\n",
    "df.release_date.dtype"
   ]
  },
  {
   "cell_type": "markdown",
   "id": "cc1bdc15",
   "metadata": {},
   "source": [
    "### Handling duplicates"
   ]
  },
  {
   "cell_type": "code",
   "execution_count": 12,
   "id": "15c9b7de",
   "metadata": {},
   "outputs": [
    {
     "data": {
      "text/plain": [
       "(1, 44)"
      ]
     },
     "execution_count": 12,
     "metadata": {},
     "output_type": "execute_result"
    }
   ],
   "source": [
    "n_duplicate_rows = df.duplicated().sum() \n",
    "n_duplicate_movie_titles = df.shape[0] - df.original_title.nunique()\n",
    "\n",
    "n_duplicate_rows, n_duplicate_movie_titles"
   ]
  },
  {
   "cell_type": "markdown",
   "id": "63317523",
   "metadata": {},
   "source": [
    ">There is a row that is a complete duplicate of another and there are about 261 movies with titles that are duplicates of another movie."
   ]
  },
  {
   "cell_type": "code",
   "execution_count": 13,
   "id": "dceebf4e",
   "metadata": {},
   "outputs": [
    {
     "data": {
      "text/plain": [
       "King Kong                       2\n",
       "Arthur                          2\n",
       "RoboCop                         2\n",
       "Unknown                         2\n",
       "Halloween II                    2\n",
       "Legend                          2\n",
       "Teenage Mutant Ninja Turtles    2\n",
       "Conan the Barbarian             2\n",
       "Shaft                           2\n",
       "Halloween                       2\n",
       "Neighbors                       2\n",
       "Psycho                          2\n",
       "The Great Gatsby                2\n",
       "Hercules                        2\n",
       "Casino Royale                   2\n",
       "The Karate Kid                  2\n",
       "Robin Hood                      2\n",
       "A Nightmare on Elm Street       2\n",
       "Clash of the Titans             2\n",
       "TEKKEN                          2\n",
       "Point Break                     2\n",
       "Fantastic Four                  2\n",
       "Beowulf                         2\n",
       "The Avengers                    2\n",
       "The Thing                       2\n",
       "Doctor Dolittle                 2\n",
       "Friday the 13th                 2\n",
       "Straw Dogs                      2\n",
       "Fair Game                       2\n",
       "The Three Musketeers            2\n",
       "Poltergeist                     2\n",
       "Annie                           2\n",
       "Carrie                          2\n",
       "The Omen                        2\n",
       "Dawn of the Dead                2\n",
       "Total Recall                    2\n",
       "Footloose                       2\n",
       "Planet of the Apes              2\n",
       "The Gift                        2\n",
       "The Fog                         2\n",
       "Project X                       2\n",
       "Fright Night                    2\n",
       "The Hills Have Eyes             2\n",
       "Godzilla                        2\n",
       "Name: original_title, dtype: int64"
      ]
     },
     "execution_count": 13,
     "metadata": {},
     "output_type": "execute_result"
    }
   ],
   "source": [
    "duplicate_title = df.original_title.value_counts()\n",
    "duplicate_title[duplicate_title > 1]"
   ]
  },
  {
   "cell_type": "code",
   "execution_count": 14,
   "id": "55d4bca8",
   "metadata": {},
   "outputs": [
    {
     "data": {
      "text/html": [
       "<div>\n",
       "<style scoped>\n",
       "    .dataframe tbody tr th:only-of-type {\n",
       "        vertical-align: middle;\n",
       "    }\n",
       "\n",
       "    .dataframe tbody tr th {\n",
       "        vertical-align: top;\n",
       "    }\n",
       "\n",
       "    .dataframe thead th {\n",
       "        text-align: right;\n",
       "    }\n",
       "</style>\n",
       "<table border=\"1\" class=\"dataframe\">\n",
       "  <thead>\n",
       "    <tr style=\"text-align: right;\">\n",
       "      <th></th>\n",
       "      <th>id</th>\n",
       "      <th>imdb_id</th>\n",
       "      <th>popularity</th>\n",
       "      <th>budget</th>\n",
       "      <th>revenue</th>\n",
       "      <th>original_title</th>\n",
       "      <th>cast</th>\n",
       "      <th>homepage</th>\n",
       "      <th>director</th>\n",
       "      <th>tagline</th>\n",
       "      <th>...</th>\n",
       "      <th>runtime</th>\n",
       "      <th>genres</th>\n",
       "      <th>production_companies</th>\n",
       "      <th>release_date</th>\n",
       "      <th>vote_count</th>\n",
       "      <th>vote_average</th>\n",
       "      <th>release_year</th>\n",
       "      <th>budget_adj</th>\n",
       "      <th>revenue_adj</th>\n",
       "      <th>profit_adj</th>\n",
       "    </tr>\n",
       "  </thead>\n",
       "  <tbody>\n",
       "    <tr>\n",
       "      <th>6215</th>\n",
       "      <td>254</td>\n",
       "      <td>tt0360717</td>\n",
       "      <td>1.508329</td>\n",
       "      <td>207000000</td>\n",
       "      <td>550000000</td>\n",
       "      <td>King Kong</td>\n",
       "      <td>Naomi Watts|Jack Black|Adrien Brody|Thomas Kre...</td>\n",
       "      <td>NaN</td>\n",
       "      <td>Peter Jackson</td>\n",
       "      <td>The eighth wonder of the world.</td>\n",
       "      <td>...</td>\n",
       "      <td>187</td>\n",
       "      <td>Adventure|Drama|Action</td>\n",
       "      <td>WingNut Films|Universal Pictures|Big Primate P...</td>\n",
       "      <td>2005-12-14</td>\n",
       "      <td>1289</td>\n",
       "      <td>6.4</td>\n",
       "      <td>2005</td>\n",
       "      <td>2.311286e+08</td>\n",
       "      <td>6.141098e+08</td>\n",
       "      <td>3.829812e+08</td>\n",
       "    </tr>\n",
       "    <tr>\n",
       "      <th>10178</th>\n",
       "      <td>10730</td>\n",
       "      <td>tt0074751</td>\n",
       "      <td>0.886830</td>\n",
       "      <td>24000000</td>\n",
       "      <td>52614445</td>\n",
       "      <td>King Kong</td>\n",
       "      <td>Jeff Bridges|Jessica Lange|Charles Grodin|John...</td>\n",
       "      <td>NaN</td>\n",
       "      <td>John Guillermin</td>\n",
       "      <td>The most exciting original motion picture even...</td>\n",
       "      <td>...</td>\n",
       "      <td>134</td>\n",
       "      <td>Action|Adventure|Drama|Horror|Science Fiction</td>\n",
       "      <td>Paramount Pictures</td>\n",
       "      <td>1976-09-08</td>\n",
       "      <td>70</td>\n",
       "      <td>5.9</td>\n",
       "      <td>1976</td>\n",
       "      <td>9.196075e+07</td>\n",
       "      <td>2.016027e+08</td>\n",
       "      <td>1.096419e+08</td>\n",
       "    </tr>\n",
       "  </tbody>\n",
       "</table>\n",
       "<p>2 rows × 22 columns</p>\n",
       "</div>"
      ],
      "text/plain": [
       "          id    imdb_id  popularity     budget    revenue original_title  \\\n",
       "6215     254  tt0360717    1.508329  207000000  550000000      King Kong   \n",
       "10178  10730  tt0074751    0.886830   24000000   52614445      King Kong   \n",
       "\n",
       "                                                    cast homepage  \\\n",
       "6215   Naomi Watts|Jack Black|Adrien Brody|Thomas Kre...      NaN   \n",
       "10178  Jeff Bridges|Jessica Lange|Charles Grodin|John...      NaN   \n",
       "\n",
       "              director                                            tagline  \\\n",
       "6215     Peter Jackson                    The eighth wonder of the world.   \n",
       "10178  John Guillermin  The most exciting original motion picture even...   \n",
       "\n",
       "       ... runtime                                         genres  \\\n",
       "6215   ...     187                         Adventure|Drama|Action   \n",
       "10178  ...     134  Action|Adventure|Drama|Horror|Science Fiction   \n",
       "\n",
       "                                    production_companies release_date  \\\n",
       "6215   WingNut Films|Universal Pictures|Big Primate P...   2005-12-14   \n",
       "10178                                 Paramount Pictures   1976-09-08   \n",
       "\n",
       "      vote_count vote_average  release_year    budget_adj   revenue_adj  \\\n",
       "6215        1289          6.4          2005  2.311286e+08  6.141098e+08   \n",
       "10178         70          5.9          1976  9.196075e+07  2.016027e+08   \n",
       "\n",
       "         profit_adj  \n",
       "6215   3.829812e+08  \n",
       "10178  1.096419e+08  \n",
       "\n",
       "[2 rows x 22 columns]"
      ]
     },
     "execution_count": 14,
     "metadata": {},
     "output_type": "execute_result"
    }
   ],
   "source": [
    "df.query('original_title == \"King Kong\"')"
   ]
  },
  {
   "cell_type": "markdown",
   "id": "c5a9e5eb",
   "metadata": {},
   "source": [
    ">A little more eploring shows different production of the same movie"
   ]
  },
  {
   "cell_type": "code",
   "execution_count": 15,
   "id": "5e44b5d6",
   "metadata": {},
   "outputs": [
    {
     "data": {
      "text/html": [
       "<div>\n",
       "<style scoped>\n",
       "    .dataframe tbody tr th:only-of-type {\n",
       "        vertical-align: middle;\n",
       "    }\n",
       "\n",
       "    .dataframe tbody tr th {\n",
       "        vertical-align: top;\n",
       "    }\n",
       "\n",
       "    .dataframe thead th {\n",
       "        text-align: right;\n",
       "    }\n",
       "</style>\n",
       "<table border=\"1\" class=\"dataframe\">\n",
       "  <thead>\n",
       "    <tr style=\"text-align: right;\">\n",
       "      <th></th>\n",
       "      <th>original_title</th>\n",
       "      <th>release_year</th>\n",
       "    </tr>\n",
       "  </thead>\n",
       "  <tbody>\n",
       "    <tr>\n",
       "      <th>2090</th>\n",
       "      <td>TEKKEN</td>\n",
       "      <td>2010</td>\n",
       "    </tr>\n",
       "  </tbody>\n",
       "</table>\n",
       "</div>"
      ],
      "text/plain": [
       "     original_title  release_year\n",
       "2090         TEKKEN          2010"
      ]
     },
     "execution_count": 15,
     "metadata": {},
     "output_type": "execute_result"
    }
   ],
   "source": [
    "df[['original_title', 'release_year']][df[['original_title', 'release_year']].duplicated()]"
   ]
  },
  {
   "cell_type": "code",
   "execution_count": 16,
   "id": "278003fa",
   "metadata": {},
   "outputs": [
    {
     "data": {
      "text/html": [
       "<div>\n",
       "<style scoped>\n",
       "    .dataframe tbody tr th:only-of-type {\n",
       "        vertical-align: middle;\n",
       "    }\n",
       "\n",
       "    .dataframe tbody tr th {\n",
       "        vertical-align: top;\n",
       "    }\n",
       "\n",
       "    .dataframe thead th {\n",
       "        text-align: right;\n",
       "    }\n",
       "</style>\n",
       "<table border=\"1\" class=\"dataframe\">\n",
       "  <thead>\n",
       "    <tr style=\"text-align: right;\">\n",
       "      <th></th>\n",
       "      <th>id</th>\n",
       "      <th>imdb_id</th>\n",
       "      <th>popularity</th>\n",
       "      <th>budget</th>\n",
       "      <th>revenue</th>\n",
       "      <th>original_title</th>\n",
       "      <th>cast</th>\n",
       "      <th>homepage</th>\n",
       "      <th>director</th>\n",
       "      <th>tagline</th>\n",
       "      <th>...</th>\n",
       "      <th>runtime</th>\n",
       "      <th>genres</th>\n",
       "      <th>production_companies</th>\n",
       "      <th>release_date</th>\n",
       "      <th>vote_count</th>\n",
       "      <th>vote_average</th>\n",
       "      <th>release_year</th>\n",
       "      <th>budget_adj</th>\n",
       "      <th>revenue_adj</th>\n",
       "      <th>profit_adj</th>\n",
       "    </tr>\n",
       "  </thead>\n",
       "  <tbody>\n",
       "    <tr>\n",
       "      <th>2089</th>\n",
       "      <td>42194</td>\n",
       "      <td>tt0411951</td>\n",
       "      <td>0.59643</td>\n",
       "      <td>30000000</td>\n",
       "      <td>967000</td>\n",
       "      <td>TEKKEN</td>\n",
       "      <td>Jon Foo|Kelly Overton|Cary-Hiroyuki Tagawa|Ian...</td>\n",
       "      <td>NaN</td>\n",
       "      <td>Dwight H. Little</td>\n",
       "      <td>Survival is no game</td>\n",
       "      <td>...</td>\n",
       "      <td>92</td>\n",
       "      <td>Crime|Drama|Action|Thriller|Science Fiction</td>\n",
       "      <td>Namco|Light Song Films</td>\n",
       "      <td>2010-03-20</td>\n",
       "      <td>110</td>\n",
       "      <td>5.0</td>\n",
       "      <td>2010</td>\n",
       "      <td>30000000.0</td>\n",
       "      <td>967000.0</td>\n",
       "      <td>-29033000.0</td>\n",
       "    </tr>\n",
       "    <tr>\n",
       "      <th>2090</th>\n",
       "      <td>42194</td>\n",
       "      <td>tt0411951</td>\n",
       "      <td>0.59643</td>\n",
       "      <td>30000000</td>\n",
       "      <td>967000</td>\n",
       "      <td>TEKKEN</td>\n",
       "      <td>Jon Foo|Kelly Overton|Cary-Hiroyuki Tagawa|Ian...</td>\n",
       "      <td>NaN</td>\n",
       "      <td>Dwight H. Little</td>\n",
       "      <td>Survival is no game</td>\n",
       "      <td>...</td>\n",
       "      <td>92</td>\n",
       "      <td>Crime|Drama|Action|Thriller|Science Fiction</td>\n",
       "      <td>Namco|Light Song Films</td>\n",
       "      <td>2010-03-20</td>\n",
       "      <td>110</td>\n",
       "      <td>5.0</td>\n",
       "      <td>2010</td>\n",
       "      <td>30000000.0</td>\n",
       "      <td>967000.0</td>\n",
       "      <td>-29033000.0</td>\n",
       "    </tr>\n",
       "  </tbody>\n",
       "</table>\n",
       "<p>2 rows × 22 columns</p>\n",
       "</div>"
      ],
      "text/plain": [
       "         id    imdb_id  popularity    budget  revenue original_title  \\\n",
       "2089  42194  tt0411951     0.59643  30000000   967000         TEKKEN   \n",
       "2090  42194  tt0411951     0.59643  30000000   967000         TEKKEN   \n",
       "\n",
       "                                                   cast homepage  \\\n",
       "2089  Jon Foo|Kelly Overton|Cary-Hiroyuki Tagawa|Ian...      NaN   \n",
       "2090  Jon Foo|Kelly Overton|Cary-Hiroyuki Tagawa|Ian...      NaN   \n",
       "\n",
       "              director              tagline  ... runtime  \\\n",
       "2089  Dwight H. Little  Survival is no game  ...      92   \n",
       "2090  Dwight H. Little  Survival is no game  ...      92   \n",
       "\n",
       "                                           genres    production_companies  \\\n",
       "2089  Crime|Drama|Action|Thriller|Science Fiction  Namco|Light Song Films   \n",
       "2090  Crime|Drama|Action|Thriller|Science Fiction  Namco|Light Song Films   \n",
       "\n",
       "     release_date vote_count vote_average  release_year  budget_adj  \\\n",
       "2089   2010-03-20        110          5.0          2010  30000000.0   \n",
       "2090   2010-03-20        110          5.0          2010  30000000.0   \n",
       "\n",
       "      revenue_adj  profit_adj  \n",
       "2089     967000.0 -29033000.0  \n",
       "2090     967000.0 -29033000.0  \n",
       "\n",
       "[2 rows x 22 columns]"
      ]
     },
     "execution_count": 16,
     "metadata": {},
     "output_type": "execute_result"
    }
   ],
   "source": [
    "df.query('original_title == \"TEKKEN\"')"
   ]
  },
  {
   "cell_type": "markdown",
   "id": "07a57c7c",
   "metadata": {},
   "source": [
    ">So \"TEKKEN\" Seems to be the duplicate row..."
   ]
  },
  {
   "cell_type": "code",
   "execution_count": 17,
   "id": "037b03a7",
   "metadata": {},
   "outputs": [
    {
     "data": {
      "text/html": [
       "<div>\n",
       "<style scoped>\n",
       "    .dataframe tbody tr th:only-of-type {\n",
       "        vertical-align: middle;\n",
       "    }\n",
       "\n",
       "    .dataframe tbody tr th {\n",
       "        vertical-align: top;\n",
       "    }\n",
       "\n",
       "    .dataframe thead th {\n",
       "        text-align: right;\n",
       "    }\n",
       "</style>\n",
       "<table border=\"1\" class=\"dataframe\">\n",
       "  <thead>\n",
       "    <tr style=\"text-align: right;\">\n",
       "      <th></th>\n",
       "      <th>original_title</th>\n",
       "      <th>release_year</th>\n",
       "    </tr>\n",
       "  </thead>\n",
       "  <tbody>\n",
       "  </tbody>\n",
       "</table>\n",
       "</div>"
      ],
      "text/plain": [
       "Empty DataFrame\n",
       "Columns: [original_title, release_year]\n",
       "Index: []"
      ]
     },
     "execution_count": 17,
     "metadata": {},
     "output_type": "execute_result"
    }
   ],
   "source": [
    "df.drop_duplicates(inplace=True)\n",
    "df[['original_title', 'release_year']][df[['original_title', 'release_year']].duplicated()]"
   ]
  },
  {
   "cell_type": "markdown",
   "id": "805d4318",
   "metadata": {},
   "source": [
    "### Expanding columns\n",
    "Would use the function below to expand above columns when trying to analyse them. "
   ]
  },
  {
   "cell_type": "code",
   "execution_count": 18,
   "id": "f5a9fe66",
   "metadata": {},
   "outputs": [],
   "source": [
    "# Function that splits columns with combined string rows\n",
    "def split_column(dframe, column, sep):\n",
    "    new_df = pd.DataFrame(columns=dframe.columns) # Create empty DataFrame\n",
    "    new_df = new_df.astype(dframe.dtypes) # Making sure new_df is of same type as the dataframe passed in\n",
    "    nrows = dframe.shape[0] # number of rows in dataframe\n",
    "    for i in range(nrows):\n",
    "        row = dframe.iloc[i]\n",
    "        if row.isnull()[column]: # Check for 'nan' values\n",
    "            new_df = new_df.append(row, ignore_index=True) # If nan, just append original column\n",
    "        else:\n",
    "            items = row[column].split(sep)\n",
    "            for item in items:\n",
    "                row_copy = row.copy()\n",
    "                row_copy[column] = item\n",
    "                new_df = new_df.append(row_copy, ignore_index=True)\n",
    "                \n",
    "    return new_df"
   ]
  },
  {
   "cell_type": "markdown",
   "id": "20c09aa6",
   "metadata": {},
   "source": [
    "## EDA"
   ]
  },
  {
   "cell_type": "code",
   "execution_count": 19,
   "id": "eef938e6",
   "metadata": {},
   "outputs": [],
   "source": [
    "# Defining standard colors for plot\n",
    "std_colors = ['#1f77b4', '#ff7f0e', '#2ca02c', '#d62728', '#9467bd', '#8c564b', '#e377c2', '#7f7f7f', '#bcbd22', '#17becf']"
   ]
  },
  {
   "cell_type": "markdown",
   "id": "9a0e6116",
   "metadata": {},
   "source": [
    "### Top 20 highest voted movies"
   ]
  },
  {
   "cell_type": "code",
   "execution_count": 20,
   "id": "383de8f2",
   "metadata": {},
   "outputs": [
    {
     "data": {
      "image/png": "[encoded data removed]",
      "text/plain": [
       "<Figure size 864x432 with 1 Axes>"
      ]
     },
     "metadata": {
      "needs_background": "light"
     },
     "output_type": "display_data"
    }
   ],
   "source": [
    "top_20_highest_rated = df.sort_values('vote_average', ascending=False).head(20)\n",
    "plt.figure(figsize=(12, 6))\n",
    "plt.plot(top_20_highest_rated.original_title, top_20_highest_rated.vote_average)\n",
    "plt.title('Top 20 Highest Voted Movies')\n",
    "plt.xticks(rotation=90)\n",
    "plt.xlabel('Movies')\n",
    "plt.ylabel('Votes');"
   ]
  },
  {
   "cell_type": "markdown",
   "id": "8c8256ea",
   "metadata": {},
   "source": [
    "### Directors analysis"
   ]
  },
  {
   "cell_type": "code",
   "execution_count": 21,
   "id": "a32e1b30",
   "metadata": {},
   "outputs": [],
   "source": [
    "# Create a copy of the dataset for directors analysis. I am doing this so I don't over explode the dataset when analyzing \n",
    "# cast, genres and production companies\n",
    "df_directors = df.copy()"
   ]
  },
  {
   "cell_type": "code",
   "execution_count": 22,
   "id": "92c55d39",
   "metadata": {},
   "outputs": [
    {
     "data": {
      "text/html": [
       "<div>\n",
       "<style scoped>\n",
       "    .dataframe tbody tr th:only-of-type {\n",
       "        vertical-align: middle;\n",
       "    }\n",
       "\n",
       "    .dataframe tbody tr th {\n",
       "        vertical-align: top;\n",
       "    }\n",
       "\n",
       "    .dataframe thead th {\n",
       "        text-align: right;\n",
       "    }\n",
       "</style>\n",
       "<table border=\"1\" class=\"dataframe\">\n",
       "  <thead>\n",
       "    <tr style=\"text-align: right;\">\n",
       "      <th></th>\n",
       "      <th>id</th>\n",
       "      <th>imdb_id</th>\n",
       "      <th>popularity</th>\n",
       "      <th>budget</th>\n",
       "      <th>revenue</th>\n",
       "      <th>original_title</th>\n",
       "      <th>cast</th>\n",
       "      <th>homepage</th>\n",
       "      <th>director</th>\n",
       "      <th>tagline</th>\n",
       "      <th>...</th>\n",
       "      <th>runtime</th>\n",
       "      <th>genres</th>\n",
       "      <th>production_companies</th>\n",
       "      <th>release_date</th>\n",
       "      <th>vote_count</th>\n",
       "      <th>vote_average</th>\n",
       "      <th>release_year</th>\n",
       "      <th>budget_adj</th>\n",
       "      <th>revenue_adj</th>\n",
       "      <th>profit_adj</th>\n",
       "    </tr>\n",
       "  </thead>\n",
       "  <tbody>\n",
       "    <tr>\n",
       "      <th>8</th>\n",
       "      <td>211672</td>\n",
       "      <td>tt2293640</td>\n",
       "      <td>7.404165</td>\n",
       "      <td>74000000</td>\n",
       "      <td>1156730962</td>\n",
       "      <td>Minions</td>\n",
       "      <td>Sandra Bullock|Jon Hamm|Michael Keaton|Allison...</td>\n",
       "      <td>http://www.minionsmovie.com/</td>\n",
       "      <td>Kyle Balda|Pierre Coffin</td>\n",
       "      <td>Before Gru, they had a history of bad bosses</td>\n",
       "      <td>...</td>\n",
       "      <td>91</td>\n",
       "      <td>Family|Animation|Adventure|Comedy</td>\n",
       "      <td>Universal Pictures|Illumination Entertainment</td>\n",
       "      <td>2015-06-17</td>\n",
       "      <td>2893</td>\n",
       "      <td>6.5</td>\n",
       "      <td>2015</td>\n",
       "      <td>6.807997e+07</td>\n",
       "      <td>1.064192e+09</td>\n",
       "      <td>9.961120e+08</td>\n",
       "    </tr>\n",
       "    <tr>\n",
       "      <th>11</th>\n",
       "      <td>76757</td>\n",
       "      <td>tt1617661</td>\n",
       "      <td>6.189369</td>\n",
       "      <td>176000003</td>\n",
       "      <td>183987723</td>\n",
       "      <td>Jupiter Ascending</td>\n",
       "      <td>Mila Kunis|Channing Tatum|Sean Bean|Eddie Redm...</td>\n",
       "      <td>http://www.jupiterascending.com</td>\n",
       "      <td>Lana Wachowski|Lilly Wachowski</td>\n",
       "      <td>Expand your universe.</td>\n",
       "      <td>...</td>\n",
       "      <td>124</td>\n",
       "      <td>Science Fiction|Fantasy|Action|Adventure</td>\n",
       "      <td>Village Roadshow Pictures|Dune Entertainment|A...</td>\n",
       "      <td>2015-02-04</td>\n",
       "      <td>1937</td>\n",
       "      <td>5.2</td>\n",
       "      <td>2015</td>\n",
       "      <td>1.619199e+08</td>\n",
       "      <td>1.692686e+08</td>\n",
       "      <td>7.348699e+06</td>\n",
       "    </tr>\n",
       "  </tbody>\n",
       "</table>\n",
       "<p>2 rows × 22 columns</p>\n",
       "</div>"
      ],
      "text/plain": [
       "        id    imdb_id  popularity     budget     revenue     original_title  \\\n",
       "8   211672  tt2293640    7.404165   74000000  1156730962            Minions   \n",
       "11   76757  tt1617661    6.189369  176000003   183987723  Jupiter Ascending   \n",
       "\n",
       "                                                 cast  \\\n",
       "8   Sandra Bullock|Jon Hamm|Michael Keaton|Allison...   \n",
       "11  Mila Kunis|Channing Tatum|Sean Bean|Eddie Redm...   \n",
       "\n",
       "                           homepage                        director  \\\n",
       "8      http://www.minionsmovie.com/        Kyle Balda|Pierre Coffin   \n",
       "11  http://www.jupiterascending.com  Lana Wachowski|Lilly Wachowski   \n",
       "\n",
       "                                         tagline  ... runtime  \\\n",
       "8   Before Gru, they had a history of bad bosses  ...      91   \n",
       "11                         Expand your universe.  ...     124   \n",
       "\n",
       "                                      genres  \\\n",
       "8          Family|Animation|Adventure|Comedy   \n",
       "11  Science Fiction|Fantasy|Action|Adventure   \n",
       "\n",
       "                                 production_companies release_date vote_count  \\\n",
       "8       Universal Pictures|Illumination Entertainment   2015-06-17       2893   \n",
       "11  Village Roadshow Pictures|Dune Entertainment|A...   2015-02-04       1937   \n",
       "\n",
       "   vote_average  release_year    budget_adj   revenue_adj    profit_adj  \n",
       "8           6.5          2015  6.807997e+07  1.064192e+09  9.961120e+08  \n",
       "11          5.2          2015  1.619199e+08  1.692686e+08  7.348699e+06  \n",
       "\n",
       "[2 rows x 22 columns]"
      ]
     },
     "execution_count": 22,
     "metadata": {},
     "output_type": "execute_result"
    }
   ],
   "source": [
    "# Checking to see scenerios of multiple directors for one movie\n",
    "dir_subset = df_directors[df_directors['director'].str.contains('\\|')].copy() # Used \"\\|\" because \"|\" is used as \"logical or\" in regex\n",
    "dir_subset.head(2)"
   ]
  },
  {
   "cell_type": "code",
   "execution_count": 23,
   "id": "95f7b8b7",
   "metadata": {},
   "outputs": [],
   "source": [
    "# Spliting directors\n",
    "dir_split = split_column(dir_subset, 'director', '|')"
   ]
  },
  {
   "cell_type": "code",
   "execution_count": 24,
   "id": "a6d0a454",
   "metadata": {},
   "outputs": [
    {
     "data": {
      "text/plain": [
       "(4080, 22)"
      ]
     },
     "execution_count": 24,
     "metadata": {},
     "output_type": "execute_result"
    }
   ],
   "source": [
    "# Drop rows with concatenated directors and append rows with \n",
    "\n",
    "# Droping\n",
    "df_directors.drop(dir_subset.index, inplace=True)\n",
    "\n",
    "# Appending\n",
    "df_directors = df_directors.append(dir_split, ignore_index=True)\n",
    "\n",
    "df_directors.shape"
   ]
  },
  {
   "cell_type": "markdown",
   "id": "ebec1835",
   "metadata": {},
   "source": [
    "#### Top 20 directors based on vote"
   ]
  },
  {
   "cell_type": "code",
   "execution_count": 34,
   "id": "cf56278d",
   "metadata": {},
   "outputs": [
    {
     "data": {
      "text/plain": [
       "director\n",
       "Damien Chazelle       8.200000\n",
       "Xavier Dolan          8.000000\n",
       "Lenny Abrahamson      8.000000\n",
       "Tony Kaye             8.000000\n",
       "Morten Tyldum         8.000000\n",
       "Josh Boone            7.800000\n",
       "Richard Marquand      7.800000\n",
       "Lucy Walker           7.800000\n",
       "Ashutosh Gowariker    7.800000\n",
       "Jaco Van Dormael      7.800000\n",
       "Rajkumar Hirani       7.800000\n",
       "Giuseppe Tornatore    7.700000\n",
       "Ari Folman            7.700000\n",
       "Robert Mulligan       7.700000\n",
       "Ronald Neame          7.700000\n",
       "Irwin Allen           7.700000\n",
       "Christopher Nolan     7.637500\n",
       "Pete Docter           7.633333\n",
       "Dan Gilroy            7.600000\n",
       "Alex Garland          7.600000\n",
       "Name: vote_average, dtype: float64"
      ]
     },
     "execution_count": 34,
     "metadata": {},
     "output_type": "execute_result"
    }
   ],
   "source": [
    "top_20_dir"
   ]
  },
  {
   "cell_type": "code",
   "execution_count": 33,
   "id": "a32b1964",
   "metadata": {},
   "outputs": [
    {
     "data": {
      "image/png": "[encoded data removed]",
      "text/plain": [
       "<Figure size 864x432 with 1 Axes>"
      ]
     },
     "metadata": {
      "needs_background": "light"
     },
     "output_type": "display_data"
    }
   ],
   "source": [
    "top_20_dir = df_directors.groupby('director').vote_average.mean().sort_values(ascending=False).head(20)\n",
    "plt.figure(figsize=(12, 6))\n",
    "plt.bar(top_20_dir.index, top_20_dir, color=std_colors)\n",
    "plt.title('Top 20 Directors Base on Vote')\n",
    "plt.xticks(rotation=90)\n",
    "plt.xlabel('Directos')\n",
    "plt.ylim([7.5, 8.3])\n",
    "plt.ylabel('Votes');"
   ]
  },
  {
   "cell_type": "code",
   "execution_count": 27,
   "id": "82e40731",
   "metadata": {},
   "outputs": [
    {
     "data": {
      "image/png": "[encoded data removed]",
      "text/plain": [
       "<Figure size 864x432 with 1 Axes>"
      ]
     },
     "metadata": {
      "needs_background": "light"
     },
     "output_type": "display_data"
    }
   ],
   "source": [
    "top_20_dir_budget = df_directors.groupby('director').budget_adj.mean()[top_20_dir.index]\n",
    "plt.figure(figsize=(12, 6))\n",
    "plt.bar(top_20_dir_budget.index, top_20_dir_budget, color=std_colors)\n",
    "plt.title('Average Budget of Top 20 Directors Base on Vote')\n",
    "plt.xticks(rotation=90)\n",
    "plt.xlabel('Directos')\n",
    "plt.ylabel('Average Budget');"
   ]
  },
  {
   "cell_type": "code",
   "execution_count": 39,
   "id": "9de141cc",
   "metadata": {},
   "outputs": [
    {
     "data": {
      "image/png": "[encoded data removed]",
      "text/plain": [
       "<Figure size 864x432 with 1 Axes>"
      ]
     },
     "metadata": {
      "needs_background": "light"
     },
     "output_type": "display_data"
    }
   ],
   "source": [
    "top_20_dir_profit = df_directors.groupby('director').profit_adj.mean()[top_20_dir.index]\n",
    "plt.figure(figsize=(12, 6))\n",
    "plt.bar(top_20_dir_profit.index, top_20_dir_profit, color=std_colors)\n",
    "plt.title('Average Profit of Top 20 Directors Base on Vote')\n",
    "plt.xticks(rotation=90)\n",
    "plt.xlabel('Directos')\n",
    "plt.ylabel('Average Profit');"
   ]
  },
  {
   "cell_type": "markdown",
   "id": "ac26ca30",
   "metadata": {},
   "source": [
    "#### Directors of Top 10 highest voted movies"
   ]
  },
  {
   "cell_type": "code",
   "execution_count": 295,
   "id": "a4a98122",
   "metadata": {},
   "outputs": [
    {
     "data": {
      "text/plain": [
       "171          Damien Chazelle\n",
       "633            David Fincher\n",
       "849        Christopher Nolan\n",
       "1295       Quentin Tarantino\n",
       "1296          Frank Darabont\n",
       "1297         Robert Zemeckis\n",
       "2336    Francis Ford Coppola\n",
       "2560          Jonathan Demme\n",
       "3238    Francis Ford Coppola\n",
       "3363        Steven Spielberg\n",
       "Name: director, dtype: object"
      ]
     },
     "execution_count": 295,
     "metadata": {},
     "output_type": "execute_result"
    }
   ],
   "source": [
    "top_directors = df_directors.query('id in @top_10_highest_rated.id').director\n",
    "top_directors"
   ]
  },
  {
   "cell_type": "code",
   "execution_count": 298,
   "id": "ccf1ce47",
   "metadata": {},
   "outputs": [
    {
     "data": {
      "text/plain": [
       "(97, 21)"
      ]
     },
     "execution_count": 298,
     "metadata": {},
     "output_type": "execute_result"
    }
   ],
   "source": [
    "# List of movies of top directors\n",
    "top_directors_movies = df_directors.query('director in @top_directors')\n",
    "top_directors_movies.shape"
   ]
  },
  {
   "cell_type": "markdown",
   "id": "c73aba87",
   "metadata": {},
   "source": [
    "#### Ploting `average`, `min` and `max` vote received top directors movies"
   ]
  },
  {
   "cell_type": "code",
   "execution_count": 344,
   "id": "94630f29",
   "metadata": {},
   "outputs": [
    {
     "data": {
      "image/png": "[encoded data removed]",
      "text/plain": [
       "<Figure size 1080x1080 with 4 Axes>"
      ]
     },
     "metadata": {
      "needs_background": "light"
     },
     "output_type": "display_data"
    }
   ],
   "source": [
    "# Create subplot for the 3 plots\n",
    "fig, axs = plt.subplots(2, 2, figsize=(15, 15))\n",
    "\n",
    "fig.tight_layout(pad=15.0)\n",
    "\n",
    "# Average vote received on top directors movies\n",
    "avg_vote_per_dir = top_directors_movies.groupby('director').mean().vote_average\n",
    "axs[0, 0].bar(avg_vote_per_dir.index, avg_vote_per_dir, color=colors)\n",
    "axs[0, 0].set_title('Average Vote Received on Top Directors Movies')\n",
    "axs[0, 0].set(xlabel='Directors', ylabel='Average Vote')\n",
    "axs[0, 0].tick_params(axis='x', rotation=90)\n",
    "\n",
    "# Min vote received on top directors movies\n",
    "min_vote_per_dir = top_directors_movies.groupby('director').vote_average.min()\n",
    "axs[0, 1].bar(min_vote_per_dir.index, min_vote_per_dir, color=colors)\n",
    "axs[0, 1].set_title('Min Vote Received on Top Directors Movies')\n",
    "axs[0, 1].set(xlabel='Directors', ylabel='Min Vote')\n",
    "axs[0, 1].tick_params(axis='x', rotation=90)\n",
    "\n",
    "# Max vote received on top directors movies\n",
    "max_vote_per_dir = top_directors_movies.groupby('director').vote_average.max()\n",
    "axs[1, 0].plot(max_vote_per_dir.index, max_vote_per_dir)\n",
    "axs[1, 0].set_title('Max Vote Received on Top Directors Movies')\n",
    "axs[1, 0].set(xlabel='Directors', ylabel='Max Vote')\n",
    "axs[1, 0].tick_params(axis='x', rotation=90);"
   ]
  },
  {
   "cell_type": "code",
   "execution_count": null,
   "id": "5a1c3762",
   "metadata": {},
   "outputs": [],
   "source": []
  }
 ],
 "metadata": {
  "kernelspec": {
   "display_name": "Python 3 (ipykernel)",
   "language": "python",
   "name": "python3"
  },
  "language_info": {
   "codemirror_mode": {
    "name": "ipython",
    "version": 3
   },
   "file_extension": ".py",
   "mimetype": "text/x-python",
   "name": "python",
   "nbconvert_exporter": "python",
   "pygments_lexer": "ipython3",
   "version": "3.9.5"
  }
 },
 "nbformat": 4,
 "nbformat_minor": 5
}
